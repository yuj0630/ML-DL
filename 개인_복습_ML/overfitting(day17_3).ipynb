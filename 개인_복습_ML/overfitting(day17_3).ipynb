{
 "cells": [
  {
   "cell_type": "markdown",
   "id": "6ec3bb17",
   "metadata": {},
   "source": [
    "# 머신러닝의 난제"
   ]
  },
  {
   "cell_type": "raw",
   "id": "c395be1f",
   "metadata": {},
   "source": [
    "> 우리가 머신러닝 기법을 통해 학습 데이터로부터 모델 학습을 완료하면, 실제 현장의 데이터를 입력해 사용합니다. 학습된 모델에 실제 데이터를 입력해 결과를 찾는 것을 '추론(inference)'이라고 합니다.  \n",
    "  \n",
    "> 이렇게 학습 데이터로 열심히 모델을 학습해도, 실제 데이터를 입력하니 제대로 작동하지 않을 수 있습니다. 그 이유는 학습 데이터는 실제 데이터의 부분집합이기 때문에 모든 상황에 맞는 모델 학습을 할 수 없기 때문입니다. 머신러닝의 모든 문제는 여기서 발생한다고 볼 수 있습니다.  \n",
    "\n",
    "> 따라서 머신러닝 기법을 사용할 때는 실제 데이터의 특성이 잘 반영되어 있고 편향되지 않은 학습 데이터를 확보하는 것이 아주 중요합니다. 학습 데이터와 실제 데이터가 달라져도 성능 차이가 나지 않게 하는 것 '일반화(generalization)'라고 한다. \n",
    "  \n",
    "하기 과적합과 과소적합이 대표적인 일반화를 떨어뜨리는 주범 중에 하나입니다."
   ]
  },
  {
   "cell_type": "markdown",
   "id": "045d9b58",
   "metadata": {},
   "source": [
    "# 일반화"
   ]
  },
  {
   "cell_type": "raw",
   "id": "ee1d49b8",
   "metadata": {},
   "source": [
    "테스트 데이터에서 만들어내는 오차\n",
    "훈련 데이터에서와 같이 테스트 데이터에서도 좋은 성능을 내는 모델은 일반화가 잘 된 모델\n",
    "모델이 너무 과하게 학습을 하지 않도록 하는 많은 일반화 방법 존재"
   ]
  },
  {
   "cell_type": "markdown",
   "id": "54bd246a",
   "metadata": {},
   "source": [
    "### 과대적합"
   ]
  },
  {
   "cell_type": "raw",
   "id": "22300d02",
   "metadata": {},
   "source": [
    "모델이 학습 데이터에 필요 이상으로 적합\n",
    "데이터 내의 존재하는 규칙뿐만 아니라 불완전한 샘플도 학습"
   ]
  },
  {
   "cell_type": "markdown",
   "id": "768fec5d",
   "metadata": {},
   "source": [
    "### 과소적합"
   ]
  },
  {
   "cell_type": "raw",
   "id": "3a3f7e66",
   "metadata": {},
   "source": [
    "모델이 학습데이터에 제대로 적합하지 못함\n",
    "데이터 내에 존재하는 규칙도 제대로 학습 못함"
   ]
  },
  {
   "cell_type": "markdown",
   "id": "8084054e",
   "metadata": {},
   "source": [
    "# 예제"
   ]
  },
  {
   "cell_type": "code",
   "execution_count": 2,
   "id": "d367a8dc",
   "metadata": {},
   "outputs": [],
   "source": [
    "import seaborn as sns\n",
    "\n",
    "df = sns.load_dataset('titanic')"
   ]
  },
  {
   "cell_type": "code",
   "execution_count": 3,
   "id": "dfff09d8",
   "metadata": {},
   "outputs": [],
   "source": [
    "cols = [\"age\", \"sibsp\", \"parch\", \"fare\"]\n",
    "features = df[cols]\n",
    "target = df[\"survived\"]"
   ]
  },
  {
   "cell_type": "code",
   "execution_count": 5,
   "id": "97633149",
   "metadata": {},
   "outputs": [
    {
     "data": {
      "text/html": [
       "<div>\n",
       "<style scoped>\n",
       "    .dataframe tbody tr th:only-of-type {\n",
       "        vertical-align: middle;\n",
       "    }\n",
       "\n",
       "    .dataframe tbody tr th {\n",
       "        vertical-align: top;\n",
       "    }\n",
       "\n",
       "    .dataframe thead th {\n",
       "        text-align: right;\n",
       "    }\n",
       "</style>\n",
       "<table border=\"1\" class=\"dataframe\">\n",
       "  <thead>\n",
       "    <tr style=\"text-align: right;\">\n",
       "      <th></th>\n",
       "      <th>age</th>\n",
       "      <th>sibsp</th>\n",
       "      <th>parch</th>\n",
       "      <th>fare</th>\n",
       "      <th>pclass_1</th>\n",
       "      <th>pclass_2</th>\n",
       "      <th>pclass_3</th>\n",
       "      <th>sex_female</th>\n",
       "      <th>sex_male</th>\n",
       "      <th>embarked_C</th>\n",
       "      <th>embarked_Q</th>\n",
       "      <th>embarked_S</th>\n",
       "      <th>embarked_nan</th>\n",
       "    </tr>\n",
       "  </thead>\n",
       "  <tbody>\n",
       "    <tr>\n",
       "      <th>0</th>\n",
       "      <td>22.0</td>\n",
       "      <td>1</td>\n",
       "      <td>0</td>\n",
       "      <td>7.2500</td>\n",
       "      <td>0.0</td>\n",
       "      <td>0.0</td>\n",
       "      <td>1.0</td>\n",
       "      <td>0.0</td>\n",
       "      <td>1.0</td>\n",
       "      <td>0.0</td>\n",
       "      <td>0.0</td>\n",
       "      <td>1.0</td>\n",
       "      <td>0.0</td>\n",
       "    </tr>\n",
       "    <tr>\n",
       "      <th>1</th>\n",
       "      <td>38.0</td>\n",
       "      <td>1</td>\n",
       "      <td>0</td>\n",
       "      <td>71.2833</td>\n",
       "      <td>1.0</td>\n",
       "      <td>0.0</td>\n",
       "      <td>0.0</td>\n",
       "      <td>1.0</td>\n",
       "      <td>0.0</td>\n",
       "      <td>1.0</td>\n",
       "      <td>0.0</td>\n",
       "      <td>0.0</td>\n",
       "      <td>0.0</td>\n",
       "    </tr>\n",
       "    <tr>\n",
       "      <th>2</th>\n",
       "      <td>26.0</td>\n",
       "      <td>0</td>\n",
       "      <td>0</td>\n",
       "      <td>7.9250</td>\n",
       "      <td>0.0</td>\n",
       "      <td>0.0</td>\n",
       "      <td>1.0</td>\n",
       "      <td>1.0</td>\n",
       "      <td>0.0</td>\n",
       "      <td>0.0</td>\n",
       "      <td>0.0</td>\n",
       "      <td>1.0</td>\n",
       "      <td>0.0</td>\n",
       "    </tr>\n",
       "    <tr>\n",
       "      <th>3</th>\n",
       "      <td>35.0</td>\n",
       "      <td>1</td>\n",
       "      <td>0</td>\n",
       "      <td>53.1000</td>\n",
       "      <td>1.0</td>\n",
       "      <td>0.0</td>\n",
       "      <td>0.0</td>\n",
       "      <td>1.0</td>\n",
       "      <td>0.0</td>\n",
       "      <td>0.0</td>\n",
       "      <td>0.0</td>\n",
       "      <td>1.0</td>\n",
       "      <td>0.0</td>\n",
       "    </tr>\n",
       "    <tr>\n",
       "      <th>4</th>\n",
       "      <td>35.0</td>\n",
       "      <td>0</td>\n",
       "      <td>0</td>\n",
       "      <td>8.0500</td>\n",
       "      <td>0.0</td>\n",
       "      <td>0.0</td>\n",
       "      <td>1.0</td>\n",
       "      <td>0.0</td>\n",
       "      <td>1.0</td>\n",
       "      <td>0.0</td>\n",
       "      <td>0.0</td>\n",
       "      <td>1.0</td>\n",
       "      <td>0.0</td>\n",
       "    </tr>\n",
       "  </tbody>\n",
       "</table>\n",
       "</div>"
      ],
      "text/plain": [
       "    age  sibsp  parch     fare  pclass_1  pclass_2  pclass_3  sex_female  \\\n",
       "0  22.0      1      0   7.2500       0.0       0.0       1.0         0.0   \n",
       "1  38.0      1      0  71.2833       1.0       0.0       0.0         1.0   \n",
       "2  26.0      0      0   7.9250       0.0       0.0       1.0         1.0   \n",
       "3  35.0      1      0  53.1000       1.0       0.0       0.0         1.0   \n",
       "4  35.0      0      0   8.0500       0.0       0.0       1.0         0.0   \n",
       "\n",
       "   sex_male  embarked_C  embarked_Q  embarked_S  embarked_nan  \n",
       "0       1.0         0.0         0.0         1.0           0.0  \n",
       "1       0.0         1.0         0.0         0.0           0.0  \n",
       "2       0.0         0.0         0.0         1.0           0.0  \n",
       "3       0.0         0.0         0.0         1.0           0.0  \n",
       "4       1.0         0.0         0.0         1.0           0.0  "
      ]
     },
     "execution_count": 5,
     "metadata": {},
     "output_type": "execute_result"
    }
   ],
   "source": [
    "import pandas as pd\n",
    "from sklearn.preprocessing import OneHotEncoder\n",
    "\n",
    "cols = [\"pclass\", \"sex\", \"embarked\"]\n",
    "enc = OneHotEncoder()\n",
    "tmp = pd.DataFrame(\n",
    "    enc.fit_transform(df[cols]).toarray(), # OneHotEncoder\n",
    "    columns = enc.get_feature_names_out()  # 자료형 모두 이름으로 붙여서 내놓기\n",
    ")\n",
    "tmp\n",
    "features = pd.concat([features,tmp],axis=1) # 데이터 합치기 -> 7개에서 13개로 데이터 다양성 증가\n",
    "features.head()"
   ]
  },
  {
   "cell_type": "code",
   "execution_count": 6,
   "id": "1212be05",
   "metadata": {},
   "outputs": [
    {
     "data": {
      "text/plain": [
       "0"
      ]
     },
     "execution_count": 6,
     "metadata": {},
     "output_type": "execute_result"
    }
   ],
   "source": [
    "features.age = features.age.fillna(-1)\n",
    "features.isnull().sum().sum() # null 전체 합"
   ]
  },
  {
   "cell_type": "code",
   "execution_count": 8,
   "id": "155a2f6f",
   "metadata": {},
   "outputs": [
    {
     "data": {
      "text/plain": [
       "((712, 13), (179, 13), (712,), (179,))"
      ]
     },
     "execution_count": 8,
     "metadata": {},
     "output_type": "execute_result"
    }
   ],
   "source": [
    "from sklearn.model_selection import train_test_split\n",
    "SEED = 42\n",
    "\n",
    "x_train, x_valid, y_train, y_valid = train_test_split(features, target, random_state=SEED, test_size=0.2)\n",
    "\n",
    "x_train.shape, x_valid.shape, y_train.shape, y_valid.shape"
   ]
  },
  {
   "cell_type": "markdown",
   "id": "6e304b08",
   "metadata": {},
   "source": [
    "# 모델 복잡도에 따른 overfitting "
   ]
  },
  {
   "cell_type": "code",
   "execution_count": 9,
   "id": "6efecca2",
   "metadata": {},
   "outputs": [
    {
     "data": {
      "text/plain": [
       "(0.9803370786516854, 0.770949720670391)"
      ]
     },
     "execution_count": 9,
     "metadata": {},
     "output_type": "execute_result"
    }
   ],
   "source": [
    "from sklearn.tree import DecisionTreeClassifier\n",
    "SEED = 42\n",
    "\n",
    "model = DecisionTreeClassifier(max_depth=20, random_state=SEED)\n",
    "model.fit(x_train, y_train)\n",
    "model.score(x_train, y_train), model.score(x_valid, y_valid) # train, test"
   ]
  },
  {
   "cell_type": "markdown",
   "id": "27c85534",
   "metadata": {},
   "source": [
    "# 모델 복잡도를 줄인 예제"
   ]
  },
  {
   "cell_type": "code",
   "execution_count": 10,
   "id": "5739d948",
   "metadata": {},
   "outputs": [
    {
     "data": {
      "text/plain": [
       "(0.8146067415730337, 0.7932960893854749)"
      ]
     },
     "execution_count": 10,
     "metadata": {},
     "output_type": "execute_result"
    }
   ],
   "source": [
    "model = DecisionTreeClassifier(max_depth=3, random_state=SEED)\n",
    "model.fit(x_train, y_train) #depth를 줄여서 정확도를 높임\n",
    "model.score(x_train, y_train), model.score(x_valid, y_valid)"
   ]
  }
 ],
 "metadata": {
  "kernelspec": {
   "display_name": "Python 3 (ipykernel)",
   "language": "python",
   "name": "python3"
  },
  "language_info": {
   "codemirror_mode": {
    "name": "ipython",
    "version": 3
   },
   "file_extension": ".py",
   "mimetype": "text/x-python",
   "name": "python",
   "nbconvert_exporter": "python",
   "pygments_lexer": "ipython3",
   "version": "3.10.9"
  }
 },
 "nbformat": 4,
 "nbformat_minor": 5
}
