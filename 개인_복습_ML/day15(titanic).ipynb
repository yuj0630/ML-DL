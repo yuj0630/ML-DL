{
 "cells": [
  {
   "cell_type": "markdown",
   "id": "0aa8944a",
   "metadata": {},
   "source": [
    "# 데이터 로드"
   ]
  },
  {
   "cell_type": "code",
   "execution_count": 2,
   "id": "a9305693",
   "metadata": {},
   "outputs": [],
   "source": [
    "import numpy as np\n",
    "import pandas as pd\n",
    "import seaborn as sns\n",
    "import matplotlib.pyplot as plt"
   ]
  },
  {
   "cell_type": "code",
   "execution_count": 3,
   "id": "17b6b6b4",
   "metadata": {},
   "outputs": [],
   "source": [
    "DATA_PATH = \"./data/titanic/\"\n",
    "\n",
    "df = pd.read_csv(DATA_PATH+'train.csv')\n",
    "SEED = 42"
   ]
  },
  {
   "cell_type": "code",
   "execution_count": 4,
   "id": "c71fc45e",
   "metadata": {},
   "outputs": [
    {
     "data": {
      "text/plain": [
       "((891, 12),\n",
       " Index(['PassengerId', 'Survived', 'Pclass', 'Name', 'Sex', 'Age', 'SibSp',\n",
       "        'Parch', 'Ticket', 'Fare', 'Cabin', 'Embarked'],\n",
       "       dtype='object'))"
      ]
     },
     "execution_count": 4,
     "metadata": {},
     "output_type": "execute_result"
    }
   ],
   "source": [
    "df.shape, df.columns"
   ]
  },
  {
   "cell_type": "code",
   "execution_count": 5,
   "id": "9f1d8b39",
   "metadata": {},
   "outputs": [
    {
     "data": {
      "text/plain": [
       "Index(['passengerid', 'survived', 'pclass', 'name', 'sex', 'age', 'sibsp',\n",
       "       'parch', 'ticket', 'fare', 'cabin', 'embarked'],\n",
       "      dtype='object')"
      ]
     },
     "execution_count": 5,
     "metadata": {},
     "output_type": "execute_result"
    }
   ],
   "source": [
    "df.columns = [col.lower() for col in df.columns]\n",
    "df.columns"
   ]
  },
  {
   "cell_type": "markdown",
   "id": "d6eba7cd",
   "metadata": {},
   "source": [
    "# 데이터 확인"
   ]
  },
  {
   "cell_type": "code",
   "execution_count": 6,
   "id": "ae6d2a16",
   "metadata": {},
   "outputs": [
    {
     "data": {
      "text/html": [
       "<div>\n",
       "<style scoped>\n",
       "    .dataframe tbody tr th:only-of-type {\n",
       "        vertical-align: middle;\n",
       "    }\n",
       "\n",
       "    .dataframe tbody tr th {\n",
       "        vertical-align: top;\n",
       "    }\n",
       "\n",
       "    .dataframe thead th {\n",
       "        text-align: right;\n",
       "    }\n",
       "</style>\n",
       "<table border=\"1\" class=\"dataframe\">\n",
       "  <thead>\n",
       "    <tr style=\"text-align: right;\">\n",
       "      <th></th>\n",
       "      <th>passengerid</th>\n",
       "      <th>survived</th>\n",
       "      <th>pclass</th>\n",
       "      <th>name</th>\n",
       "      <th>sex</th>\n",
       "      <th>age</th>\n",
       "      <th>sibsp</th>\n",
       "      <th>parch</th>\n",
       "      <th>ticket</th>\n",
       "      <th>fare</th>\n",
       "      <th>cabin</th>\n",
       "      <th>embarked</th>\n",
       "    </tr>\n",
       "  </thead>\n",
       "  <tbody>\n",
       "    <tr>\n",
       "      <th>0</th>\n",
       "      <td>1</td>\n",
       "      <td>0</td>\n",
       "      <td>3</td>\n",
       "      <td>Braund, Mr. Owen Harris</td>\n",
       "      <td>male</td>\n",
       "      <td>22.0</td>\n",
       "      <td>1</td>\n",
       "      <td>0</td>\n",
       "      <td>A/5 21171</td>\n",
       "      <td>7.2500</td>\n",
       "      <td>NaN</td>\n",
       "      <td>S</td>\n",
       "    </tr>\n",
       "    <tr>\n",
       "      <th>1</th>\n",
       "      <td>2</td>\n",
       "      <td>1</td>\n",
       "      <td>1</td>\n",
       "      <td>Cumings, Mrs. John Bradley (Florence Briggs Th...</td>\n",
       "      <td>female</td>\n",
       "      <td>38.0</td>\n",
       "      <td>1</td>\n",
       "      <td>0</td>\n",
       "      <td>PC 17599</td>\n",
       "      <td>71.2833</td>\n",
       "      <td>C85</td>\n",
       "      <td>C</td>\n",
       "    </tr>\n",
       "    <tr>\n",
       "      <th>2</th>\n",
       "      <td>3</td>\n",
       "      <td>1</td>\n",
       "      <td>3</td>\n",
       "      <td>Heikkinen, Miss. Laina</td>\n",
       "      <td>female</td>\n",
       "      <td>26.0</td>\n",
       "      <td>0</td>\n",
       "      <td>0</td>\n",
       "      <td>STON/O2. 3101282</td>\n",
       "      <td>7.9250</td>\n",
       "      <td>NaN</td>\n",
       "      <td>S</td>\n",
       "    </tr>\n",
       "    <tr>\n",
       "      <th>3</th>\n",
       "      <td>4</td>\n",
       "      <td>1</td>\n",
       "      <td>1</td>\n",
       "      <td>Futrelle, Mrs. Jacques Heath (Lily May Peel)</td>\n",
       "      <td>female</td>\n",
       "      <td>35.0</td>\n",
       "      <td>1</td>\n",
       "      <td>0</td>\n",
       "      <td>113803</td>\n",
       "      <td>53.1000</td>\n",
       "      <td>C123</td>\n",
       "      <td>S</td>\n",
       "    </tr>\n",
       "    <tr>\n",
       "      <th>4</th>\n",
       "      <td>5</td>\n",
       "      <td>0</td>\n",
       "      <td>3</td>\n",
       "      <td>Allen, Mr. William Henry</td>\n",
       "      <td>male</td>\n",
       "      <td>35.0</td>\n",
       "      <td>0</td>\n",
       "      <td>0</td>\n",
       "      <td>373450</td>\n",
       "      <td>8.0500</td>\n",
       "      <td>NaN</td>\n",
       "      <td>S</td>\n",
       "    </tr>\n",
       "  </tbody>\n",
       "</table>\n",
       "</div>"
      ],
      "text/plain": [
       "   passengerid  survived  pclass  \\\n",
       "0            1         0       3   \n",
       "1            2         1       1   \n",
       "2            3         1       3   \n",
       "3            4         1       1   \n",
       "4            5         0       3   \n",
       "\n",
       "                                                name     sex   age  sibsp  \\\n",
       "0                            Braund, Mr. Owen Harris    male  22.0      1   \n",
       "1  Cumings, Mrs. John Bradley (Florence Briggs Th...  female  38.0      1   \n",
       "2                             Heikkinen, Miss. Laina  female  26.0      0   \n",
       "3       Futrelle, Mrs. Jacques Heath (Lily May Peel)  female  35.0      1   \n",
       "4                           Allen, Mr. William Henry    male  35.0      0   \n",
       "\n",
       "   parch            ticket     fare cabin embarked  \n",
       "0      0         A/5 21171   7.2500   NaN        S  \n",
       "1      0          PC 17599  71.2833   C85        C  \n",
       "2      0  STON/O2. 3101282   7.9250   NaN        S  \n",
       "3      0            113803  53.1000  C123        S  \n",
       "4      0            373450   8.0500   NaN        S  "
      ]
     },
     "execution_count": 6,
     "metadata": {},
     "output_type": "execute_result"
    }
   ],
   "source": [
    "df.head()"
   ]
  },
  {
   "cell_type": "markdown",
   "id": "6be9f3d5",
   "metadata": {},
   "source": [
    "# 타겟 데이터 확인"
   ]
  },
  {
   "cell_type": "code",
   "execution_count": 7,
   "id": "2e9b7217",
   "metadata": {},
   "outputs": [
    {
     "data": {
      "text/plain": [
       "[0, 1, 1, 1, 0]\n",
       "Categories (2, int64): [0, 1]"
      ]
     },
     "execution_count": 7,
     "metadata": {},
     "output_type": "execute_result"
    }
   ],
   "source": [
    "new_survived = pd.Categorical(df[\"survived\"])\n",
    "new_survived[:5]"
   ]
  },
  {
   "cell_type": "code",
   "execution_count": 9,
   "id": "631c509d",
   "metadata": {},
   "outputs": [
    {
     "name": "stdout",
     "output_type": "stream",
     "text": [
      "[0, 1, 1, 1, 0]\n",
      "Categories (2, int64): [0, 1]\n"
     ]
    },
    {
     "data": {
      "text/html": [
       "<div>\n",
       "<style scoped>\n",
       "    .dataframe tbody tr th:only-of-type {\n",
       "        vertical-align: middle;\n",
       "    }\n",
       "\n",
       "    .dataframe tbody tr th {\n",
       "        vertical-align: top;\n",
       "    }\n",
       "\n",
       "    .dataframe thead th {\n",
       "        text-align: right;\n",
       "    }\n",
       "</style>\n",
       "<table border=\"1\" class=\"dataframe\">\n",
       "  <thead>\n",
       "    <tr style=\"text-align: right;\">\n",
       "      <th></th>\n",
       "      <th>counts</th>\n",
       "      <th>freqs</th>\n",
       "    </tr>\n",
       "    <tr>\n",
       "      <th>categories</th>\n",
       "      <th></th>\n",
       "      <th></th>\n",
       "    </tr>\n",
       "  </thead>\n",
       "  <tbody>\n",
       "    <tr>\n",
       "      <th>0</th>\n",
       "      <td>549</td>\n",
       "      <td>0.616162</td>\n",
       "    </tr>\n",
       "    <tr>\n",
       "      <th>1</th>\n",
       "      <td>342</td>\n",
       "      <td>0.383838</td>\n",
       "    </tr>\n",
       "  </tbody>\n",
       "</table>\n",
       "</div>"
      ],
      "text/plain": [
       "            counts     freqs\n",
       "categories                  \n",
       "0              549  0.616162\n",
       "1              342  0.383838"
      ]
     },
     "execution_count": 9,
     "metadata": {},
     "output_type": "execute_result"
    }
   ],
   "source": [
    "new_survived = pd.Categorical(df[\"survived\"])\n",
    "new = new_survived.rename_categories([\"died\", \"Survived\"])\n",
    "print(new_survived[:5])\n",
    "new_survived.describe()"
   ]
  },
  {
   "cell_type": "code",
   "execution_count": 10,
   "id": "06caee17",
   "metadata": {},
   "outputs": [
    {
     "name": "stdout",
     "output_type": "stream",
     "text": [
      "Requirement already satisfied: scikit-learn in c:\\users\\playdata\\appdata\\local\\programs\\python\\python310\\lib\\site-packages (1.2.1)\n",
      "Requirement already satisfied: joblib>=1.1.1 in c:\\users\\playdata\\appdata\\local\\programs\\python\\python310\\lib\\site-packages (from scikit-learn) (1.2.0)\n",
      "Requirement already satisfied: threadpoolctl>=2.0.0 in c:\\users\\playdata\\appdata\\local\\programs\\python\\python310\\lib\\site-packages (from scikit-learn) (3.1.0)\n",
      "Requirement already satisfied: scipy>=1.3.2 in c:\\users\\playdata\\appdata\\local\\programs\\python\\python310\\lib\\site-packages (from scikit-learn) (1.10.0)\n",
      "Requirement already satisfied: numpy>=1.17.3 in c:\\users\\playdata\\appdata\\local\\programs\\python\\python310\\lib\\site-packages (from scikit-learn) (1.24.2)\n"
     ]
    }
   ],
   "source": [
    "!pip install scikit-learn"
   ]
  },
  {
   "cell_type": "code",
   "execution_count": 12,
   "id": "488147a9",
   "metadata": {},
   "outputs": [],
   "source": [
    "from sklearn.model_selection import train_test_split"
   ]
  },
  {
   "cell_type": "code",
   "execution_count": 14,
   "id": "78776e73",
   "metadata": {},
   "outputs": [
    {
     "data": {
      "text/plain": [
       "((712, 11), (179, 11))"
      ]
     },
     "execution_count": 14,
     "metadata": {},
     "output_type": "execute_result"
    }
   ],
   "source": [
    "X = df.drop('survived', axis=1)\n",
    "y = df['survived']\n",
    "\n",
    "X_tr, X_te, y_tr, y_te = train_test_split(X, y, random_state=SEED, test_size = 0.2)\n",
    "X_tr = X_tr.reset_index(drop=True)\n",
    "X_te = X_te.reset_index(drop=True)\n",
    "\n",
    "X_tr.shape, X_te.shape"
   ]
  },
  {
   "cell_type": "code",
   "execution_count": 15,
   "id": "baa7c8da",
   "metadata": {},
   "outputs": [
    {
     "name": "stdout",
     "output_type": "stream",
     "text": [
      "['Died', 'Died', 'Died', 'Died', 'Died']\n",
      "Categories (2, object): ['Died', 'Survived']\n"
     ]
    },
    {
     "data": {
      "text/html": [
       "<div>\n",
       "<style scoped>\n",
       "    .dataframe tbody tr th:only-of-type {\n",
       "        vertical-align: middle;\n",
       "    }\n",
       "\n",
       "    .dataframe tbody tr th {\n",
       "        vertical-align: top;\n",
       "    }\n",
       "\n",
       "    .dataframe thead th {\n",
       "        text-align: right;\n",
       "    }\n",
       "</style>\n",
       "<table border=\"1\" class=\"dataframe\">\n",
       "  <thead>\n",
       "    <tr style=\"text-align: right;\">\n",
       "      <th></th>\n",
       "      <th>counts</th>\n",
       "      <th>freqs</th>\n",
       "    </tr>\n",
       "    <tr>\n",
       "      <th>categories</th>\n",
       "      <th></th>\n",
       "      <th></th>\n",
       "    </tr>\n",
       "  </thead>\n",
       "  <tbody>\n",
       "    <tr>\n",
       "      <th>Died</th>\n",
       "      <td>444</td>\n",
       "      <td>0.623596</td>\n",
       "    </tr>\n",
       "    <tr>\n",
       "      <th>Survived</th>\n",
       "      <td>268</td>\n",
       "      <td>0.376404</td>\n",
       "    </tr>\n",
       "  </tbody>\n",
       "</table>\n",
       "</div>"
      ],
      "text/plain": [
       "            counts     freqs\n",
       "categories                  \n",
       "Died           444  0.623596\n",
       "Survived       268  0.376404"
      ]
     },
     "execution_count": 15,
     "metadata": {},
     "output_type": "execute_result"
    }
   ],
   "source": [
    "new_survived = pd.Categorical(y_tr)\n",
    "new_survived = new_survived.rename_categories([\"Died\", \"Survived\"])\n",
    "print(new_survived[:5])\n",
    "new_survived.describe()"
   ]
  },
  {
   "cell_type": "markdown",
   "id": "76f9b263",
   "metadata": {},
   "source": [
    "# Data Cleaning"
   ]
  },
  {
   "cell_type": "raw",
   "id": "55125bd4",
   "metadata": {},
   "source": [
    "데이터를 올바르고 효율적으로 사용하기 위해서는 좋은 데이터를 사용해야 합니다. 좋은 데이터는 완결성, 유일성, 통일성을 특정을 갖습니다.\n",
    "하지만 항상 결측치 제거, 이상치 제거, 데이터 정규화 등을 하는 것이 좋은 것은 아니며, 경우에 따라 Data cleaning을 하는 것이 좋습니다."
   ]
  },
  {
   "cell_type": "markdown",
   "id": "7308ba32",
   "metadata": {},
   "source": [
    "#### 완결성"
   ]
  },
  {
   "cell_type": "markdown",
   "id": "6a88efa6",
   "metadata": {},
   "source": [
    "결측값을 가능하면 제거해야 합니다."
   ]
  },
  {
   "cell_type": "markdown",
   "id": "9df5cc75",
   "metadata": {},
   "source": [
    "#### 유일성"
   ]
  },
  {
   "cell_type": "markdown",
   "id": "c04e5ac0",
   "metadata": {},
   "source": [
    "중복 데이터가 있으면 안됩니다. "
   ]
  },
  {
   "cell_type": "markdown",
   "id": "21ac97da",
   "metadata": {},
   "source": [
    "# 중복 데이터 처리"
   ]
  },
  {
   "cell_type": "code",
   "execution_count": 17,
   "id": "ad8170d0",
   "metadata": {},
   "outputs": [
    {
     "name": "stdout",
     "output_type": "stream",
     "text": [
      "before: (891, 12)\n",
      "after: (891, 12)\n"
     ]
    }
   ],
   "source": [
    "#중복 제거\n",
    "print(f'before: {df.shape}')\n",
    "df.drop_duplicates(keep='first', inplace=True, ignore_index=True)\n",
    "# df.drop_duplicates(keep='first', inplace=False, ignore_index=True) : duplicate 문이 중복 데이터 삭제\n",
    "print(f'after: {df.shape}')"
   ]
  },
  {
   "cell_type": "raw",
   "id": "f741b303",
   "metadata": {},
   "source": [
    "df.columns"
   ]
  },
  {
   "cell_type": "code",
   "execution_count": 19,
   "id": "e3191f55",
   "metadata": {},
   "outputs": [
    {
     "data": {
      "text/plain": [
       "(891, 891)"
      ]
     },
     "execution_count": 19,
     "metadata": {},
     "output_type": "execute_result"
    }
   ],
   "source": [
    "df['passengerid'].nunique(), df.shape[0]"
   ]
  },
  {
   "cell_type": "markdown",
   "id": "4537d91f",
   "metadata": {},
   "source": [
    "# 결측치"
   ]
  },
  {
   "cell_type": "raw",
   "id": "77b298f6",
   "metadata": {},
   "source": [
    "결측치를 모두 제거하면 막대한 데이터 손실이 일어남\n",
    "결측치를 잘 못 대처할 경우 데이터에서 편향이 일어남(한 쪽 쏠림 현상)"
   ]
  },
  {
   "cell_type": "markdown",
   "id": "f4272b45",
   "metadata": {},
   "source": [
    "# 결측치 유형 파악"
   ]
  },
  {
   "cell_type": "markdown",
   "id": "8a55a373",
   "metadata": {},
   "source": [
    "#### 완전 무작위 결측"
   ]
  },
  {
   "cell_type": "raw",
   "id": "ba574323",
   "metadata": {},
   "source": [
    "X1, X2, X3라는 특성이 있다고 가정합니다. 이때, X2열의 결측치가 X1, X2, X3 열의 다른 값들과 아무런 상관관계가 없을 경우\n",
    "이를 완전 무작위 결측이라고 합니다."
   ]
  },
  {
   "cell_type": "markdown",
   "id": "c8b4ca94",
   "metadata": {},
   "source": [
    "#### 무작위 결측"
   ]
  },
  {
   "cell_type": "raw",
   "id": "c763d190",
   "metadata": {},
   "source": [
    "X1, X2, X3라는 특성이 있다고 가정합니다. 이때, X2열의 결측치가 X1, X2, X3 열의 다른 값들에 특정한 상관관계가 있을 경우\n",
    "이를 무작위 결측이라고 합니다."
   ]
  },
  {
   "cell_type": "markdown",
   "id": "0e951a8c",
   "metadata": {},
   "source": [
    "#### 비무작위 결측"
   ]
  },
  {
   "cell_type": "raw",
   "id": "0ae2e05b",
   "metadata": {},
   "source": [
    "X1, X2, X3라는 특성이 있다고 가정합니다. 이때, X2열의 결측치가 다른 값과는 없지만 자기 자신의 값에 영향을 받는 것이 있을 경우\n",
    "이를 비무작위 결측이라고 합니다."
   ]
  },
  {
   "cell_type": "markdown",
   "id": "24d74aa1",
   "metadata": {},
   "source": [
    "# 결측치 탐색"
   ]
  },
  {
   "cell_type": "code",
   "execution_count": 23,
   "id": "8f973ba2",
   "metadata": {},
   "outputs": [
    {
     "data": {
      "text/plain": [
       "cabin          77.6685\n",
       "age            19.6629\n",
       "embarked        0.2809\n",
       "passengerid     0.0000\n",
       "pclass          0.0000\n",
       "name            0.0000\n",
       "sex             0.0000\n",
       "sibsp           0.0000\n",
       "parch           0.0000\n",
       "ticket          0.0000\n",
       "fare            0.0000\n",
       "dtype: float64"
      ]
     },
     "execution_count": 23,
     "metadata": {},
     "output_type": "execute_result"
    }
   ],
   "source": [
    "(X_tr.isnull().sum() / X_tr.shape[0] * 100).round(4).sort_values(ascending=False) # 각 컬럼별 결측치 비율"
   ]
  },
  {
   "cell_type": "code",
   "execution_count": 24,
   "id": "4f2d9121",
   "metadata": {},
   "outputs": [
    {
     "name": "stdout",
     "output_type": "stream",
     "text": [
      "<class 'pandas.core.frame.DataFrame'>\n",
      "RangeIndex: 712 entries, 0 to 711\n",
      "Data columns (total 11 columns):\n",
      " #   Column       Non-Null Count  Dtype  \n",
      "---  ------       --------------  -----  \n",
      " 0   passengerid  712 non-null    int64  \n",
      " 1   pclass       712 non-null    int64  \n",
      " 2   name         712 non-null    object \n",
      " 3   sex          712 non-null    object \n",
      " 4   age          572 non-null    float64\n",
      " 5   sibsp        712 non-null    int64  \n",
      " 6   parch        712 non-null    int64  \n",
      " 7   ticket       712 non-null    object \n",
      " 8   fare         712 non-null    float64\n",
      " 9   cabin        159 non-null    object \n",
      " 10  embarked     710 non-null    object \n",
      "dtypes: float64(2), int64(4), object(5)\n",
      "memory usage: 61.3+ KB\n"
     ]
    }
   ],
   "source": [
    "X_tr.info()"
   ]
  },
  {
   "cell_type": "code",
   "execution_count": 26,
   "id": "655ac98a",
   "metadata": {},
   "outputs": [
    {
     "data": {
      "text/plain": [
       "<AxesSubplot: >"
      ]
     },
     "execution_count": 26,
     "metadata": {},
     "output_type": "execute_result"
    },
    {
     "data": {
      "image/png": "[encoded data removed]",
      "text/plain": [
       "<Figure size 640x480 with 1 Axes>"
      ]
     },
     "metadata": {},
     "output_type": "display_data"
    }
   ],
   "source": [
    "sns.heatmap(df.isnull(), yticklabels = False, cbar = False, cmap = 'viridis') # 결측치 위치 체크"
   ]
  },
  {
   "cell_type": "code",
   "execution_count": 27,
   "id": "3ac437aa",
   "metadata": {},
   "outputs": [
    {
     "data": {
      "text/plain": [
       "Text(0.5, 1.0, 'Total Missing Value(%)')"
      ]
     },
     "execution_count": 27,
     "metadata": {},
     "output_type": "execute_result"
    },
    {
     "data": {
      "image/png": "[encoded data removed]",
      "text/plain": [
       "<Figure size 800x600 with 1 Axes>"
      ]
     },
     "metadata": {},
     "output_type": "display_data"
    }
   ],
   "source": [
    "total = X_tr.isnull().sum().sort_values(ascending=False) # 토탈 결측치\n",
    "percent = (X_tr.isnull().sum()/X_tr.isnull().count()).sort_values(ascending=False) # 결측치 비율\n",
    "missing_data = pd.concat([total, percent], axis=1, keys=['Total', 'Percent']) # total, 비율 합산\n",
    "percent_data = percent.head(20) # 비율 상위 20개\n",
    "percent_data.plot(kind=\"bar\", figsize = (8, 6), fontsize = 10) # 데이터 표시\n",
    "\n",
    "plt.xlabel(\"\", fontsize = 20)\n",
    "plt.ylabel(\"\", fontsize = 20)\n",
    "plt.title(\"Total Missing Value(%)\", fontsize = 20)"
   ]
  },
  {
   "cell_type": "code",
   "execution_count": 29,
   "id": "c282d81c",
   "metadata": {},
   "outputs": [],
   "source": [
    "X_tr['hasCabin'] = X_tr['cabin'].isnull().apply(lambda x: 0 if x == True else 1) # Cabin이 있느냐 없느냐\n",
    "X_tr['hasAge'] = X_tr['age'].isnull().apply(lambda x: 0 if x == True else 1) # Age가 있느냐 없느냐"
   ]
  },
  {
   "cell_type": "code",
   "execution_count": 30,
   "id": "ebf6780f",
   "metadata": {},
   "outputs": [
    {
     "data": {
      "image/png": "[encoded data removed]",
      "text/plain": [
       "<Figure size 800x600 with 1 Axes>"
      ]
     },
     "metadata": {},
     "output_type": "display_data"
    }
   ],
   "source": [
    "data = pd.concat([X_tr['fare'], X_tr['hasCabin']], axis=1) \n",
    "f, ax = plt.subplots(figsize=(8, 6))\n",
    "fig = sns.boxplot(x='hasCabin', y='fare', data=data) # 박스로 표시"
   ]
  },
  {
   "cell_type": "raw",
   "id": "13b78e73",
   "metadata": {},
   "source": [
    "위 그래프를 보면 cabin의 값이 있는 사람들이 fare가 높은 경향이 있다."
   ]
  },
  {
   "cell_type": "code",
   "execution_count": 31,
   "id": "182fe895",
   "metadata": {},
   "outputs": [
    {
     "name": "stderr",
     "output_type": "stream",
     "text": [
      "ERROR: Could not find a version that satisfies the requirement statmodels (from versions: none)\n",
      "ERROR: No matching distribution found for statmodels\n"
     ]
    }
   ],
   "source": [
    "!pip install statmodels"
   ]
  },
  {
   "cell_type": "code",
   "execution_count": 32,
   "id": "3e6a5165",
   "metadata": {},
   "outputs": [
    {
     "data": {
      "image/png": "[encoded data removed]",
      "text/plain": [
       "<Figure size 640x480 with 3 Axes>"
      ]
     },
     "metadata": {},
     "output_type": "display_data"
    }
   ],
   "source": [
    "from statsmodels.graphics.mosaicplot import mosaic\n",
    "\n",
    "mosaic(X_tr, ['hasCabin','pclass'], gap=0.02) # 모자이크, gap= ?\n",
    "plt.show()"
   ]
  },
  {
   "cell_type": "code",
   "execution_count": 33,
   "id": "e44d4a9a",
   "metadata": {},
   "outputs": [
    {
     "data": {
      "image/png": "[encoded data removed]",
      "text/plain": [
       "<Figure size 800x600 with 1 Axes>"
      ]
     },
     "metadata": {},
     "output_type": "display_data"
    }
   ],
   "source": [
    "data = pd.concat([X_tr['fare'], X_tr['embarked']], axis=1) #S, C, Q 당 급여의 양\n",
    "f, ax = plt.subplots(figsize=(8, 6))\n",
    "fig = sns.boxplot(x='embarked', y=\"fare\", data=data) # C > S > Q 순으로 fare가 높다"
   ]
  },
  {
   "cell_type": "code",
   "execution_count": 37,
   "id": "c254c605",
   "metadata": {
    "scrolled": true
   },
   "outputs": [
    {
     "data": {
      "text/plain": [
       "<AxesSubplot: xlabel='embarked', ylabel='fare'>"
      ]
     },
     "execution_count": 37,
     "metadata": {},
     "output_type": "execute_result"
    },
    {
     "data": {
      "image/png": "[encoded data removed]",
      "text/plain": [
       "<Figure size 800x600 with 1 Axes>"
      ]
     },
     "metadata": {},
     "output_type": "display_data"
    }
   ],
   "source": [
    "f, ax = plt.subplots(figsize=(8, 6))\n",
    "sns.boxplot(x=\"embarked\", y=\"fare\", hue=\"pclass\",\n",
    "            data = X_tr, palette=\"Set3\")"
   ]
  },
  {
   "cell_type": "code",
   "execution_count": 38,
   "id": "a3c36aee",
   "metadata": {},
   "outputs": [
    {
     "name": "stdout",
     "output_type": "stream",
     "text": [
      "before: (712, 13) / isnull().sum(): 695\n",
      "after: (143, 13) / isnull().sum(): 0\n"
     ]
    }
   ],
   "source": [
    "print(f'before: {X_tr.shape} / isnull().sum(): {X_tr.isnull().sum().sum()}')\n",
    "# 결측치가 있는 행 제거 : X_tr.dropna(axis=0)\n",
    "df_droprows = X_tr.dropna(axis=0)\n",
    "print(f'after: {df_droprows.shape} / isnull().sum(): {df_droprows.isnull().sum().sum()}')"
   ]
  },
  {
   "cell_type": "code",
   "execution_count": 39,
   "id": "cf96e23a",
   "metadata": {},
   "outputs": [
    {
     "name": "stdout",
     "output_type": "stream",
     "text": [
      "before: (712, 13) / isnull().sum(): 695\n",
      "after: (891, 9) / isnull().sum(): 0\n"
     ]
    }
   ],
   "source": [
    "print(f'before: {X_tr.shape} / isnull().sum(): {X_tr.isnull().sum().sum()}')\n",
    "# 결측치가 있는 열 제거 : X_tr.dropna(axis=1)\n",
    "df_dropcols = df.dropna(axis=1)\n",
    "print(f'after: {df_dropcols.shape} / isnull().sum(): {df_dropcols.isnull().sum().sum()}')"
   ]
  },
  {
   "cell_type": "markdown",
   "id": "bf5d5841",
   "metadata": {},
   "source": [
    "# 수치형 치환"
   ]
  },
  {
   "cell_type": "code",
   "execution_count": 41,
   "id": "12012a3e",
   "metadata": {},
   "outputs": [],
   "source": [
    "X_tr['age_mean'] = X_tr['age'].fillna(X_tr['age'].mean())\n",
    "X_tr['age_median'] = X_tr['age'].fillna(X_tr['age'].median())"
   ]
  },
  {
   "cell_type": "code",
   "execution_count": 43,
   "id": "cf7fc16f",
   "metadata": {},
   "outputs": [
    {
     "data": {
      "text/plain": [
       "<matplotlib.legend.Legend at 0x216cbfc4520>"
      ]
     },
     "execution_count": 43,
     "metadata": {},
     "output_type": "execute_result"
    },
    {
     "data": {
      "image/png": "[encoded data removed]",
      "text/plain": [
       "<Figure size 1000x600 with 1 Axes>"
      ]
     },
     "metadata": {},
     "output_type": "display_data"
    }
   ],
   "source": [
    "fig, ax = plt.subplots(figsize=(10, 6))\n",
    "\n",
    "X_tr['age'].plot(kind='kde', ax=ax, color='blue')\n",
    "X_tr['age_mean'].plot(kind='kde', ax=ax, color='red')\n",
    "X_tr['age_median'].plot(kind='kde', ax=ax, color='green')\n",
    "\n",
    "lines, labels = ax.get_legend_handles_labels()\n",
    "ax.legend(lines, labels, loc='best')"
   ]
  },
  {
   "cell_type": "code",
   "execution_count": null,
   "id": "cd7c2673",
   "metadata": {},
   "outputs": [],
   "source": [
    "X_te['age_mean'] = X_te['age'].fillna(X_tr['age'].mean())\n",
    "X_te['age_median'] = X_te['age'].fillna(X_tr['age'].median())\n",
    "\n",
    "# 분포 시각화\n",
    "fig, ax = plt.subplots(figsize=(10,6))\n",
    "\n",
    "X_te['age'].plot(kind='kde', ax=ax, color='blue')\n",
    "X_te['age_mean'].plot(kind='kde', ax=ax, color='red')\n",
    "X_te['age_median'].plot(kind='kde', ax=ax, color='green')\n",
    "\n",
    "lines, labels = ax.get_legend_handles_labels()\n",
    "ax.legend(lines, labels, loc='best')"
   ]
  },
  {
   "cell_type": "code",
   "execution_count": 44,
   "id": "483ee73e",
   "metadata": {},
   "outputs": [
    {
     "data": {
      "text/plain": [
       "age           140\n",
       "age_random      0\n",
       "dtype: int64"
      ]
     },
     "execution_count": 44,
     "metadata": {},
     "output_type": "execute_result"
    }
   ],
   "source": [
    "X_tr['age_random'] = X_tr['age']\n",
    "\n",
    "random_sampling = (X_tr['age'].dropna().sample(X_tr['age'].isnull().sum()))\n",
    "random_sampling.index = X_tr[lambda x: x['age'].isnull()].index\n",
    "\n",
    "X_tr.loc[X_tr['age'].isnull(), 'age_random'] = random_sampling\n",
    "\n",
    "X_tr[['age', 'age_random']].isnull().sum()"
   ]
  },
  {
   "cell_type": "code",
   "execution_count": 46,
   "id": "79e06971",
   "metadata": {},
   "outputs": [
    {
     "data": {
      "text/plain": [
       "<matplotlib.legend.Legend at 0x216c5a9db40>"
      ]
     },
     "execution_count": 46,
     "metadata": {},
     "output_type": "execute_result"
    },
    {
     "data": {
      "image/png": "[encoded data removed]",
      "text/plain": [
       "<Figure size 1000x600 with 1 Axes>"
      ]
     },
     "metadata": {},
     "output_type": "display_data"
    }
   ],
   "source": [
    "fig, ax = plt.subplots(figsize=(10, 6))\n",
    "\n",
    "X_tr['age'].plot(kind='kde', ax=ax, color='blue')\n",
    "X_tr['age_random'].plot(kind='kde', ax=ax, color='red')\n",
    "\n",
    "lines, labels = ax.get_legend_handles_labels()\n",
    "ax.legend(lines, labels, loc='best')"
   ]
  },
  {
   "cell_type": "code",
   "execution_count": 47,
   "id": "9758471a",
   "metadata": {},
   "outputs": [
    {
     "name": "stdout",
     "output_type": "stream",
     "text": [
      "embarked           2\n",
      "embarked_filled    0\n",
      "dtype: int64\n",
      "--------------------------------------------------\n",
      "embarked           0\n",
      "embarked_filled    0\n",
      "dtype: int64\n"
     ]
    }
   ],
   "source": [
    "# 최빈값\n",
    "embarked_mode = X_tr['embarked'].mode().values[0] # mode : 제일 많이 나온 값\n",
    "\n",
    "# NA imputation\n",
    "X_tr['embarked_filled'] = X_tr['embarked'].fillna(embarked_mode)\n",
    "X_te['embarked_filled'] = X_te['embarked'].fillna(embarked_mode)\n",
    "\n",
    "# 확인\n",
    "print(X_tr[['embarked', 'embarked_filled']].isnull().sum())\n",
    "print('-'*50)\n",
    "print(X_te[['embarked', 'embarked_filled']].isnull().sum())"
   ]
  },
  {
   "cell_type": "raw",
   "id": "dd26e3ca",
   "metadata": {},
   "source": [
    "- missing_values: default값은 np.nan으로 비어있는 값을 채우게 되고 필요시 다른 값을 빈값으로 인식하게 할 수 있다.  \n",
    "- strategy: 채울 값에 대한 함수; mean, median, most_frequent, constant(따로 지정한 값)\n",
    "- fill_value: strategy의 값이 constant일 때, 여기에 정의된 값으로 채움 "
   ]
  },
  {
   "cell_type": "code",
   "execution_count": 51,
   "id": "8e3af200",
   "metadata": {},
   "outputs": [
    {
     "data": {
      "text/plain": [
       "age                140\n",
       "age_simple_mean      0\n",
       "dtype: int64"
      ]
     },
     "execution_count": 51,
     "metadata": {},
     "output_type": "execute_result"
    }
   ],
   "source": [
    "from sklearn.impute import SimpleImputer\n",
    "# strategy : mean, median, most_frequent\n",
    "imputer = SimpleImputer(strategy=\"mean\")\n",
    "\n",
    "X_tr['age_simple_mean'] = imputer.fit_transform(X_tr[[\"age\"]])\n",
    "# imputer.fit(X_tr[[\"age\"]]) : age의 평균값\n",
    "# X_tr['age_simple_mean'] = imputer.fit_transform(X_tr[[\"age\"]]) : null에 평균값 적용(나와 달리 imputer.transform을 쓴다)\n",
    "imputer.fit(X_tr[[\"age\"]])\n",
    "\n",
    "X_te['age_simple_mean'] = imputer.fit_transform(X_te[[\"age\"]])\n",
    "\n",
    "X_tr[['age', 'age_simple_mean']].isnull().sum()"
   ]
  },
  {
   "cell_type": "markdown",
   "id": "ba1baaeb",
   "metadata": {},
   "source": [
    "# KNNimputer : 모델 기반"
   ]
  },
  {
   "cell_type": "code",
   "execution_count": 53,
   "id": "beec592f",
   "metadata": {},
   "outputs": [
    {
     "data": {
      "text/plain": [
       "age              140\n",
       "age_iter_none      0\n",
       "dtype: int64"
      ]
     },
     "execution_count": 53,
     "metadata": {},
     "output_type": "execute_result"
    }
   ],
   "source": [
    "from sklearn.impute import KNNImputer\n",
    "\n",
    "imputer = KNNImputer(n_neighbors=3)\n",
    "\n",
    "X_tr['age_iter_none'] = imputer.fit_transform(X_tr[['age']])\n",
    "X_te['age_iter_none'] = imputer.transform(X_te[['age']])\n",
    "\n",
    "X_tr[['age', 'age_iter_none']].isnull().sum()"
   ]
  },
  {
   "cell_type": "markdown",
   "id": "0f60770b",
   "metadata": {},
   "source": [
    "# IterativeImputer : 모델 기반"
   ]
  },
  {
   "cell_type": "code",
   "execution_count": null,
   "id": "3ec6530f",
   "metadata": {},
   "outputs": [],
   "source": [
    "from sklearn.experimental import enable_iterative_imputer\n",
    "from sklearn.impute import KNNImputer\n",
    "\n",
    "imputer = KNNImputer(n_neighbors=3)\n",
    "\n",
    "X_tr['age_iter_none'] = imputer.fit_transform(X_tr[['age']])\n",
    "X_te['age_iter_none'] = imputer.transform(X_te[['age']])\n",
    "\n",
    "X_tr[['age', 'age_iter_none']].isnull().sum()"
   ]
  },
  {
   "cell_type": "markdown",
   "id": "9f6e2e64",
   "metadata": {},
   "source": [
    "# 비대칭 데이터"
   ]
  },
  {
   "cell_type": "markdown",
   "id": "fc915447",
   "metadata": {},
   "source": [
    "### 왜도, 첨도"
   ]
  },
  {
   "cell_type": "code",
   "execution_count": 54,
   "id": "3e226c1f",
   "metadata": {},
   "outputs": [
    {
     "data": {
      "text/plain": [
       "4.787316519674893"
      ]
     },
     "execution_count": 54,
     "metadata": {},
     "output_type": "execute_result"
    }
   ],
   "source": [
    "df['fare'].skew() #왜도"
   ]
  },
  {
   "cell_type": "code",
   "execution_count": 55,
   "id": "4a11d9a9",
   "metadata": {},
   "outputs": [
    {
     "data": {
      "text/plain": [
       "33.39814088089868"
      ]
     },
     "execution_count": 55,
     "metadata": {},
     "output_type": "execute_result"
    }
   ],
   "source": [
    "df['fare'].kurt() # 첨도"
   ]
  },
  {
   "cell_type": "code",
   "execution_count": null,
   "id": "b97a0637",
   "metadata": {},
   "outputs": [],
   "source": [
    "sns.displot(df[\"fare\"], color=\"b\", label=\"Skewness : %.2f\"%(df[\"fare\"].skew())) # 수치상으로 왜도(뾰족한 정도)"
   ]
  },
  {
   "cell_type": "code",
   "execution_count": 57,
   "id": "273cffa2",
   "metadata": {},
   "outputs": [
    {
     "data": {
      "text/plain": [
       "<seaborn.axisgrid.FacetGrid at 0x216cb6227d0>"
      ]
     },
     "execution_count": 57,
     "metadata": {},
     "output_type": "execute_result"
    },
    {
     "data": {
      "image/png": "[encoded data removed]",
      "text/plain": [
       "<Figure size 500x500 with 1 Axes>"
      ]
     },
     "metadata": {},
     "output_type": "display_data"
    }
   ],
   "source": [
    "df[\"fare\"] = df[\"fare\"].map(lambda i : np.log(i) if i > 0 else 0) # 비정형 데이터 ~~ 로그값으로 처리\n",
    "sns.displot(df[\"fare\"], color=\"b\", label=\"Skewness : %.2f\"%(df[\"fare\"].skew())) "
   ]
  },
  {
   "cell_type": "code",
   "execution_count": 59,
   "id": "e9afba28",
   "metadata": {},
   "outputs": [
    {
     "data": {
      "text/plain": [
       "(0.44310881405404506, 0.641225603709215)"
      ]
     },
     "execution_count": 59,
     "metadata": {},
     "output_type": "execute_result"
    }
   ],
   "source": [
    "df['fare'].skew(), df['fare'].kurt()"
   ]
  },
  {
   "cell_type": "markdown",
   "id": "ad14454d",
   "metadata": {},
   "source": [
    "# 이상치 확인"
   ]
  },
  {
   "cell_type": "code",
   "execution_count": 60,
   "id": "1f0ea650",
   "metadata": {},
   "outputs": [
    {
     "data": {
      "text/plain": [
       "(0.38910778230082704, 0.17827415364210353)"
      ]
     },
     "execution_count": 60,
     "metadata": {},
     "output_type": "execute_result"
    }
   ],
   "source": [
    "df['age'].skew(), df['age'].kurt()"
   ]
  },
  {
   "cell_type": "code",
   "execution_count": 61,
   "id": "9edd6da1",
   "metadata": {},
   "outputs": [
    {
     "data": {
      "text/plain": [
       "<AxesSubplot: ylabel='age'>"
      ]
     },
     "execution_count": 61,
     "metadata": {},
     "output_type": "execute_result"
    },
    {
     "data": {
      "image/png": "[encoded data removed]",
      "text/plain": [
       "<Figure size 640x480 with 1 Axes>"
      ]
     },
     "metadata": {},
     "output_type": "display_data"
    }
   ],
   "source": [
    "sns.boxplot(y=df['age'], data=df)"
   ]
  },
  {
   "cell_type": "code",
   "execution_count": 62,
   "id": "9c2b8586",
   "metadata": {
    "scrolled": false
   },
   "outputs": [
    {
     "data": {
      "text/plain": [
       "<AxesSubplot: xlabel='survived', ylabel='age'>"
      ]
     },
     "execution_count": 62,
     "metadata": {},
     "output_type": "execute_result"
    },
    {
     "data": {
      "image/png": "[encoded data removed]",
      "text/plain": [
       "<Figure size 640x480 with 1 Axes>"
      ]
     },
     "metadata": {},
     "output_type": "display_data"
    }
   ],
   "source": [
    "sns.boxplot(x=df['survived'], y=df['age'], data=df)"
   ]
  },
  {
   "cell_type": "code",
   "execution_count": 63,
   "id": "7293f178",
   "metadata": {},
   "outputs": [
    {
     "data": {
      "text/plain": [
       "survived      \n",
       "0         0.25    21.0\n",
       "          0.75    39.0\n",
       "1         0.25    19.0\n",
       "          0.75    36.0\n",
       "Name: age, dtype: float64"
      ]
     },
     "execution_count": 63,
     "metadata": {},
     "output_type": "execute_result"
    }
   ],
   "source": [
    "df.groupby(['survived'])['age'].quantile([0.25, 0.75]) #분위수 계산(상위 25%, 상위 75%)"
   ]
  },
  {
   "cell_type": "code",
   "execution_count": 64,
   "id": "bb53678b",
   "metadata": {},
   "outputs": [
    {
     "data": {
      "text/plain": [
       "0.25    20.125\n",
       "0.50    28.000\n",
       "0.75    38.000\n",
       "Name: age, dtype: float64"
      ]
     },
     "execution_count": 64,
     "metadata": {},
     "output_type": "execute_result"
    }
   ],
   "source": [
    "df['age'].quantile([0.25, 0.5, 0.75]) "
   ]
  },
  {
   "cell_type": "code",
   "execution_count": 65,
   "id": "5ba4b1c1",
   "metadata": {},
   "outputs": [],
   "source": [
    "IQR = df['age'].quantile([0.25, 0.75]).values[1] - df['age'].quantile([0.25, 0.75]).values[0] #상위 75% - 상위 25% = IQR\n",
    "Upper_boundary = df['age'].median() + 1.5*IQR # 보다 커질 시 이상치\n",
    "Lower_boundary = df['age'].median() - 1.5*IQR # 보다 작을 시 이상치"
   ]
  },
  {
   "cell_type": "code",
   "execution_count": 66,
   "id": "25c349e8",
   "metadata": {},
   "outputs": [
    {
     "name": "stdout",
     "output_type": "stream",
     "text": [
      "(56, 12) (891, 12)\n"
     ]
    },
    {
     "data": {
      "text/html": [
       "<div>\n",
       "<style scoped>\n",
       "    .dataframe tbody tr th:only-of-type {\n",
       "        vertical-align: middle;\n",
       "    }\n",
       "\n",
       "    .dataframe tbody tr th {\n",
       "        vertical-align: top;\n",
       "    }\n",
       "\n",
       "    .dataframe thead th {\n",
       "        text-align: right;\n",
       "    }\n",
       "</style>\n",
       "<table border=\"1\" class=\"dataframe\">\n",
       "  <thead>\n",
       "    <tr style=\"text-align: right;\">\n",
       "      <th></th>\n",
       "      <th>passengerid</th>\n",
       "      <th>survived</th>\n",
       "      <th>pclass</th>\n",
       "      <th>name</th>\n",
       "      <th>sex</th>\n",
       "      <th>age</th>\n",
       "      <th>sibsp</th>\n",
       "      <th>parch</th>\n",
       "      <th>ticket</th>\n",
       "      <th>fare</th>\n",
       "      <th>cabin</th>\n",
       "      <th>embarked</th>\n",
       "    </tr>\n",
       "  </thead>\n",
       "  <tbody>\n",
       "    <tr>\n",
       "      <th>11</th>\n",
       "      <td>12</td>\n",
       "      <td>1</td>\n",
       "      <td>1</td>\n",
       "      <td>Bonnell, Miss. Elizabeth</td>\n",
       "      <td>female</td>\n",
       "      <td>58.00</td>\n",
       "      <td>0</td>\n",
       "      <td>0</td>\n",
       "      <td>113783</td>\n",
       "      <td>3.279030</td>\n",
       "      <td>C103</td>\n",
       "      <td>S</td>\n",
       "    </tr>\n",
       "    <tr>\n",
       "      <th>15</th>\n",
       "      <td>16</td>\n",
       "      <td>1</td>\n",
       "      <td>2</td>\n",
       "      <td>Hewlett, Mrs. (Mary D Kingcome)</td>\n",
       "      <td>female</td>\n",
       "      <td>55.00</td>\n",
       "      <td>0</td>\n",
       "      <td>0</td>\n",
       "      <td>248706</td>\n",
       "      <td>2.772589</td>\n",
       "      <td>NaN</td>\n",
       "      <td>S</td>\n",
       "    </tr>\n",
       "    <tr>\n",
       "      <th>33</th>\n",
       "      <td>34</td>\n",
       "      <td>0</td>\n",
       "      <td>2</td>\n",
       "      <td>Wheadon, Mr. Edward H</td>\n",
       "      <td>male</td>\n",
       "      <td>66.00</td>\n",
       "      <td>0</td>\n",
       "      <td>0</td>\n",
       "      <td>C.A. 24579</td>\n",
       "      <td>2.351375</td>\n",
       "      <td>NaN</td>\n",
       "      <td>S</td>\n",
       "    </tr>\n",
       "    <tr>\n",
       "      <th>54</th>\n",
       "      <td>55</td>\n",
       "      <td>0</td>\n",
       "      <td>1</td>\n",
       "      <td>Ostby, Mr. Engelhart Cornelius</td>\n",
       "      <td>male</td>\n",
       "      <td>65.00</td>\n",
       "      <td>0</td>\n",
       "      <td>1</td>\n",
       "      <td>113509</td>\n",
       "      <td>4.126799</td>\n",
       "      <td>B30</td>\n",
       "      <td>C</td>\n",
       "    </tr>\n",
       "    <tr>\n",
       "      <th>78</th>\n",
       "      <td>79</td>\n",
       "      <td>1</td>\n",
       "      <td>2</td>\n",
       "      <td>Caldwell, Master. Alden Gates</td>\n",
       "      <td>male</td>\n",
       "      <td>0.83</td>\n",
       "      <td>0</td>\n",
       "      <td>2</td>\n",
       "      <td>248738</td>\n",
       "      <td>3.367296</td>\n",
       "      <td>NaN</td>\n",
       "      <td>S</td>\n",
       "    </tr>\n",
       "  </tbody>\n",
       "</table>\n",
       "</div>"
      ],
      "text/plain": [
       "    passengerid  survived  pclass                              name     sex  \\\n",
       "11           12         1       1          Bonnell, Miss. Elizabeth  female   \n",
       "15           16         1       2  Hewlett, Mrs. (Mary D Kingcome)   female   \n",
       "33           34         0       2             Wheadon, Mr. Edward H    male   \n",
       "54           55         0       1    Ostby, Mr. Engelhart Cornelius    male   \n",
       "78           79         1       2     Caldwell, Master. Alden Gates    male   \n",
       "\n",
       "      age  sibsp  parch      ticket      fare cabin embarked  \n",
       "11  58.00      0      0      113783  3.279030  C103        S  \n",
       "15  55.00      0      0      248706  2.772589   NaN        S  \n",
       "33  66.00      0      0  C.A. 24579  2.351375   NaN        S  \n",
       "54  65.00      0      1      113509  4.126799   B30        C  \n",
       "78   0.83      0      2      248738  3.367296   NaN        S  "
      ]
     },
     "execution_count": 66,
     "metadata": {},
     "output_type": "execute_result"
    }
   ],
   "source": [
    "# 이상치 처리의 경우 필수가 아닌 선택. 알아놓으면 도움이 된다.\n",
    "cond1 = df['age'] > Upper_boundary #높은 이상치\n",
    "cond2 = df['age'] < Lower_boundary #낮은 이상치\n",
    "\n",
    "cond = cond1 | cond2 #두 이상치 포함 \n",
    "outlier = df.loc[cond] \n",
    "print(outlier.shape, df.shape)\n",
    "outlier.head() #이상치에 해당하는 값들"
   ]
  },
  {
   "cell_type": "markdown",
   "id": "a0ee209a",
   "metadata": {},
   "source": [
    "# 이상치 처리"
   ]
  },
  {
   "cell_type": "raw",
   "id": "4d346b60",
   "metadata": {},
   "source": [
    "장점은 좀 더 범위를 좁혀서 정확한 값 추리 가능\n",
    "단점은 실제 데이터와 많이 왜곡된 데이터가 될 가능성 커짐\n",
    "이상치가 결과에 너무 많은 결과를 끼칠 때만 사용할 것"
   ]
  },
  {
   "cell_type": "code",
   "execution_count": 67,
   "id": "10c13f3c",
   "metadata": {},
   "outputs": [],
   "source": [
    "df['age'] = df['age'].map(lambda x:Upper_boundary if x > Upper_boundary else x) # 이상치의 값 : 전부 같은 값으로 고침\n",
    "df['age'] = df['age'].map(lambda x:Lower_boundary if x < Lower_boundary else x)"
   ]
  },
  {
   "cell_type": "code",
   "execution_count": 68,
   "id": "99fd5534",
   "metadata": {},
   "outputs": [
    {
     "name": "stdout",
     "output_type": "stream",
     "text": [
      "(0, 12) (891, 12)\n"
     ]
    },
    {
     "data": {
      "text/html": [
       "<div>\n",
       "<style scoped>\n",
       "    .dataframe tbody tr th:only-of-type {\n",
       "        vertical-align: middle;\n",
       "    }\n",
       "\n",
       "    .dataframe tbody tr th {\n",
       "        vertical-align: top;\n",
       "    }\n",
       "\n",
       "    .dataframe thead th {\n",
       "        text-align: right;\n",
       "    }\n",
       "</style>\n",
       "<table border=\"1\" class=\"dataframe\">\n",
       "  <thead>\n",
       "    <tr style=\"text-align: right;\">\n",
       "      <th></th>\n",
       "      <th>passengerid</th>\n",
       "      <th>survived</th>\n",
       "      <th>pclass</th>\n",
       "      <th>name</th>\n",
       "      <th>sex</th>\n",
       "      <th>age</th>\n",
       "      <th>sibsp</th>\n",
       "      <th>parch</th>\n",
       "      <th>ticket</th>\n",
       "      <th>fare</th>\n",
       "      <th>cabin</th>\n",
       "      <th>embarked</th>\n",
       "    </tr>\n",
       "  </thead>\n",
       "  <tbody>\n",
       "  </tbody>\n",
       "</table>\n",
       "</div>"
      ],
      "text/plain": [
       "Empty DataFrame\n",
       "Columns: [passengerid, survived, pclass, name, sex, age, sibsp, parch, ticket, fare, cabin, embarked]\n",
       "Index: []"
      ]
     },
     "execution_count": 68,
     "metadata": {},
     "output_type": "execute_result"
    }
   ],
   "source": [
    "cond1 = df['age'] > Upper_boundary # 이상치의 값이 없어짐\n",
    "cond2 = df['age'] < Lower_boundary\n",
    "\n",
    "cond = cond1 | cond2\n",
    "outlier = df.loc[cond]\n",
    "print(outlier.shape, df.shape)\n",
    "outlier.head()"
   ]
  },
  {
   "cell_type": "code",
   "execution_count": 69,
   "id": "5f2a7dc5",
   "metadata": {},
   "outputs": [
    {
     "data": {
      "text/plain": [
       "<AxesSubplot: ylabel='age'>"
      ]
     },
     "execution_count": 69,
     "metadata": {},
     "output_type": "execute_result"
    },
    {
     "data": {
      "image/png": "[encoded data removed]",
      "text/plain": [
       "<Figure size 640x480 with 1 Axes>"
      ]
     },
     "metadata": {},
     "output_type": "display_data"
    }
   ],
   "source": [
    "sns.boxplot(y=df['age'], data=df)"
   ]
  },
  {
   "cell_type": "code",
   "execution_count": 70,
   "id": "42c8929f",
   "metadata": {},
   "outputs": [
    {
     "data": {
      "text/plain": [
       "<seaborn.axisgrid.FacetGrid at 0x216cba5faf0>"
      ]
     },
     "execution_count": 70,
     "metadata": {},
     "output_type": "execute_result"
    },
    {
     "data": {
      "image/png": "[encoded data removed]",
      "text/plain": [
       "<Figure size 500x500 with 1 Axes>"
      ]
     },
     "metadata": {},
     "output_type": "display_data"
    }
   ],
   "source": [
    "sns.displot(df[\"age\"], color=\"b\", label=\"Skewness : %.2f\"%(df[\"age\"].skew())) # 54 이상의 값, 1 이하의 값이 사라짐"
   ]
  },
  {
   "cell_type": "code",
   "execution_count": 71,
   "id": "ca81a82c",
   "metadata": {},
   "outputs": [
    {
     "data": {
      "text/plain": [
       "<AxesSubplot: xlabel='survived', ylabel='age'>"
      ]
     },
     "execution_count": 71,
     "metadata": {},
     "output_type": "execute_result"
    },
    {
     "data": {
      "image/png": "[encoded data removed]",
      "text/plain": [
       "<Figure size 640x480 with 1 Axes>"
      ]
     },
     "metadata": {},
     "output_type": "display_data"
    }
   ],
   "source": [
    "sns.boxplot(x=df['survived'], y=df['age'], data=df)"
   ]
  }
 ],
 "metadata": {
  "kernelspec": {
   "display_name": "Python 3 (ipykernel)",
   "language": "python",
   "name": "python3"
  },
  "language_info": {
   "codemirror_mode": {
    "name": "ipython",
    "version": 3
   },
   "file_extension": ".py",
   "mimetype": "text/x-python",
   "name": "python",
   "nbconvert_exporter": "python",
   "pygments_lexer": "ipython3",
   "version": "3.10.9"
  }
 },
 "nbformat": 4,
 "nbformat_minor": 5
}
