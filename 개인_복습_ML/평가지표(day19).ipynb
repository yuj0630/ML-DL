{
 "cells": [
  {
   "cell_type": "code",
   "execution_count": 5,
   "id": "3fd05173",
   "metadata": {},
   "outputs": [],
   "source": [
    "import numpy as np\n",
    "import pandas as pd\n",
    "import matplotlib.pyplot as plt\n",
    "import seaborn as sns"
   ]
  },
  {
   "cell_type": "markdown",
   "id": "ad7ddf3c",
   "metadata": {},
   "source": [
    "# linear Regression"
   ]
  },
  {
   "cell_type": "code",
   "execution_count": 1,
   "id": "3db6622f",
   "metadata": {},
   "outputs": [
    {
     "data": {
      "text/plain": [
       "((442, 10), (442,))"
      ]
     },
     "execution_count": 1,
     "metadata": {},
     "output_type": "execute_result"
    }
   ],
   "source": [
    "from sklearn.datasets import load_diabetes\n",
    "\n",
    "diabetes = load_diabetes()\n",
    "\n",
    "data = diabetes.data\n",
    "target = diabetes.target\n",
    "data.shape, target.shape"
   ]
  },
  {
   "cell_type": "code",
   "execution_count": 2,
   "id": "5d4509fa",
   "metadata": {},
   "outputs": [
    {
     "data": {
      "text/plain": [
       "((331, 10), (111, 10), (331,), (111,))"
      ]
     },
     "execution_count": 2,
     "metadata": {},
     "output_type": "execute_result"
    }
   ],
   "source": [
    "from sklearn.model_selection import train_test_split\n",
    "\n",
    "SEED = 42\n",
    "x_train,x_valid , y_train, y_valid = train_test_split(data,target,random_state=SEED)\n",
    "x_train.shape, x_valid.shape , y_train.shape, y_valid.shape"
   ]
  },
  {
   "cell_type": "code",
   "execution_count": 3,
   "id": "18ca49d6",
   "metadata": {},
   "outputs": [],
   "source": [
    "from sklearn.linear_model import LinearRegression\n",
    "\n",
    "model = LinearRegression()\n",
    "model.fit(x_train,y_train)\n",
    "pred = model.predict(x_valid)"
   ]
  },
  {
   "cell_type": "markdown",
   "id": "9de1f4de",
   "metadata": {},
   "source": [
    "# R2(결정계수)"
   ]
  },
  {
   "cell_type": "raw",
   "id": "c9f6d2f8",
   "metadata": {},
   "source": [
    "회귀식이 얼마나 정확한지를 나타내는 숫자"
   ]
  },
  {
   "cell_type": "code",
   "execution_count": 7,
   "id": "56d3d257",
   "metadata": {},
   "outputs": [
    {
     "data": {
      "text/plain": [
       "0.4849058889476754"
      ]
     },
     "execution_count": 7,
     "metadata": {},
     "output_type": "execute_result"
    }
   ],
   "source": [
    "from sklearn.metrics import r2_score\n",
    "\n",
    "r2 = r2_score(y_valid, pred) #\n",
    "r2"
   ]
  },
  {
   "cell_type": "markdown",
   "id": "4d614700",
   "metadata": {},
   "source": [
    "# MSE"
   ]
  },
  {
   "cell_type": "raw",
   "id": "301ad6b1",
   "metadata": {},
   "source": [
    "실제값과 예측값의 차이를 제곱한뒤 평균화\n",
    "이상치 민감\n",
    "직관적이지 못하다\n",
    "손실함수로 주로 사용한다"
   ]
  },
  {
   "cell_type": "code",
   "execution_count": 8,
   "id": "c1cd53f0",
   "metadata": {},
   "outputs": [
    {
     "data": {
      "text/plain": [
       "2848.3106508475066"
      ]
     },
     "execution_count": 8,
     "metadata": {},
     "output_type": "execute_result"
    }
   ],
   "source": [
    "from sklearn.metrics import mean_squared_error\n",
    "mse = mean_squared_error(y_valid,pred)\n",
    "mse"
   ]
  },
  {
   "cell_type": "markdown",
   "id": "5d2c48a6",
   "metadata": {},
   "source": [
    "### RMSE"
   ]
  },
  {
   "cell_type": "raw",
   "id": "f35adc30",
   "metadata": {},
   "source": [
    "MSE에 루트, 이상치 민감"
   ]
  },
  {
   "cell_type": "code",
   "execution_count": 9,
   "id": "f360c9c3",
   "metadata": {},
   "outputs": [
    {
     "data": {
      "text/plain": [
       "53.36956671032197"
      ]
     },
     "execution_count": 9,
     "metadata": {},
     "output_type": "execute_result"
    }
   ],
   "source": [
    "import numpy as np\n",
    "np.sqrt(mse)"
   ]
  },
  {
   "cell_type": "markdown",
   "id": "2624d408",
   "metadata": {},
   "source": [
    "### MAE(mean_absolute_error"
   ]
  },
  {
   "cell_type": "raw",
   "id": "7fb824da",
   "metadata": {},
   "source": [
    "실제값과 예측값의 차이를 절대값으로 변환해서 평균화"
   ]
  },
  {
   "cell_type": "code",
   "execution_count": 10,
   "id": "67d34aa6",
   "metadata": {},
   "outputs": [
    {
     "data": {
      "text/plain": [
       "41.54850685988061"
      ]
     },
     "execution_count": 10,
     "metadata": {},
     "output_type": "execute_result"
    }
   ],
   "source": [
    "from sklearn.metrics import mean_absolute_error\n",
    "mae = mean_absolute_error(y_valid,pred)\n",
    "mae"
   ]
  },
  {
   "cell_type": "markdown",
   "id": "bd7ddd3d",
   "metadata": {},
   "source": [
    "### MAPE(mean_absolute_percentage_error)"
   ]
  },
  {
   "cell_type": "raw",
   "id": "61d8e574",
   "metadata": {},
   "source": [
    "실제값에 대한 절대오차 비율의 평균을 퍼센트로 표현"
   ]
  },
  {
   "cell_type": "code",
   "execution_count": 12,
   "id": "a458f9c2",
   "metadata": {},
   "outputs": [
    {
     "data": {
      "text/plain": [
       "0.37310970433744695"
      ]
     },
     "execution_count": 12,
     "metadata": {},
     "output_type": "execute_result"
    }
   ],
   "source": [
    "from sklearn.metrics import mean_absolute_percentage_error\n",
    "mean_absolute_percentage_error(y_valid,pred)"
   ]
  },
  {
   "cell_type": "markdown",
   "id": "72c25744",
   "metadata": {},
   "source": [
    "### SMAPE"
   ]
  },
  {
   "cell_type": "raw",
   "id": "1c21a65a",
   "metadata": {},
   "source": [
    "기존 MAPE의 단점 보완\n",
    "MAPE와 다른 점은 각 실제값과 예측값을 절대값으로 변경 후 합을 나눈다.\n",
    "MAPE와 다르게 실제값에 0이 존재해도 계산이 가능하다.\n",
    "과소추정에 대한 패널티를 줄 수가 있다."
   ]
  },
  {
   "cell_type": "code",
   "execution_count": 13,
   "id": "e62b6a91",
   "metadata": {},
   "outputs": [
    {
     "data": {
      "text/plain": [
       "0.15271405979135066"
      ]
     },
     "execution_count": 13,
     "metadata": {},
     "output_type": "execute_result"
    }
   ],
   "source": [
    "def smape(true, pred):\n",
    "    error = np.abs(true-pred) / (np.abs(true) + np.abs(pred))\n",
    "    return np.mean(error)\n",
    "smape(y_valid,pred)"
   ]
  },
  {
   "cell_type": "markdown",
   "id": "98381c15",
   "metadata": {},
   "source": [
    "# 분류 모형 성능평가"
   ]
  },
  {
   "cell_type": "markdown",
   "id": "e70981cf",
   "metadata": {},
   "source": [
    "### 혼동행렬"
   ]
  },
  {
   "cell_type": "raw",
   "id": "737d44ad",
   "metadata": {},
   "source": [
    "분석 모델에서 구한 분류의 예측 범주와 데이터의 실제 분류 범주를 교차표 형태로 정리한 행렬"
   ]
  },
  {
   "cell_type": "code",
   "execution_count": 14,
   "id": "482c7c8b",
   "metadata": {},
   "outputs": [],
   "source": [
    "from sklearn.datasets import load_digits #혼동 행렬\n",
    "\n",
    "digits = load_digits()"
   ]
  },
  {
   "cell_type": "code",
   "execution_count": 15,
   "id": "53cf9619",
   "metadata": {},
   "outputs": [],
   "source": [
    "data = digits.data\n",
    "digit = data[0]\n",
    "\n",
    "#binary classifier\n",
    "target = (digits.target == 5).astype(int)"
   ]
  },
  {
   "cell_type": "code",
   "execution_count": 23,
   "id": "81a61278",
   "metadata": {},
   "outputs": [
    {
     "data": {
      "text/plain": [
       "((1347, 64), (450, 64), (1347,), (450,))"
      ]
     },
     "execution_count": 23,
     "metadata": {},
     "output_type": "execute_result"
    }
   ],
   "source": [
    "from sklearn.model_selection import train_test_split\n",
    "\n",
    "SEED = 42\n",
    "x_train, x_valid, y_train, y_valid = train_test_split(data,target,random_state=SEED)\n",
    "x_train.shape, x_valid.shape, y_train.shape, y_valid.shape"
   ]
  },
  {
   "cell_type": "code",
   "execution_count": 16,
   "id": "4b6ad3bb",
   "metadata": {},
   "outputs": [
    {
     "data": {
      "image/png": "[encoded data removed]",
      "text/plain": [
       "<Figure size 640x480 with 1 Axes>"
      ]
     },
     "metadata": {},
     "output_type": "display_data"
    }
   ],
   "source": [
    "import matplotlib as mpl\n",
    "\n",
    "digit_img = digit.reshape(8, 8)\n",
    "\n",
    "plt.imshow(digit_img, cmap=\"gray\")\n",
    "plt.axis(\"off\")\n",
    "plt.show()"
   ]
  },
  {
   "cell_type": "code",
   "execution_count": 24,
   "id": "e18e6f82",
   "metadata": {},
   "outputs": [
    {
     "data": {
      "text/plain": [
       "array([0])"
      ]
     },
     "execution_count": 24,
     "metadata": {},
     "output_type": "execute_result"
    }
   ],
   "source": [
    "from sklearn.linear_model import SGDClassifier\n",
    "\n",
    "sgd_clf = SGDClassifier(random_state=42)\n",
    "sgd_clf.fit(x_train, y_train)\n",
    "\n",
    "sgd_clf.predict([digit])"
   ]
  },
  {
   "cell_type": "code",
   "execution_count": 26,
   "id": "e88a40b9",
   "metadata": {},
   "outputs": [],
   "source": [
    "from sklearn.model_selection import cross_val_predict # 교차검증\n",
    "\n",
    "y_train_pred = cross_val_predict(sgd_clf, x_train, y_train, cv=5)"
   ]
  },
  {
   "cell_type": "code",
   "execution_count": 27,
   "id": "06d8a90d",
   "metadata": {},
   "outputs": [
    {
     "data": {
      "text/plain": [
       "array([[1217,    7],\n",
       "       [   8,  115]], dtype=int64)"
      ]
     },
     "execution_count": 27,
     "metadata": {},
     "output_type": "execute_result"
    }
   ],
   "source": [
    "from sklearn.metrics import confusion_matrix\n",
    "confusion_matrix(y_train, y_train_pred) # tp, tn, fp, fn(true positive, true negative, false positive, false negative)"
   ]
  },
  {
   "cell_type": "code",
   "execution_count": 28,
   "id": "0360862b",
   "metadata": {},
   "outputs": [],
   "source": [
    "from sklearn.dummy import DummyClassifier\n",
    "\n",
    "dummy = DummyClassifier(strategy='most_frequent')\n",
    "dummy.fit(x_train, y_train)\n",
    "pred_dummy = dummy.predict(x_valid)"
   ]
  },
  {
   "cell_type": "code",
   "execution_count": 30,
   "id": "d3b64ee7",
   "metadata": {},
   "outputs": [],
   "source": [
    "from sklearn.linear_model import SGDClassifier\n",
    "\n",
    "sgd_clf = SGDClassifier(random_state=42)\n",
    "sgd_clf.fit(x_train, y_train)\n",
    "\n",
    "pred_clf = sgd_clf.predict(x_valid)"
   ]
  },
  {
   "cell_type": "markdown",
   "id": "4aa08f61",
   "metadata": {},
   "source": [
    "### Accuracy(정확도)"
   ]
  },
  {
   "cell_type": "code",
   "execution_count": 31,
   "id": "1c7650ca",
   "metadata": {},
   "outputs": [
    {
     "name": "stdout",
     "output_type": "stream",
     "text": [
      "dummy: 0.8688888888888889\n",
      "model: 0.9866666666666667\n"
     ]
    }
   ],
   "source": [
    "from sklearn.metrics import accuracy_score\n",
    "score = accuracy_score(y_valid, pred_dummy)\n",
    "print(f\"dummy: {score}\")\n",
    "score = accuracy_score(y_valid, pred_clf)\n",
    "print(f\"model: {score}\")"
   ]
  },
  {
   "cell_type": "markdown",
   "id": "e9a911cc",
   "metadata": {},
   "source": [
    "### Precision(정밀도)"
   ]
  },
  {
   "cell_type": "code",
   "execution_count": 32,
   "id": "b9b415e6",
   "metadata": {},
   "outputs": [
    {
     "name": "stdout",
     "output_type": "stream",
     "text": [
      "dummy: 0.0\n",
      "model: 1.0\n"
     ]
    },
    {
     "name": "stderr",
     "output_type": "stream",
     "text": [
      "C:\\Users\\Playdata\\AppData\\Local\\Programs\\Python\\Python310\\lib\\site-packages\\sklearn\\metrics\\_classification.py:1344: UndefinedMetricWarning: Precision is ill-defined and being set to 0.0 due to no predicted samples. Use `zero_division` parameter to control this behavior.\n",
      "  _warn_prf(average, modifier, msg_start, len(result))\n"
     ]
    }
   ],
   "source": [
    "from sklearn.metrics import precision_score\n",
    "score = precision_score(y_valid, pred_dummy)\n",
    "print(f\"dummy: {score}\")\n",
    "score = precision_score(y_valid, pred_clf)\n",
    "print(f\"model: {score}\")"
   ]
  },
  {
   "cell_type": "markdown",
   "id": "614480c3",
   "metadata": {},
   "source": [
    "### Sensitivity(민감도) = Recall(재현도) = TPR"
   ]
  },
  {
   "cell_type": "code",
   "execution_count": 34,
   "id": "450cbc10",
   "metadata": {},
   "outputs": [
    {
     "name": "stdout",
     "output_type": "stream",
     "text": [
      "dummy: 0.0\n",
      "dummy: 0.8983050847457628\n"
     ]
    }
   ],
   "source": [
    "from sklearn.metrics import recall_score\n",
    "score = recall_score(y_valid, pred_dummy)\n",
    "print(f\"dummy: {score}\")\n",
    "score = recall_score(y_valid, pred_clf)\n",
    "print(f\"dummy: {score}\")"
   ]
  },
  {
   "cell_type": "markdown",
   "id": "0adad912",
   "metadata": {},
   "source": [
    "### F1 Score"
   ]
  },
  {
   "cell_type": "code",
   "execution_count": 36,
   "id": "fda84a9a",
   "metadata": {},
   "outputs": [
    {
     "name": "stdout",
     "output_type": "stream",
     "text": [
      "dummy: 0.0\n",
      "model: 0.9464285714285715\n"
     ]
    }
   ],
   "source": [
    "from sklearn.metrics import f1_score\n",
    "score = f1_score(y_valid, pred_dummy)\n",
    "print(f\"dummy: {score}\")\n",
    "score = f1_score(y_valid, pred_clf)\n",
    "print(f\"model: {score}\")"
   ]
  },
  {
   "cell_type": "code",
   "execution_count": 37,
   "id": "12e734b8",
   "metadata": {},
   "outputs": [
    {
     "name": "stdout",
     "output_type": "stream",
     "text": [
      "              precision    recall  f1-score   support\n",
      "\n",
      "           0       0.87      1.00      0.93       391\n",
      "           1       0.00      0.00      0.00        59\n",
      "\n",
      "    accuracy                           0.87       450\n",
      "   macro avg       0.43      0.50      0.46       450\n",
      "weighted avg       0.75      0.87      0.81       450\n",
      "\n",
      "----------------------------------------------------------------------------------------------------\n",
      "              precision    recall  f1-score   support\n",
      "\n",
      "           0       0.98      1.00      0.99       391\n",
      "           1       1.00      0.90      0.95        59\n",
      "\n",
      "    accuracy                           0.99       450\n",
      "   macro avg       0.99      0.95      0.97       450\n",
      "weighted avg       0.99      0.99      0.99       450\n",
      "\n"
     ]
    },
    {
     "name": "stderr",
     "output_type": "stream",
     "text": [
      "C:\\Users\\Playdata\\AppData\\Local\\Programs\\Python\\Python310\\lib\\site-packages\\sklearn\\metrics\\_classification.py:1344: UndefinedMetricWarning: Precision and F-score are ill-defined and being set to 0.0 in labels with no predicted samples. Use `zero_division` parameter to control this behavior.\n",
      "  _warn_prf(average, modifier, msg_start, len(result))\n",
      "C:\\Users\\Playdata\\AppData\\Local\\Programs\\Python\\Python310\\lib\\site-packages\\sklearn\\metrics\\_classification.py:1344: UndefinedMetricWarning: Precision and F-score are ill-defined and being set to 0.0 in labels with no predicted samples. Use `zero_division` parameter to control this behavior.\n",
      "  _warn_prf(average, modifier, msg_start, len(result))\n",
      "C:\\Users\\Playdata\\AppData\\Local\\Programs\\Python\\Python310\\lib\\site-packages\\sklearn\\metrics\\_classification.py:1344: UndefinedMetricWarning: Precision and F-score are ill-defined and being set to 0.0 in labels with no predicted samples. Use `zero_division` parameter to control this behavior.\n",
      "  _warn_prf(average, modifier, msg_start, len(result))\n"
     ]
    }
   ],
   "source": [
    "from sklearn.metrics import classification_report\n",
    "\n",
    "print(classification_report(y_valid, pred_dummy))\n",
    "print('-'*100)\n",
    "print(classification_report(y_valid, pred_clf))"
   ]
  },
  {
   "cell_type": "markdown",
   "id": "03bdd433",
   "metadata": {},
   "source": [
    "### Precision-Recall Trade-off"
   ]
  },
  {
   "cell_type": "markdown",
   "id": "4faa3177",
   "metadata": {},
   "source": [
    "#### 임계값"
   ]
  },
  {
   "cell_type": "raw",
   "id": "66241af4",
   "metadata": {},
   "source": [
    "모델은 분류에서 확률(0~1) 또는 음수에서 양수 사이에 실수값을 예측값으로 정리"
   ]
  },
  {
   "cell_type": "code",
   "execution_count": 38,
   "id": "5e5411fa",
   "metadata": {},
   "outputs": [],
   "source": [
    "pred_proba = sgd_clf.decision_function(x_valid)"
   ]
  },
  {
   "cell_type": "code",
   "execution_count": 40,
   "id": "6d9716cf",
   "metadata": {},
   "outputs": [
    {
     "data": {
      "text/plain": [
       "(1.0, 0.8983050847457628)"
      ]
     },
     "execution_count": 40,
     "metadata": {},
     "output_type": "execute_result"
    }
   ],
   "source": [
    "threshold = 0\n",
    "pred=np.where(pred_proba > threshold, 1, 0)\n",
    "\n",
    "precision_score(y_valid,pred), recall_score(y_valid, pred)"
   ]
  },
  {
   "cell_type": "code",
   "execution_count": 41,
   "id": "08c7a146",
   "metadata": {},
   "outputs": [
    {
     "name": "stderr",
     "output_type": "stream",
     "text": [
      "C:\\Users\\Playdata\\AppData\\Local\\Programs\\Python\\Python310\\lib\\site-packages\\sklearn\\metrics\\_classification.py:1344: UndefinedMetricWarning: Precision is ill-defined and being set to 0.0 due to no predicted samples. Use `zero_division` parameter to control this behavior.\n",
      "  _warn_prf(average, modifier, msg_start, len(result))\n"
     ]
    },
    {
     "data": {
      "text/plain": [
       "(0.0, 0.0)"
      ]
     },
     "execution_count": 41,
     "metadata": {},
     "output_type": "execute_result"
    }
   ],
   "source": [
    "threshold = 30000\n",
    "pred = np.where(pred_proba > threshold, 1, 0)\n",
    "\n",
    "precision_score(y_valid,pred), recall_score(y_valid,pred)"
   ]
  },
  {
   "cell_type": "code",
   "execution_count": 42,
   "id": "87a709b4",
   "metadata": {},
   "outputs": [
    {
     "data": {
      "text/plain": [
       "(0.13111111111111112, 1.0)"
      ]
     },
     "execution_count": 42,
     "metadata": {},
     "output_type": "execute_result"
    }
   ],
   "source": [
    "threshold = -30000\n",
    "pred = np.where(pred_proba > threshold, 1, 0)\n",
    "\n",
    "precision_score(y_valid,pred), recall_score(y_valid,pred)"
   ]
  },
  {
   "cell_type": "markdown",
   "id": "e3a6e9c1",
   "metadata": {},
   "source": [
    "### DecisionTreeClassifier"
   ]
  },
  {
   "cell_type": "code",
   "execution_count": 43,
   "id": "c3ec1986",
   "metadata": {},
   "outputs": [],
   "source": [
    "from sklearn.tree import DecisionTreeClassifier\n",
    "\n",
    "tree = DecisionTreeClassifier(max_depth=3, random_state=SEED)\n",
    "tree.fit(x_train, y_train)\n",
    "pred_tree = tree.predict(x_valid)"
   ]
  },
  {
   "cell_type": "code",
   "execution_count": 44,
   "id": "0c98174f",
   "metadata": {},
   "outputs": [],
   "source": [
    "pred_proba = tree.predict_proba(x_valid)[:,1]"
   ]
  },
  {
   "cell_type": "code",
   "execution_count": 45,
   "id": "2069865a",
   "metadata": {},
   "outputs": [
    {
     "data": {
      "text/plain": [
       "(0.9811320754716981, 0.8813559322033898)"
      ]
     },
     "execution_count": 45,
     "metadata": {},
     "output_type": "execute_result"
    }
   ],
   "source": [
    "threshold = 0.5 #사이킷런의 디폴트값\n",
    "pred = np.where(pred_proba > threshold, 1, 0)\n",
    "\n",
    "precision_score(y_valid, pred) , recall_score(y_valid, pred)"
   ]
  },
  {
   "cell_type": "code",
   "execution_count": 46,
   "id": "542235ed",
   "metadata": {},
   "outputs": [
    {
     "data": {
      "text/plain": [
       "(0.9811320754716981, 0.8813559322033898)"
      ]
     },
     "execution_count": 46,
     "metadata": {},
     "output_type": "execute_result"
    }
   ],
   "source": [
    "threshold = 0.9\n",
    "pred = np.where(pred_proba > threshold, 1, 0)\n",
    "\n",
    "precision_score(y_valid, pred) , recall_score(y_valid, pred)"
   ]
  },
  {
   "cell_type": "code",
   "execution_count": 47,
   "id": "9d431678",
   "metadata": {},
   "outputs": [
    {
     "data": {
      "text/plain": [
       "(0.8813559322033898, 0.8813559322033898)"
      ]
     },
     "execution_count": 47,
     "metadata": {},
     "output_type": "execute_result"
    }
   ],
   "source": [
    "threshold = 0.1\n",
    "pred = np.where(pred_proba > threshold, 1, 0)\n",
    "\n",
    "precision_score(y_valid, pred) , recall_score(y_valid, pred)"
   ]
  },
  {
   "cell_type": "markdown",
   "id": "4fed7e84",
   "metadata": {},
   "source": [
    "### 1종 오류, 2종 오류"
   ]
  },
  {
   "cell_type": "markdown",
   "id": "d58b4176",
   "metadata": {},
   "source": [
    "### 귀무가설"
   ]
  },
  {
   "cell_type": "raw",
   "id": "b001acba",
   "metadata": {},
   "source": [
    "> 모집단(실제)의 특성에 대해 옳다고 제안하는 잠정적인 주장  \n",
    "> 모델이 학습한 예측이 실제 데이터에 맞다고 주장  "
   ]
  },
  {
   "cell_type": "code",
   "execution_count": 51,
   "id": "572422fd",
   "metadata": {},
   "outputs": [
    {
     "data": {
      "image/png": "[encoded data removed]",
      "text/plain": [
       "<Figure size 1500x500 with 4 Axes>"
      ]
     },
     "metadata": {},
     "output_type": "display_data"
    }
   ],
   "source": [
    "from sklearn.metrics import confusion_matrix, ConfusionMatrixDisplay\n",
    "\n",
    "fig, ax = plt.subplots(1, 2, figsize=(15, 5))\n",
    "\n",
    "cm = confusion_matrix(y_valid, pred_dummy) # dummy값 : 첫번째 줄\n",
    "disp = ConfusionMatrixDisplay(confusion_matrix=cm)\n",
    "disp.plot(ax = ax[0])\n",
    "\n",
    "cm = confusion_matrix(y_valid, pred_clf) # 실제 값 : 두번째 줄\n",
    "disp = ConfusionMatrixDisplay(confusion_matrix=cm)\n",
    "disp.plot(ax = ax[1])\n",
    "plt.show()"
   ]
  },
  {
   "cell_type": "code",
   "execution_count": 52,
   "id": "188112db",
   "metadata": {},
   "outputs": [
    {
     "data": {
      "text/plain": [
       "array([[391,   0],\n",
       "       [  6,  53]], dtype=int64)"
      ]
     },
     "execution_count": 52,
     "metadata": {},
     "output_type": "execute_result"
    }
   ],
   "source": [
    "from sklearn.metrics import confusion_matrix\n",
    "\n",
    "confusion_matrix(y_valid, pred_clf)"
   ]
  },
  {
   "cell_type": "markdown",
   "id": "97aec2b1",
   "metadata": {},
   "source": [
    "### ROC curve"
   ]
  },
  {
   "cell_type": "code",
   "execution_count": 53,
   "id": "92e61135",
   "metadata": {},
   "outputs": [],
   "source": [
    "pred_dummy = dummy.predict_proba(x_valid)[:,1]\n",
    "pred_tree = tree.predict_proba(x_valid)[:,1]"
   ]
  },
  {
   "cell_type": "code",
   "execution_count": 54,
   "id": "e7e4d83e",
   "metadata": {},
   "outputs": [],
   "source": [
    "from sklearn.metrics import RocCurveDisplay"
   ]
  },
  {
   "cell_type": "code",
   "execution_count": null,
   "id": "60cab97d",
   "metadata": {},
   "outputs": [],
   "source": [
    "fig, ax = plt.subplots()\n",
    "RocCurveDisplay.from_predictions(y_valid, pred_dummy, ax=ax)\n",
    "RocCurveDisplay.from_predictions(y_valid, pred_tree, ax=ax)\n",
    "plt.show()"
   ]
  },
  {
   "cell_type": "markdown",
   "id": "6d19e474",
   "metadata": {},
   "source": [
    "### AUROC"
   ]
  },
  {
   "cell_type": "raw",
   "id": "942ad37e",
   "metadata": {},
   "source": [
    "- ROC Curve의 밑부분 면적\n",
    "- 넓을수록 모형 성능이 좋다.\n",
    "- 임계값(threshold)이 어떻게 선택되었는지와 무관하게 모델의 예측 품질을 측정할 수 있다."
   ]
  },
  {
   "cell_type": "code",
   "execution_count": 55,
   "id": "2fc7a415",
   "metadata": {},
   "outputs": [
    {
     "name": "stdout",
     "output_type": "stream",
     "text": [
      "dummy: 0.5\n",
      "--------------------------------------------------\n",
      "model: 0.9479604664268065\n"
     ]
    }
   ],
   "source": [
    "from sklearn.metrics import roc_curve, auc\n",
    "\n",
    "fpr, tpr, thresholds = roc_curve(y_valid, pred_dummy)\n",
    "print(f'dummy: {auc(fpr, tpr)}')\n",
    "print('-'*50)\n",
    "fpr, tpr, thresholds = roc_curve(y_valid, pred_tree)\n",
    "print(f'model: {auc(fpr, tpr)}')"
   ]
  },
  {
   "cell_type": "markdown",
   "id": "2afb8279",
   "metadata": {},
   "source": [
    "# Multi Classification"
   ]
  },
  {
   "cell_type": "markdown",
   "id": "bb660c8d",
   "metadata": {},
   "source": [
    "### 소프트맥스 함수"
   ]
  },
  {
   "cell_type": "raw",
   "id": "86aa18fa",
   "metadata": {},
   "source": [
    "각 클래스에 대한 확률을 출력\n",
    "입력받은 값들을 0~! 사이의 값들로 모두 정규화하며 출력값들의 합은 항상 1이 되는 특성을 가진 함수"
   ]
  },
  {
   "cell_type": "code",
   "execution_count": 56,
   "id": "926e6c08",
   "metadata": {},
   "outputs": [
    {
     "name": "stdout",
     "output_type": "stream",
     "text": [
      "1.0\n"
     ]
    },
    {
     "data": {
      "image/png": "[encoded data removed]",
      "text/plain": [
       "<Figure size 640x480 with 1 Axes>"
      ]
     },
     "metadata": {},
     "output_type": "display_data"
    }
   ],
   "source": [
    "import numpy as np\n",
    "import matplotlib.pyplot as plt\n",
    "\n",
    "def softmax(x):\n",
    "    e_x = np.exp(x - np.max(x))\n",
    "    return e_x / e_x.sum()\n",
    "\n",
    "x = np.array([1.0, 1.0, 2.0])\n",
    "\n",
    "y = softmax(x)\n",
    "\n",
    "print(np.sum(y))\n",
    "\n",
    "ratio = y\n",
    "labels = y\n",
    "\n",
    "plt.pie(ratio, labels=labels, shadow=True, startangle=90)\n",
    "plt.show()"
   ]
  },
  {
   "cell_type": "raw",
   "id": "cd61ac53",
   "metadata": {},
   "source": [
    ">소프트맥스 함수의 입력으로 어떻게 바꿀까?"
   ]
  },
  {
   "cell_type": "code",
   "execution_count": 57,
   "id": "1636bff0",
   "metadata": {},
   "outputs": [
    {
     "name": "stdout",
     "output_type": "stream",
     "text": [
      "소프트맥스 출력합: 1.0\n"
     ]
    },
    {
     "ename": "ValueError",
     "evalue": "'label' must be of length 'x'",
     "output_type": "error",
     "traceback": [
      "\u001b[1;31m---------------------------------------------------------------------------\u001b[0m",
      "\u001b[1;31mValueError\u001b[0m                                Traceback (most recent call last)",
      "Cell \u001b[1;32mIn[57], line 10\u001b[0m\n\u001b[0;32m      7\u001b[0m ratio \u001b[38;5;241m=\u001b[39m y\n\u001b[0;32m      8\u001b[0m labels \u001b[38;5;241m=\u001b[39m [\u001b[38;5;241m0\u001b[39m,\u001b[38;5;241m1\u001b[39m,\u001b[38;5;241m2\u001b[39m,\u001b[38;5;241m3\u001b[39m,\u001b[38;5;241m4\u001b[39m,\u001b[38;5;241m5\u001b[39m,\u001b[38;5;241m6\u001b[39m,\u001b[38;5;241m7\u001b[39m,\u001b[38;5;241m8\u001b[39m,\u001b[38;5;241m9\u001b[39m]\n\u001b[1;32m---> 10\u001b[0m \u001b[43mplt\u001b[49m\u001b[38;5;241;43m.\u001b[39;49m\u001b[43mpie\u001b[49m\u001b[43m(\u001b[49m\u001b[43mratio\u001b[49m\u001b[43m,\u001b[49m\u001b[43m \u001b[49m\u001b[43mlabels\u001b[49m\u001b[38;5;241;43m=\u001b[39;49m\u001b[43mlabels\u001b[49m\u001b[43m,\u001b[49m\u001b[43m \u001b[49m\u001b[43mshadow\u001b[49m\u001b[38;5;241;43m=\u001b[39;49m\u001b[38;5;28;43;01mTrue\u001b[39;49;00m\u001b[43m,\u001b[49m\u001b[43m \u001b[49m\u001b[43mstartangle\u001b[49m\u001b[38;5;241;43m=\u001b[39;49m\u001b[38;5;241;43m90\u001b[39;49m\u001b[43m)\u001b[49m\n\u001b[0;32m     11\u001b[0m plt\u001b[38;5;241m.\u001b[39mshow()\n",
      "File \u001b[1;32m~\\AppData\\Local\\Programs\\Python\\Python310\\lib\\site-packages\\matplotlib\\pyplot.py:2735\u001b[0m, in \u001b[0;36mpie\u001b[1;34m(x, explode, labels, colors, autopct, pctdistance, shadow, labeldistance, startangle, radius, counterclock, wedgeprops, textprops, center, frame, rotatelabels, normalize, data)\u001b[0m\n\u001b[0;32m   2728\u001b[0m \u001b[38;5;129m@_copy_docstring_and_deprecators\u001b[39m(Axes\u001b[38;5;241m.\u001b[39mpie)\n\u001b[0;32m   2729\u001b[0m \u001b[38;5;28;01mdef\u001b[39;00m \u001b[38;5;21mpie\u001b[39m(\n\u001b[0;32m   2730\u001b[0m         x, explode\u001b[38;5;241m=\u001b[39m\u001b[38;5;28;01mNone\u001b[39;00m, labels\u001b[38;5;241m=\u001b[39m\u001b[38;5;28;01mNone\u001b[39;00m, colors\u001b[38;5;241m=\u001b[39m\u001b[38;5;28;01mNone\u001b[39;00m, autopct\u001b[38;5;241m=\u001b[39m\u001b[38;5;28;01mNone\u001b[39;00m,\n\u001b[1;32m   (...)\u001b[0m\n\u001b[0;32m   2733\u001b[0m         textprops\u001b[38;5;241m=\u001b[39m\u001b[38;5;28;01mNone\u001b[39;00m, center\u001b[38;5;241m=\u001b[39m(\u001b[38;5;241m0\u001b[39m, \u001b[38;5;241m0\u001b[39m), frame\u001b[38;5;241m=\u001b[39m\u001b[38;5;28;01mFalse\u001b[39;00m,\n\u001b[0;32m   2734\u001b[0m         rotatelabels\u001b[38;5;241m=\u001b[39m\u001b[38;5;28;01mFalse\u001b[39;00m, \u001b[38;5;241m*\u001b[39m, normalize\u001b[38;5;241m=\u001b[39m\u001b[38;5;28;01mTrue\u001b[39;00m, data\u001b[38;5;241m=\u001b[39m\u001b[38;5;28;01mNone\u001b[39;00m):\n\u001b[1;32m-> 2735\u001b[0m     \u001b[38;5;28;01mreturn\u001b[39;00m gca()\u001b[38;5;241m.\u001b[39mpie(\n\u001b[0;32m   2736\u001b[0m         x, explode\u001b[38;5;241m=\u001b[39mexplode, labels\u001b[38;5;241m=\u001b[39mlabels, colors\u001b[38;5;241m=\u001b[39mcolors,\n\u001b[0;32m   2737\u001b[0m         autopct\u001b[38;5;241m=\u001b[39mautopct, pctdistance\u001b[38;5;241m=\u001b[39mpctdistance, shadow\u001b[38;5;241m=\u001b[39mshadow,\n\u001b[0;32m   2738\u001b[0m         labeldistance\u001b[38;5;241m=\u001b[39mlabeldistance, startangle\u001b[38;5;241m=\u001b[39mstartangle,\n\u001b[0;32m   2739\u001b[0m         radius\u001b[38;5;241m=\u001b[39mradius, counterclock\u001b[38;5;241m=\u001b[39mcounterclock,\n\u001b[0;32m   2740\u001b[0m         wedgeprops\u001b[38;5;241m=\u001b[39mwedgeprops, textprops\u001b[38;5;241m=\u001b[39mtextprops, center\u001b[38;5;241m=\u001b[39mcenter,\n\u001b[0;32m   2741\u001b[0m         frame\u001b[38;5;241m=\u001b[39mframe, rotatelabels\u001b[38;5;241m=\u001b[39mrotatelabels, normalize\u001b[38;5;241m=\u001b[39mnormalize,\n\u001b[0;32m   2742\u001b[0m         \u001b[38;5;241m*\u001b[39m\u001b[38;5;241m*\u001b[39m({\u001b[38;5;124m\"\u001b[39m\u001b[38;5;124mdata\u001b[39m\u001b[38;5;124m\"\u001b[39m: data} \u001b[38;5;28;01mif\u001b[39;00m data \u001b[38;5;129;01mis\u001b[39;00m \u001b[38;5;129;01mnot\u001b[39;00m \u001b[38;5;28;01mNone\u001b[39;00m \u001b[38;5;28;01melse\u001b[39;00m {}))\n",
      "File \u001b[1;32m~\\AppData\\Local\\Programs\\Python\\Python310\\lib\\site-packages\\matplotlib\\__init__.py:1433\u001b[0m, in \u001b[0;36m_preprocess_data.<locals>.inner\u001b[1;34m(ax, data, *args, **kwargs)\u001b[0m\n\u001b[0;32m   1430\u001b[0m \u001b[38;5;129m@functools\u001b[39m\u001b[38;5;241m.\u001b[39mwraps(func)\n\u001b[0;32m   1431\u001b[0m \u001b[38;5;28;01mdef\u001b[39;00m \u001b[38;5;21minner\u001b[39m(ax, \u001b[38;5;241m*\u001b[39margs, data\u001b[38;5;241m=\u001b[39m\u001b[38;5;28;01mNone\u001b[39;00m, \u001b[38;5;241m*\u001b[39m\u001b[38;5;241m*\u001b[39mkwargs):\n\u001b[0;32m   1432\u001b[0m     \u001b[38;5;28;01mif\u001b[39;00m data \u001b[38;5;129;01mis\u001b[39;00m \u001b[38;5;28;01mNone\u001b[39;00m:\n\u001b[1;32m-> 1433\u001b[0m         \u001b[38;5;28;01mreturn\u001b[39;00m func(ax, \u001b[38;5;241m*\u001b[39m\u001b[38;5;28mmap\u001b[39m(sanitize_sequence, args), \u001b[38;5;241m*\u001b[39m\u001b[38;5;241m*\u001b[39mkwargs)\n\u001b[0;32m   1435\u001b[0m     bound \u001b[38;5;241m=\u001b[39m new_sig\u001b[38;5;241m.\u001b[39mbind(ax, \u001b[38;5;241m*\u001b[39margs, \u001b[38;5;241m*\u001b[39m\u001b[38;5;241m*\u001b[39mkwargs)\n\u001b[0;32m   1436\u001b[0m     auto_label \u001b[38;5;241m=\u001b[39m (bound\u001b[38;5;241m.\u001b[39marguments\u001b[38;5;241m.\u001b[39mget(label_namer)\n\u001b[0;32m   1437\u001b[0m                   \u001b[38;5;129;01mor\u001b[39;00m bound\u001b[38;5;241m.\u001b[39mkwargs\u001b[38;5;241m.\u001b[39mget(label_namer))\n",
      "File \u001b[1;32m~\\AppData\\Local\\Programs\\Python\\Python310\\lib\\site-packages\\matplotlib\\axes\\_axes.py:3176\u001b[0m, in \u001b[0;36mAxes.pie\u001b[1;34m(self, x, explode, labels, colors, autopct, pctdistance, shadow, labeldistance, startangle, radius, counterclock, wedgeprops, textprops, center, frame, rotatelabels, normalize)\u001b[0m\n\u001b[0;32m   3174\u001b[0m     explode \u001b[38;5;241m=\u001b[39m [\u001b[38;5;241m0\u001b[39m] \u001b[38;5;241m*\u001b[39m \u001b[38;5;28mlen\u001b[39m(x)\n\u001b[0;32m   3175\u001b[0m \u001b[38;5;28;01mif\u001b[39;00m \u001b[38;5;28mlen\u001b[39m(x) \u001b[38;5;241m!=\u001b[39m \u001b[38;5;28mlen\u001b[39m(labels):\n\u001b[1;32m-> 3176\u001b[0m     \u001b[38;5;28;01mraise\u001b[39;00m \u001b[38;5;167;01mValueError\u001b[39;00m(\u001b[38;5;124m\"\u001b[39m\u001b[38;5;124m'\u001b[39m\u001b[38;5;124mlabel\u001b[39m\u001b[38;5;124m'\u001b[39m\u001b[38;5;124m must be of length \u001b[39m\u001b[38;5;124m'\u001b[39m\u001b[38;5;124mx\u001b[39m\u001b[38;5;124m'\u001b[39m\u001b[38;5;124m\"\u001b[39m)\n\u001b[0;32m   3177\u001b[0m \u001b[38;5;28;01mif\u001b[39;00m \u001b[38;5;28mlen\u001b[39m(x) \u001b[38;5;241m!=\u001b[39m \u001b[38;5;28mlen\u001b[39m(explode):\n\u001b[0;32m   3178\u001b[0m     \u001b[38;5;28;01mraise\u001b[39;00m \u001b[38;5;167;01mValueError\u001b[39;00m(\u001b[38;5;124m\"\u001b[39m\u001b[38;5;124m'\u001b[39m\u001b[38;5;124mexplode\u001b[39m\u001b[38;5;124m'\u001b[39m\u001b[38;5;124m must be of length \u001b[39m\u001b[38;5;124m'\u001b[39m\u001b[38;5;124mx\u001b[39m\u001b[38;5;124m'\u001b[39m\u001b[38;5;124m\"\u001b[39m)\n",
      "\u001b[1;31mValueError\u001b[0m: 'label' must be of length 'x'"
     ]
    },
    {
     "data": {
      "image/png": "[encoded data removed]",
      "text/plain": [
       "<Figure size 640x480 with 1 Axes>"
      ]
     },
     "metadata": {},
     "output_type": "display_data"
    }
   ],
   "source": [
    "x = tree.predict_proba(x_valid)[0]\n",
    " \n",
    "y = softmax(x)\n",
    " \n",
    "print(f'소프트맥스 출력합: {np.sum(y)}')\n",
    " \n",
    "ratio = y\n",
    "labels = [0,1,2,3,4,5,6,7,8,9]\n",
    " \n",
    "plt.pie(ratio, labels=labels, shadow=True, startangle=90)\n",
    "plt.show()"
   ]
  },
  {
   "cell_type": "code",
   "execution_count": 58,
   "id": "83517f3a",
   "metadata": {},
   "outputs": [
    {
     "data": {
      "text/plain": [
       "0.9688888888888889"
      ]
     },
     "execution_count": 58,
     "metadata": {},
     "output_type": "execute_result"
    }
   ],
   "source": [
    "f1_score(y_valid, pred, average=\"micro\")"
   ]
  },
  {
   "cell_type": "code",
   "execution_count": 59,
   "id": "675309da",
   "metadata": {},
   "outputs": [
    {
     "data": {
      "text/plain": [
       "0.9317265594520785"
      ]
     },
     "execution_count": 59,
     "metadata": {},
     "output_type": "execute_result"
    }
   ],
   "source": [
    "f1_score(y_valid, pred, average=\"macro\")"
   ]
  },
  {
   "cell_type": "code",
   "execution_count": 60,
   "id": "e866f3df",
   "metadata": {},
   "outputs": [
    {
     "data": {
      "text/plain": [
       "0.9688888888888889"
      ]
     },
     "execution_count": 60,
     "metadata": {},
     "output_type": "execute_result"
    }
   ],
   "source": [
    "f1_score(y_valid, pred, average=\"weighted\")"
   ]
  },
  {
   "cell_type": "markdown",
   "id": "0dc2b618",
   "metadata": {},
   "source": [
    "# logloss"
   ]
  },
  {
   "cell_type": "raw",
   "id": "b8f171d6",
   "metadata": {},
   "source": [
    ">모델이 예측한 확률 값을 반영해서 평가한다.\n",
    ">0에 가까울수록 좋은 모델\n",
    ">정답에 해당하는 확률값들을 음의 로그함수에 넣어서 나온 값들을 평균내서 평가"
   ]
  },
  {
   "cell_type": "code",
   "execution_count": 61,
   "id": "d9514afc",
   "metadata": {},
   "outputs": [
    {
     "data": {
      "text/plain": [
       "0.16692306172385546"
      ]
     },
     "execution_count": 61,
     "metadata": {},
     "output_type": "execute_result"
    }
   ],
   "source": [
    "from sklearn.metrics import log_loss\n",
    "\n",
    "pred = tree.predict_proba(x_valid)\n",
    "log_loss(y_valid,pred)"
   ]
  },
  {
   "cell_type": "code",
   "execution_count": null,
   "id": "3470236c",
   "metadata": {},
   "outputs": [],
   "source": []
  }
 ],
 "metadata": {
  "kernelspec": {
   "display_name": "Python 3 (ipykernel)",
   "language": "python",
   "name": "python3"
  },
  "language_info": {
   "codemirror_mode": {
    "name": "ipython",
    "version": 3
   },
   "file_extension": ".py",
   "mimetype": "text/x-python",
   "name": "python",
   "nbconvert_exporter": "python",
   "pygments_lexer": "ipython3",
   "version": "3.10.9"
  }
 },
 "nbformat": 4,
 "nbformat_minor": 5
}
