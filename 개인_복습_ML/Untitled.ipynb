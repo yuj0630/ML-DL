{
 "cells": [
  {
   "cell_type": "code",
   "execution_count": null,
   "id": "5603b4db",
   "metadata": {},
   "outputs": [],
   "source": [
    "from pandas.api.types import is_string_dtype\n",
    "from pandas.api.types import is_numeric_dtype\n",
    "\n",
    "def __get_cols_cleaning(p_pd_list:list) -> list:\n",
    "    cols_cleaning = []\n",
    "    for df in p_pd_list:\n",
    "        #결측치 컬럼 조회\n",
    "        tmp = df.isnull().sum()\n",
    "        cols_cleaning += list(tmp[df.isnull().sum() > 0].index)\n",
    "        \n",
    "    cols_cleaning = list(set(cols_cleaning))\n",
    "    print(f'cols_cleaning: {cols_cleaning}')\n",
    "    return cols_cleaning\n",
    "\n",
    "def add_cols_cleaning(p_train:pd.DataFrame, p_test:pd.DataFrame, p_ori_te:pd.DataFrame) -> None:\n",
    "    pd_list = [p_train, p_test, p_ori_te]\n",
    "    for col in __get_cols_cleaning(pd_list):\n",
    "        for i, df in enumerate(pd_list, start=1):\n",
    "            if is_numeric_dtype(df[col]): # 숫자형 결측치 처리\n",
    "                new_col = col+'_cleaning'\n",
    "                df[new_col] = df[col]   \n",
    "                # random sampling\n",
    "                random_sampling = (p_train[col].dropna().sample(df[col].isnull().sum()))\n",
    "                # index 부여\n",
    "                random_sampling.index = df[lambda x: x[col].isnull()].index \n",
    "                # NA imputation\n",
    "                df.loc[df[col].isnull(), new_col] = random_sampling\n",
    "        \n",
    "                # 기존 결측치 컬럼 제거\n",
    "                if i == len(pd_list):\n",
    "                    for _df in pd_list:\n",
    "                        _df.drop([col], axis=1, inplace=True)\n",
    "      \n",
    "          else: # 범주형 결측치 처리\n",
    "            df[col].fillna(p_train[col].mode().values[0], inplace=True)\n",
    "            \n",
    "print(f'p_train: {p_train.isnull().sum().sum()} / p_test{p_test.isnull().sum().sum()} / p_ori_te: {p_ori_te.isnull().sum().sum()}')            "
   ]
  },
  {
   "cell_type": "code",
   "execution_count": null,
   "id": "1d3b46df",
   "metadata": {},
   "outputs": [],
   "source": [
    "add_cols_cleaning(train, test, ori_te)"
   ]
  }
 ],
 "metadata": {
  "kernelspec": {
   "display_name": "Python 3 (ipykernel)",
   "language": "python",
   "name": "python3"
  },
  "language_info": {
   "codemirror_mode": {
    "name": "ipython",
    "version": 3
   },
   "file_extension": ".py",
   "mimetype": "text/x-python",
   "name": "python",
   "nbconvert_exporter": "python",
   "pygments_lexer": "ipython3",
   "version": "3.10.9"
  }
 },
 "nbformat": 4,
 "nbformat_minor": 5
}
