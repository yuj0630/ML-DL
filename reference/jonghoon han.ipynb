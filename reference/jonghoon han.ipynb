{
 "cells": [
  {
   "attachments": {},
   "cell_type": "markdown",
   "metadata": {},
   "source": [
    "# 라이브러리 로드"
   ]
  },
  {
   "cell_type": "code",
   "execution_count": 29,
   "metadata": {},
   "outputs": [],
   "source": [
    "import pandas as pd\n",
    "import numpy as np\n",
    "import matplotlib.pyplot as plt\n",
    "import seaborn as sns\n",
    "import sklearn\n",
    "import warnings\n",
    "import numpy as np \n",
    "import pandas as pd\n",
    "import category_encoders as ce\n",
    "import matplotlib.font_manager as fm\n",
    "warnings.filterwarnings('ignore')\n"
   ]
  },
  {
   "attachments": {},
   "cell_type": "markdown",
   "metadata": {},
   "source": [
    "# 데이터 로드"
   ]
  },
  {
   "cell_type": "code",
   "execution_count": 30,
   "metadata": {},
   "outputs": [],
   "source": [
    "train = pd.read_csv(\"C:\\project\\datapre\\.venv\\Data Engineering\\Data\\kaggle_competition\\\\train.csv\")\n",
    "test = pd.read_csv(\"C:\\project\\datapre\\.venv\\Data Engineering\\Data\\kaggle_competition\\\\test.csv\")\n",
    "submission = pd.read_csv(\"C:\\project\\datapre\\.venv\\Data Engineering\\Data\\kaggle_competition\\\\submission.csv\")"
   ]
  },
  {
   "attachments": {},
   "cell_type": "markdown",
   "metadata": {},
   "source": [
    "## train data"
   ]
  },
  {
   "cell_type": "code",
   "execution_count": 31,
   "metadata": {},
   "outputs": [
    {
     "data": {
      "text/html": [
       "<div>\n",
       "<style scoped>\n",
       "    .dataframe tbody tr th:only-of-type {\n",
       "        vertical-align: middle;\n",
       "    }\n",
       "\n",
       "    .dataframe tbody tr th {\n",
       "        vertical-align: top;\n",
       "    }\n",
       "\n",
       "    .dataframe thead th {\n",
       "        text-align: right;\n",
       "    }\n",
       "</style>\n",
       "<table border=\"1\" class=\"dataframe\">\n",
       "  <thead>\n",
       "    <tr style=\"text-align: right;\">\n",
       "      <th></th>\n",
       "      <th>passengerid</th>\n",
       "      <th>survived</th>\n",
       "      <th>pclass</th>\n",
       "      <th>name</th>\n",
       "      <th>gender</th>\n",
       "      <th>age</th>\n",
       "      <th>sibsp</th>\n",
       "      <th>parch</th>\n",
       "      <th>ticket</th>\n",
       "      <th>fare</th>\n",
       "      <th>cabin</th>\n",
       "      <th>embarked</th>\n",
       "    </tr>\n",
       "  </thead>\n",
       "  <tbody>\n",
       "    <tr>\n",
       "      <th>0</th>\n",
       "      <td>0</td>\n",
       "      <td>0</td>\n",
       "      <td>2</td>\n",
       "      <td>Wheeler, Mr. Edwin Frederick\"\"</td>\n",
       "      <td>male</td>\n",
       "      <td>NaN</td>\n",
       "      <td>0</td>\n",
       "      <td>0</td>\n",
       "      <td>SC/PARIS 2159</td>\n",
       "      <td>12.8750</td>\n",
       "      <td>NaN</td>\n",
       "      <td>S</td>\n",
       "    </tr>\n",
       "    <tr>\n",
       "      <th>1</th>\n",
       "      <td>1</td>\n",
       "      <td>0</td>\n",
       "      <td>3</td>\n",
       "      <td>Henry, Miss. Delia</td>\n",
       "      <td>female</td>\n",
       "      <td>NaN</td>\n",
       "      <td>0</td>\n",
       "      <td>0</td>\n",
       "      <td>382649</td>\n",
       "      <td>7.7500</td>\n",
       "      <td>NaN</td>\n",
       "      <td>Q</td>\n",
       "    </tr>\n",
       "    <tr>\n",
       "      <th>2</th>\n",
       "      <td>2</td>\n",
       "      <td>1</td>\n",
       "      <td>1</td>\n",
       "      <td>Hays, Mrs. Charles Melville (Clara Jennings Gr...</td>\n",
       "      <td>female</td>\n",
       "      <td>52.0</td>\n",
       "      <td>1</td>\n",
       "      <td>1</td>\n",
       "      <td>12749</td>\n",
       "      <td>93.5000</td>\n",
       "      <td>B69</td>\n",
       "      <td>S</td>\n",
       "    </tr>\n",
       "    <tr>\n",
       "      <th>3</th>\n",
       "      <td>3</td>\n",
       "      <td>1</td>\n",
       "      <td>3</td>\n",
       "      <td>Andersson, Mr. August Edvard (\"Wennerstrom\")</td>\n",
       "      <td>male</td>\n",
       "      <td>27.0</td>\n",
       "      <td>0</td>\n",
       "      <td>0</td>\n",
       "      <td>350043</td>\n",
       "      <td>7.7958</td>\n",
       "      <td>NaN</td>\n",
       "      <td>S</td>\n",
       "    </tr>\n",
       "    <tr>\n",
       "      <th>4</th>\n",
       "      <td>4</td>\n",
       "      <td>0</td>\n",
       "      <td>2</td>\n",
       "      <td>Hold, Mr. Stephen</td>\n",
       "      <td>male</td>\n",
       "      <td>44.0</td>\n",
       "      <td>1</td>\n",
       "      <td>0</td>\n",
       "      <td>26707</td>\n",
       "      <td>26.0000</td>\n",
       "      <td>NaN</td>\n",
       "      <td>S</td>\n",
       "    </tr>\n",
       "  </tbody>\n",
       "</table>\n",
       "</div>"
      ],
      "text/plain": [
       "   passengerid  survived  pclass  \\\n",
       "0            0         0       2   \n",
       "1            1         0       3   \n",
       "2            2         1       1   \n",
       "3            3         1       3   \n",
       "4            4         0       2   \n",
       "\n",
       "                                                name  gender   age  sibsp  \\\n",
       "0                     Wheeler, Mr. Edwin Frederick\"\"    male   NaN      0   \n",
       "1                                 Henry, Miss. Delia  female   NaN      0   \n",
       "2  Hays, Mrs. Charles Melville (Clara Jennings Gr...  female  52.0      1   \n",
       "3       Andersson, Mr. August Edvard (\"Wennerstrom\")    male  27.0      0   \n",
       "4                                  Hold, Mr. Stephen    male  44.0      1   \n",
       "\n",
       "   parch         ticket     fare cabin embarked  \n",
       "0      0  SC/PARIS 2159  12.8750   NaN        S  \n",
       "1      0         382649   7.7500   NaN        Q  \n",
       "2      1          12749  93.5000   B69        S  \n",
       "3      0         350043   7.7958   NaN        S  \n",
       "4      0          26707  26.0000   NaN        S  "
      ]
     },
     "execution_count": 31,
     "metadata": {},
     "output_type": "execute_result"
    }
   ],
   "source": [
    "train.head()"
   ]
  },
  {
   "cell_type": "code",
   "execution_count": 32,
   "metadata": {},
   "outputs": [
    {
     "name": "stdout",
     "output_type": "stream",
     "text": [
      "<class 'pandas.core.frame.DataFrame'>\n",
      "RangeIndex: 916 entries, 0 to 915\n",
      "Data columns (total 12 columns):\n",
      " #   Column       Non-Null Count  Dtype  \n",
      "---  ------       --------------  -----  \n",
      " 0   passengerid  916 non-null    int64  \n",
      " 1   survived     916 non-null    int64  \n",
      " 2   pclass       916 non-null    int64  \n",
      " 3   name         916 non-null    object \n",
      " 4   gender       916 non-null    object \n",
      " 5   age          736 non-null    float64\n",
      " 6   sibsp        916 non-null    int64  \n",
      " 7   parch        916 non-null    int64  \n",
      " 8   ticket       916 non-null    object \n",
      " 9   fare         916 non-null    float64\n",
      " 10  cabin        198 non-null    object \n",
      " 11  embarked     915 non-null    object \n",
      "dtypes: float64(2), int64(5), object(5)\n",
      "memory usage: 86.0+ KB\n"
     ]
    }
   ],
   "source": [
    "train.info()"
   ]
  },
  {
   "cell_type": "code",
   "execution_count": 33,
   "metadata": {},
   "outputs": [
    {
     "data": {
      "text/plain": [
       "(916, 12)"
      ]
     },
     "execution_count": 33,
     "metadata": {},
     "output_type": "execute_result"
    }
   ],
   "source": [
    "train.shape"
   ]
  },
  {
   "attachments": {},
   "cell_type": "markdown",
   "metadata": {},
   "source": [
    "## test data"
   ]
  },
  {
   "cell_type": "code",
   "execution_count": 34,
   "metadata": {},
   "outputs": [
    {
     "data": {
      "text/html": [
       "<div>\n",
       "<style scoped>\n",
       "    .dataframe tbody tr th:only-of-type {\n",
       "        vertical-align: middle;\n",
       "    }\n",
       "\n",
       "    .dataframe tbody tr th {\n",
       "        vertical-align: top;\n",
       "    }\n",
       "\n",
       "    .dataframe thead th {\n",
       "        text-align: right;\n",
       "    }\n",
       "</style>\n",
       "<table border=\"1\" class=\"dataframe\">\n",
       "  <thead>\n",
       "    <tr style=\"text-align: right;\">\n",
       "      <th></th>\n",
       "      <th>passengerid</th>\n",
       "      <th>pclass</th>\n",
       "      <th>name</th>\n",
       "      <th>gender</th>\n",
       "      <th>age</th>\n",
       "      <th>sibsp</th>\n",
       "      <th>parch</th>\n",
       "      <th>ticket</th>\n",
       "      <th>fare</th>\n",
       "      <th>cabin</th>\n",
       "      <th>embarked</th>\n",
       "    </tr>\n",
       "  </thead>\n",
       "  <tbody>\n",
       "    <tr>\n",
       "      <th>0</th>\n",
       "      <td>916</td>\n",
       "      <td>3</td>\n",
       "      <td>McGowan, Miss. Anna \"Annie\"</td>\n",
       "      <td>female</td>\n",
       "      <td>15.0</td>\n",
       "      <td>0</td>\n",
       "      <td>0</td>\n",
       "      <td>330923</td>\n",
       "      <td>8.0292</td>\n",
       "      <td>NaN</td>\n",
       "      <td>Q</td>\n",
       "    </tr>\n",
       "    <tr>\n",
       "      <th>1</th>\n",
       "      <td>917</td>\n",
       "      <td>2</td>\n",
       "      <td>Pinsky, Mrs. (Rosa)</td>\n",
       "      <td>female</td>\n",
       "      <td>32.0</td>\n",
       "      <td>0</td>\n",
       "      <td>0</td>\n",
       "      <td>234604</td>\n",
       "      <td>13.0000</td>\n",
       "      <td>NaN</td>\n",
       "      <td>S</td>\n",
       "    </tr>\n",
       "    <tr>\n",
       "      <th>2</th>\n",
       "      <td>918</td>\n",
       "      <td>3</td>\n",
       "      <td>McCarthy, Miss. Catherine Katie\"\"</td>\n",
       "      <td>female</td>\n",
       "      <td>NaN</td>\n",
       "      <td>0</td>\n",
       "      <td>0</td>\n",
       "      <td>383123</td>\n",
       "      <td>7.7500</td>\n",
       "      <td>NaN</td>\n",
       "      <td>Q</td>\n",
       "    </tr>\n",
       "    <tr>\n",
       "      <th>3</th>\n",
       "      <td>919</td>\n",
       "      <td>3</td>\n",
       "      <td>Franklin, Mr. Charles (Charles Fardon)</td>\n",
       "      <td>male</td>\n",
       "      <td>NaN</td>\n",
       "      <td>0</td>\n",
       "      <td>0</td>\n",
       "      <td>SOTON/O.Q. 3101314</td>\n",
       "      <td>7.2500</td>\n",
       "      <td>NaN</td>\n",
       "      <td>S</td>\n",
       "    </tr>\n",
       "    <tr>\n",
       "      <th>4</th>\n",
       "      <td>920</td>\n",
       "      <td>1</td>\n",
       "      <td>Wick, Mrs. George Dennick (Mary Hitchcock)</td>\n",
       "      <td>female</td>\n",
       "      <td>45.0</td>\n",
       "      <td>1</td>\n",
       "      <td>1</td>\n",
       "      <td>36928</td>\n",
       "      <td>164.8667</td>\n",
       "      <td>NaN</td>\n",
       "      <td>S</td>\n",
       "    </tr>\n",
       "  </tbody>\n",
       "</table>\n",
       "</div>"
      ],
      "text/plain": [
       "   passengerid  pclass                                        name  gender  \\\n",
       "0          916       3                 McGowan, Miss. Anna \"Annie\"  female   \n",
       "1          917       2                         Pinsky, Mrs. (Rosa)  female   \n",
       "2          918       3           McCarthy, Miss. Catherine Katie\"\"  female   \n",
       "3          919       3      Franklin, Mr. Charles (Charles Fardon)    male   \n",
       "4          920       1  Wick, Mrs. George Dennick (Mary Hitchcock)  female   \n",
       "\n",
       "    age  sibsp  parch              ticket      fare cabin embarked  \n",
       "0  15.0      0      0              330923    8.0292   NaN        Q  \n",
       "1  32.0      0      0              234604   13.0000   NaN        S  \n",
       "2   NaN      0      0              383123    7.7500   NaN        Q  \n",
       "3   NaN      0      0  SOTON/O.Q. 3101314    7.2500   NaN        S  \n",
       "4  45.0      1      1               36928  164.8667   NaN        S  "
      ]
     },
     "execution_count": 34,
     "metadata": {},
     "output_type": "execute_result"
    }
   ],
   "source": [
    "test.head()"
   ]
  },
  {
   "cell_type": "code",
   "execution_count": 35,
   "metadata": {},
   "outputs": [
    {
     "name": "stdout",
     "output_type": "stream",
     "text": [
      "<class 'pandas.core.frame.DataFrame'>\n",
      "RangeIndex: 393 entries, 0 to 392\n",
      "Data columns (total 11 columns):\n",
      " #   Column       Non-Null Count  Dtype  \n",
      "---  ------       --------------  -----  \n",
      " 0   passengerid  393 non-null    int64  \n",
      " 1   pclass       393 non-null    int64  \n",
      " 2   name         393 non-null    object \n",
      " 3   gender       393 non-null    object \n",
      " 4   age          310 non-null    float64\n",
      " 5   sibsp        393 non-null    int64  \n",
      " 6   parch        393 non-null    int64  \n",
      " 7   ticket       393 non-null    object \n",
      " 8   fare         392 non-null    float64\n",
      " 9   cabin        97 non-null     object \n",
      " 10  embarked     392 non-null    object \n",
      "dtypes: float64(2), int64(4), object(5)\n",
      "memory usage: 33.9+ KB\n"
     ]
    }
   ],
   "source": [
    "test.info()"
   ]
  },
  {
   "cell_type": "code",
   "execution_count": 36,
   "metadata": {},
   "outputs": [
    {
     "data": {
      "text/plain": [
       "(393, 11)"
      ]
     },
     "execution_count": 36,
     "metadata": {},
     "output_type": "execute_result"
    }
   ],
   "source": [
    "test.shape"
   ]
  },
  {
   "attachments": {},
   "cell_type": "markdown",
   "metadata": {},
   "source": [
    "## submission data"
   ]
  },
  {
   "cell_type": "code",
   "execution_count": 37,
   "metadata": {},
   "outputs": [
    {
     "data": {
      "text/html": [
       "<div>\n",
       "<style scoped>\n",
       "    .dataframe tbody tr th:only-of-type {\n",
       "        vertical-align: middle;\n",
       "    }\n",
       "\n",
       "    .dataframe tbody tr th {\n",
       "        vertical-align: top;\n",
       "    }\n",
       "\n",
       "    .dataframe thead th {\n",
       "        text-align: right;\n",
       "    }\n",
       "</style>\n",
       "<table border=\"1\" class=\"dataframe\">\n",
       "  <thead>\n",
       "    <tr style=\"text-align: right;\">\n",
       "      <th></th>\n",
       "      <th>passengerid</th>\n",
       "      <th>survived</th>\n",
       "    </tr>\n",
       "  </thead>\n",
       "  <tbody>\n",
       "    <tr>\n",
       "      <th>0</th>\n",
       "      <td>916</td>\n",
       "      <td>0.5</td>\n",
       "    </tr>\n",
       "    <tr>\n",
       "      <th>1</th>\n",
       "      <td>917</td>\n",
       "      <td>0.5</td>\n",
       "    </tr>\n",
       "    <tr>\n",
       "      <th>2</th>\n",
       "      <td>918</td>\n",
       "      <td>0.5</td>\n",
       "    </tr>\n",
       "    <tr>\n",
       "      <th>3</th>\n",
       "      <td>919</td>\n",
       "      <td>0.5</td>\n",
       "    </tr>\n",
       "    <tr>\n",
       "      <th>4</th>\n",
       "      <td>920</td>\n",
       "      <td>0.5</td>\n",
       "    </tr>\n",
       "  </tbody>\n",
       "</table>\n",
       "</div>"
      ],
      "text/plain": [
       "   passengerid  survived\n",
       "0          916       0.5\n",
       "1          917       0.5\n",
       "2          918       0.5\n",
       "3          919       0.5\n",
       "4          920       0.5"
      ]
     },
     "execution_count": 37,
     "metadata": {},
     "output_type": "execute_result"
    }
   ],
   "source": [
    "submission.head()"
   ]
  },
  {
   "cell_type": "code",
   "execution_count": 38,
   "metadata": {},
   "outputs": [
    {
     "name": "stdout",
     "output_type": "stream",
     "text": [
      "<class 'pandas.core.frame.DataFrame'>\n",
      "RangeIndex: 393 entries, 0 to 392\n",
      "Data columns (total 2 columns):\n",
      " #   Column       Non-Null Count  Dtype  \n",
      "---  ------       --------------  -----  \n",
      " 0   passengerid  393 non-null    int64  \n",
      " 1   survived     393 non-null    float64\n",
      "dtypes: float64(1), int64(1)\n",
      "memory usage: 6.3 KB\n"
     ]
    }
   ],
   "source": [
    "submission.info()"
   ]
  },
  {
   "cell_type": "code",
   "execution_count": 39,
   "metadata": {},
   "outputs": [
    {
     "data": {
      "text/plain": [
       "(393, 2)"
      ]
     },
     "execution_count": 39,
     "metadata": {},
     "output_type": "execute_result"
    }
   ],
   "source": [
    "submission.shape"
   ]
  },
  {
   "attachments": {},
   "cell_type": "markdown",
   "metadata": {},
   "source": [
    "# EDA / 결측치 제거\n"
   ]
  },
  {
   "cell_type": "code",
   "execution_count": 40,
   "metadata": {},
   "outputs": [],
   "source": [
    "o_train = pd.read_csv(\"C:\\project\\datapre\\.venv\\Data Engineering\\Data\\kaggle_competition\\\\train.csv\")\n",
    "o_test = pd.read_csv(\"C:\\project\\datapre\\.venv\\Data Engineering\\Data\\kaggle_competition\\\\test.csv\")\n"
   ]
  },
  {
   "cell_type": "code",
   "execution_count": 41,
   "metadata": {},
   "outputs": [
    {
     "name": "stdout",
     "output_type": "stream",
     "text": [
      "<class 'pandas.core.frame.DataFrame'>\n",
      "RangeIndex: 916 entries, 0 to 915\n",
      "Data columns (total 12 columns):\n",
      " #   Column       Non-Null Count  Dtype  \n",
      "---  ------       --------------  -----  \n",
      " 0   passengerid  916 non-null    int64  \n",
      " 1   survived     916 non-null    int64  \n",
      " 2   pclass       916 non-null    int64  \n",
      " 3   name         916 non-null    object \n",
      " 4   gender       916 non-null    object \n",
      " 5   age          736 non-null    float64\n",
      " 6   sibsp        916 non-null    int64  \n",
      " 7   parch        916 non-null    int64  \n",
      " 8   ticket       916 non-null    object \n",
      " 9   fare         916 non-null    float64\n",
      " 10  cabin        198 non-null    object \n",
      " 11  embarked     915 non-null    object \n",
      "dtypes: float64(2), int64(5), object(5)\n",
      "memory usage: 86.0+ KB\n"
     ]
    }
   ],
   "source": [
    "train.info()"
   ]
  },
  {
   "cell_type": "code",
   "execution_count": 42,
   "metadata": {},
   "outputs": [
    {
     "data": {
      "text/plain": [
       "(   passengerid  survived  pclass  \\\n",
       " 0            0         0       2   \n",
       " 1            1         0       3   \n",
       " 2            2         1       1   \n",
       " 3            3         1       3   \n",
       " 4            4         0       2   \n",
       " \n",
       "                                                 name  gender   age  sibsp  \\\n",
       " 0                     Wheeler, Mr. Edwin Frederick\"\"    male   NaN      0   \n",
       " 1                                 Henry, Miss. Delia  female   NaN      0   \n",
       " 2  Hays, Mrs. Charles Melville (Clara Jennings Gr...  female  52.0      1   \n",
       " 3       Andersson, Mr. August Edvard (\"Wennerstrom\")    male  27.0      0   \n",
       " 4                                  Hold, Mr. Stephen    male  44.0      1   \n",
       " \n",
       "    parch         ticket     fare cabin embarked  \n",
       " 0      0  SC/PARIS 2159  12.8750   NaN        S  \n",
       " 1      0         382649   7.7500   NaN        Q  \n",
       " 2      1          12749  93.5000   B69        S  \n",
       " 3      0         350043   7.7958   NaN        S  \n",
       " 4      0          26707  26.0000   NaN        S  ,\n",
       "    passengerid  pclass                                        name  gender  \\\n",
       " 0          916       3                 McGowan, Miss. Anna \"Annie\"  female   \n",
       " 1          917       2                         Pinsky, Mrs. (Rosa)  female   \n",
       " 2          918       3           McCarthy, Miss. Catherine Katie\"\"  female   \n",
       " 3          919       3      Franklin, Mr. Charles (Charles Fardon)    male   \n",
       " 4          920       1  Wick, Mrs. George Dennick (Mary Hitchcock)  female   \n",
       " \n",
       "     age  sibsp  parch              ticket      fare cabin embarked  \n",
       " 0  15.0      0      0              330923    8.0292   NaN        Q  \n",
       " 1  32.0      0      0              234604   13.0000   NaN        S  \n",
       " 2   NaN      0      0              383123    7.7500   NaN        Q  \n",
       " 3   NaN      0      0  SOTON/O.Q. 3101314    7.2500   NaN        S  \n",
       " 4  45.0      1      1               36928  164.8667   NaN        S  )"
      ]
     },
     "execution_count": 42,
     "metadata": {},
     "output_type": "execute_result"
    }
   ],
   "source": [
    "train.head(), test.head()"
   ]
  },
  {
   "cell_type": "code",
   "execution_count": 43,
   "metadata": {},
   "outputs": [
    {
     "data": {
      "text/html": [
       "<div>\n",
       "<style scoped>\n",
       "    .dataframe tbody tr th:only-of-type {\n",
       "        vertical-align: middle;\n",
       "    }\n",
       "\n",
       "    .dataframe tbody tr th {\n",
       "        vertical-align: top;\n",
       "    }\n",
       "\n",
       "    .dataframe thead th {\n",
       "        text-align: right;\n",
       "    }\n",
       "</style>\n",
       "<table border=\"1\" class=\"dataframe\">\n",
       "  <thead>\n",
       "    <tr style=\"text-align: right;\">\n",
       "      <th></th>\n",
       "      <th>passengerid</th>\n",
       "      <th>pclass</th>\n",
       "      <th>name</th>\n",
       "      <th>gender</th>\n",
       "      <th>age</th>\n",
       "      <th>sibsp</th>\n",
       "      <th>parch</th>\n",
       "      <th>ticket</th>\n",
       "      <th>fare</th>\n",
       "      <th>cabin</th>\n",
       "      <th>embarked</th>\n",
       "    </tr>\n",
       "  </thead>\n",
       "  <tbody>\n",
       "    <tr>\n",
       "      <th>0</th>\n",
       "      <td>916</td>\n",
       "      <td>3</td>\n",
       "      <td>McGowan, Miss. Anna \"Annie\"</td>\n",
       "      <td>female</td>\n",
       "      <td>15.0</td>\n",
       "      <td>0</td>\n",
       "      <td>0</td>\n",
       "      <td>330923</td>\n",
       "      <td>8.0292</td>\n",
       "      <td>NaN</td>\n",
       "      <td>Q</td>\n",
       "    </tr>\n",
       "    <tr>\n",
       "      <th>1</th>\n",
       "      <td>917</td>\n",
       "      <td>2</td>\n",
       "      <td>Pinsky, Mrs. (Rosa)</td>\n",
       "      <td>female</td>\n",
       "      <td>32.0</td>\n",
       "      <td>0</td>\n",
       "      <td>0</td>\n",
       "      <td>234604</td>\n",
       "      <td>13.0000</td>\n",
       "      <td>NaN</td>\n",
       "      <td>S</td>\n",
       "    </tr>\n",
       "    <tr>\n",
       "      <th>2</th>\n",
       "      <td>918</td>\n",
       "      <td>3</td>\n",
       "      <td>McCarthy, Miss. Catherine Katie\"\"</td>\n",
       "      <td>female</td>\n",
       "      <td>NaN</td>\n",
       "      <td>0</td>\n",
       "      <td>0</td>\n",
       "      <td>383123</td>\n",
       "      <td>7.7500</td>\n",
       "      <td>NaN</td>\n",
       "      <td>Q</td>\n",
       "    </tr>\n",
       "    <tr>\n",
       "      <th>3</th>\n",
       "      <td>919</td>\n",
       "      <td>3</td>\n",
       "      <td>Franklin, Mr. Charles (Charles Fardon)</td>\n",
       "      <td>male</td>\n",
       "      <td>NaN</td>\n",
       "      <td>0</td>\n",
       "      <td>0</td>\n",
       "      <td>SOTON/O.Q. 3101314</td>\n",
       "      <td>7.2500</td>\n",
       "      <td>NaN</td>\n",
       "      <td>S</td>\n",
       "    </tr>\n",
       "    <tr>\n",
       "      <th>4</th>\n",
       "      <td>920</td>\n",
       "      <td>1</td>\n",
       "      <td>Wick, Mrs. George Dennick (Mary Hitchcock)</td>\n",
       "      <td>female</td>\n",
       "      <td>45.0</td>\n",
       "      <td>1</td>\n",
       "      <td>1</td>\n",
       "      <td>36928</td>\n",
       "      <td>164.8667</td>\n",
       "      <td>NaN</td>\n",
       "      <td>S</td>\n",
       "    </tr>\n",
       "  </tbody>\n",
       "</table>\n",
       "</div>"
      ],
      "text/plain": [
       "   passengerid  pclass                                        name  gender  \\\n",
       "0          916       3                 McGowan, Miss. Anna \"Annie\"  female   \n",
       "1          917       2                         Pinsky, Mrs. (Rosa)  female   \n",
       "2          918       3           McCarthy, Miss. Catherine Katie\"\"  female   \n",
       "3          919       3      Franklin, Mr. Charles (Charles Fardon)    male   \n",
       "4          920       1  Wick, Mrs. George Dennick (Mary Hitchcock)  female   \n",
       "\n",
       "    age  sibsp  parch              ticket      fare cabin embarked  \n",
       "0  15.0      0      0              330923    8.0292   NaN        Q  \n",
       "1  32.0      0      0              234604   13.0000   NaN        S  \n",
       "2   NaN      0      0              383123    7.7500   NaN        Q  \n",
       "3   NaN      0      0  SOTON/O.Q. 3101314    7.2500   NaN        S  \n",
       "4  45.0      1      1               36928  164.8667   NaN        S  "
      ]
     },
     "execution_count": 43,
     "metadata": {},
     "output_type": "execute_result"
    }
   ],
   "source": [
    "test.head()"
   ]
  },
  {
   "cell_type": "code",
   "execution_count": 44,
   "metadata": {},
   "outputs": [
    {
     "data": {
      "text/plain": [
       "(0, 0)"
      ]
     },
     "execution_count": 44,
     "metadata": {},
     "output_type": "execute_result"
    }
   ],
   "source": [
    "age_mean = o_train['age'].mean()\n",
    "fare_mean = o_train['fare'].mean()\n",
    "cabin_mode = o_train['cabin'].mode().values[0]\n",
    "embarked_mode = o_train['embarked'].mode().values[0]\n",
    "\n",
    "\n",
    "age_mean, fare_mean, cabin_mode, embarked_mode \n",
    "\n",
    "o_train['age'].fillna(age_mean, inplace=True)\n",
    "o_test['age'].fillna(age_mean, inplace=True)\n",
    "\n",
    "o_train['fare'].fillna(fare_mean, inplace=True)\n",
    "o_test['fare'].fillna(fare_mean, inplace=True)\n",
    "\n",
    "o_train['cabin'].fillna(cabin_mode, inplace=True)\n",
    "o_test['cabin'].fillna(cabin_mode, inplace=True)\n",
    "\n",
    "o_train['embarked'].fillna(embarked_mode, inplace=True)\n",
    "o_test['embarked'].fillna(embarked_mode, inplace=True)\n",
    "\n",
    "o_train.isnull().sum().sum(), o_test.isnull().sum().sum()"
   ]
  },
  {
   "cell_type": "code",
   "execution_count": 45,
   "metadata": {},
   "outputs": [],
   "source": [
    "train_dt = o_train\n",
    "test_dt = o_test"
   ]
  },
  {
   "cell_type": "code",
   "execution_count": 46,
   "metadata": {},
   "outputs": [
    {
     "data": {
      "image/png": "[encoded data removed]",
      "text/plain": [
       "<Figure size 700x500 with 1 Axes>"
      ]
     },
     "metadata": {},
     "output_type": "display_data"
    }
   ],
   "source": [
    "fig, ax = plt.subplots(figsize=(7,5))\n",
    "sns.countplot(data=train_dt, x='pclass', ax=ax)\n",
    "plt.show()"
   ]
  },
  {
   "cell_type": "code",
   "execution_count": 47,
   "metadata": {},
   "outputs": [
    {
     "data": {
      "text/html": [
       "<div>\n",
       "<style scoped>\n",
       "    .dataframe tbody tr th:only-of-type {\n",
       "        vertical-align: middle;\n",
       "    }\n",
       "\n",
       "    .dataframe tbody tr th {\n",
       "        vertical-align: top;\n",
       "    }\n",
       "\n",
       "    .dataframe thead th {\n",
       "        text-align: right;\n",
       "    }\n",
       "</style>\n",
       "<table border=\"1\" class=\"dataframe\">\n",
       "  <thead>\n",
       "    <tr style=\"text-align: right;\">\n",
       "      <th></th>\n",
       "      <th>pclass</th>\n",
       "      <th>survived</th>\n",
       "    </tr>\n",
       "  </thead>\n",
       "  <tbody>\n",
       "    <tr>\n",
       "      <th>0</th>\n",
       "      <td>1</td>\n",
       "      <td>0.577093</td>\n",
       "    </tr>\n",
       "    <tr>\n",
       "      <th>1</th>\n",
       "      <td>2</td>\n",
       "      <td>0.391753</td>\n",
       "    </tr>\n",
       "    <tr>\n",
       "      <th>2</th>\n",
       "      <td>3</td>\n",
       "      <td>0.280808</td>\n",
       "    </tr>\n",
       "  </tbody>\n",
       "</table>\n",
       "</div>"
      ],
      "text/plain": [
       "   pclass  survived\n",
       "0       1  0.577093\n",
       "1       2  0.391753\n",
       "2       3  0.280808"
      ]
     },
     "execution_count": 47,
     "metadata": {},
     "output_type": "execute_result"
    }
   ],
   "source": [
    "train_dt[['pclass', 'survived']].groupby(['pclass'], as_index=False).mean().sort_values(by='survived', ascending=False)"
   ]
  },
  {
   "cell_type": "code",
   "execution_count": 48,
   "metadata": {},
   "outputs": [
    {
     "data": {
      "image/png": "[encoded data removed]",
      "text/plain": [
       "<Figure size 600x600 with 1 Axes>"
      ]
     },
     "metadata": {},
     "output_type": "display_data"
    }
   ],
   "source": [
    "fig, ax = plt.subplots(figsize=(6,6))\n",
    "sns.countplot(data=train_dt, x='pclass', hue='survived', ax=ax)\n",
    "ax.legend(labels=['dead', 'alive'])\n",
    "plt.show()"
   ]
  },
  {
   "attachments": {},
   "cell_type": "markdown",
   "metadata": {},
   "source": [
    "pclass3의 사망률이 높다"
   ]
  },
  {
   "cell_type": "code",
   "execution_count": 49,
   "metadata": {},
   "outputs": [
    {
     "data": {
      "image/png": "[encoded data removed]",
      "text/plain": [
       "<Figure size 600x600 with 1 Axes>"
      ]
     },
     "metadata": {},
     "output_type": "display_data"
    }
   ],
   "source": [
    "fig, ax = plt.subplots(figsize=(6,6))\n",
    "sns.countplot(data=train_dt, x='gender', hue='survived', ax=ax)\n",
    "ax.set(xticklabels=['male', 'female'], xlabel='')\n",
    "ax.legend(labels=['dead', 'alive'])\n",
    "plt.show()"
   ]
  },
  {
   "cell_type": "code",
   "execution_count": 50,
   "metadata": {},
   "outputs": [
    {
     "data": {
      "image/png": "[encoded data removed]",
      "text/plain": [
       "<Figure size 1000x600 with 1 Axes>"
      ]
     },
     "metadata": {},
     "output_type": "display_data"
    }
   ],
   "source": [
    "# 나이 분포\n",
    "\n",
    "fig, ax = plt.subplots(figsize=(10,6))\n",
    "sns.distplot(train_dt['age'], bins=25, ax=ax)\n",
    "plt.show()"
   ]
  },
  {
   "cell_type": "code",
   "execution_count": 51,
   "metadata": {},
   "outputs": [
    {
     "data": {
      "image/png": "[encoded data removed]",
      "text/plain": [
       "<Figure size 700x700 with 2 Axes>"
      ]
     },
     "metadata": {},
     "output_type": "display_data"
    }
   ],
   "source": [
    "# 나이별 생존률\n",
    "\n",
    "age_range_survival_ratio = []\n",
    "age_range_survival_ratio_total = []\n",
    "# 1살 부터 생존율 구하기\n",
    "for i in range(0,20):\n",
    "    age_range_survival_ratio.append(train_dt[train_dt['age'] < i]['survived'].sum() / len(train_dt[train_dt['age'] < i]['survived']))\n",
    "for i in range(0,100):\n",
    "    age_range_survival_ratio_total.append(train_dt[train_dt['age'] < i]['survived'].sum() / len(train_dt[train_dt['age'] < i]['survived']))\n",
    " \n",
    "\n",
    "plt.figure(figsize=(7,7))\n",
    "plt.subplot(2, 1, 1)   \n",
    "plt.plot(age_range_survival_ratio)\n",
    "\n",
    "plt.ylabel('alive')\n",
    "plt.xlabel('age')\n",
    "plt.subplot(2, 1, 2)   \n",
    "plt.plot(age_range_survival_ratio_total)\n",
    "\n",
    "plt.ylabel('alive')\n",
    "plt.xlabel('age')\n",
    " \n",
    "plt.show()"
   ]
  },
  {
   "attachments": {},
   "cell_type": "markdown",
   "metadata": {},
   "source": [
    "나이가 어린 사람의 생존률이 높다"
   ]
  },
  {
   "cell_type": "code",
   "execution_count": 52,
   "metadata": {},
   "outputs": [
    {
     "data": {
      "image/png": "[encoded data removed]",
      "text/plain": [
       "<Figure size 500x600 with 1 Axes>"
      ]
     },
     "metadata": {},
     "output_type": "display_data"
    }
   ],
   "source": [
    "# sibsp \n",
    "fig, ax = plt.subplots(figsize=(5,6))\n",
    "sns.countplot(data=train_dt, x='sibsp')\n",
    "plt.show()"
   ]
  },
  {
   "cell_type": "code",
   "execution_count": 53,
   "metadata": {},
   "outputs": [
    {
     "data": {
      "text/html": [
       "<div>\n",
       "<style scoped>\n",
       "    .dataframe tbody tr th:only-of-type {\n",
       "        vertical-align: middle;\n",
       "    }\n",
       "\n",
       "    .dataframe tbody tr th {\n",
       "        vertical-align: top;\n",
       "    }\n",
       "\n",
       "    .dataframe thead th {\n",
       "        text-align: right;\n",
       "    }\n",
       "</style>\n",
       "<table border=\"1\" class=\"dataframe\">\n",
       "  <thead>\n",
       "    <tr style=\"text-align: right;\">\n",
       "      <th></th>\n",
       "      <th>sibsp</th>\n",
       "      <th>survived</th>\n",
       "    </tr>\n",
       "  </thead>\n",
       "  <tbody>\n",
       "    <tr>\n",
       "      <th>1</th>\n",
       "      <td>1</td>\n",
       "      <td>0.531532</td>\n",
       "    </tr>\n",
       "    <tr>\n",
       "      <th>2</th>\n",
       "      <td>2</td>\n",
       "      <td>0.433333</td>\n",
       "    </tr>\n",
       "    <tr>\n",
       "      <th>0</th>\n",
       "      <td>0</td>\n",
       "      <td>0.333333</td>\n",
       "    </tr>\n",
       "    <tr>\n",
       "      <th>5</th>\n",
       "      <td>5</td>\n",
       "      <td>0.250000</td>\n",
       "    </tr>\n",
       "    <tr>\n",
       "      <th>3</th>\n",
       "      <td>3</td>\n",
       "      <td>0.235294</td>\n",
       "    </tr>\n",
       "    <tr>\n",
       "      <th>6</th>\n",
       "      <td>8</td>\n",
       "      <td>0.166667</td>\n",
       "    </tr>\n",
       "    <tr>\n",
       "      <th>4</th>\n",
       "      <td>4</td>\n",
       "      <td>0.125000</td>\n",
       "    </tr>\n",
       "  </tbody>\n",
       "</table>\n",
       "</div>"
      ],
      "text/plain": [
       "   sibsp  survived\n",
       "1      1  0.531532\n",
       "2      2  0.433333\n",
       "0      0  0.333333\n",
       "5      5  0.250000\n",
       "3      3  0.235294\n",
       "6      8  0.166667\n",
       "4      4  0.125000"
      ]
     },
     "execution_count": 53,
     "metadata": {},
     "output_type": "execute_result"
    }
   ],
   "source": [
    "train_dt[['sibsp', 'survived']].groupby(['sibsp'], as_index=False).mean().sort_values(by='survived', ascending=False)"
   ]
  },
  {
   "cell_type": "code",
   "execution_count": 54,
   "metadata": {},
   "outputs": [
    {
     "data": {
      "image/png": "[encoded data removed]",
      "text/plain": [
       "<Figure size 1000x600 with 1 Axes>"
      ]
     },
     "metadata": {},
     "output_type": "display_data"
    }
   ],
   "source": [
    "fig, ax = plt.subplots(figsize=(10,6))\n",
    "sns.countplot(data=train_dt, x='sibsp', hue='survived', ax=ax)\n",
    "ax.legend(labels=['dead', 'alive'])\n",
    "plt.show()"
   ]
  },
  {
   "cell_type": "code",
   "execution_count": 55,
   "metadata": {},
   "outputs": [
    {
     "data": {
      "image/png": "[encoded data removed]",
      "text/plain": [
       "<Figure size 500x600 with 1 Axes>"
      ]
     },
     "metadata": {},
     "output_type": "display_data"
    }
   ],
   "source": [
    "# parch 분포\n",
    "fig, ax = plt.subplots(figsize=(5,6))\n",
    "sns.countplot(data=train_dt, x='parch')\n",
    "plt.show()"
   ]
  },
  {
   "cell_type": "code",
   "execution_count": 56,
   "metadata": {},
   "outputs": [
    {
     "data": {
      "image/png": "[encoded data removed]",
      "text/plain": [
       "<Figure size 1000x600 with 1 Axes>"
      ]
     },
     "metadata": {},
     "output_type": "display_data"
    }
   ],
   "source": [
    "# parch 생존률\n",
    "fig, ax = plt.subplots(figsize=(10,6))\n",
    "sns.countplot(data=train_dt, x='parch', hue='survived', ax=ax)\n",
    "ax.legend(labels=['dead', 'alive'])\n",
    "plt.show()"
   ]
  },
  {
   "cell_type": "code",
   "execution_count": 57,
   "metadata": {},
   "outputs": [
    {
     "data": {
      "text/html": [
       "<div>\n",
       "<style scoped>\n",
       "    .dataframe tbody tr th:only-of-type {\n",
       "        vertical-align: middle;\n",
       "    }\n",
       "\n",
       "    .dataframe tbody tr th {\n",
       "        vertical-align: top;\n",
       "    }\n",
       "\n",
       "    .dataframe thead th {\n",
       "        text-align: right;\n",
       "    }\n",
       "</style>\n",
       "<table border=\"1\" class=\"dataframe\">\n",
       "  <thead>\n",
       "    <tr style=\"text-align: right;\">\n",
       "      <th></th>\n",
       "      <th>embarked</th>\n",
       "      <th>survived</th>\n",
       "    </tr>\n",
       "  </thead>\n",
       "  <tbody>\n",
       "    <tr>\n",
       "      <th>1</th>\n",
       "      <td>Q</td>\n",
       "      <td>0.493827</td>\n",
       "    </tr>\n",
       "    <tr>\n",
       "      <th>0</th>\n",
       "      <td>C</td>\n",
       "      <td>0.486772</td>\n",
       "    </tr>\n",
       "    <tr>\n",
       "      <th>2</th>\n",
       "      <td>S</td>\n",
       "      <td>0.331269</td>\n",
       "    </tr>\n",
       "  </tbody>\n",
       "</table>\n",
       "</div>"
      ],
      "text/plain": [
       "  embarked  survived\n",
       "1        Q  0.493827\n",
       "0        C  0.486772\n",
       "2        S  0.331269"
      ]
     },
     "execution_count": 57,
     "metadata": {},
     "output_type": "execute_result"
    }
   ],
   "source": [
    "# 항구별 사망률\n",
    "\n",
    "train_dt[['embarked', 'survived']].groupby(['embarked'], as_index=False).mean().sort_values(by='survived', ascending=False)"
   ]
  },
  {
   "cell_type": "code",
   "execution_count": 58,
   "metadata": {},
   "outputs": [
    {
     "data": {
      "image/png": "[encoded data removed]",
      "text/plain": [
       "<Figure size 1000x700 with 1 Axes>"
      ]
     },
     "metadata": {},
     "output_type": "display_data"
    }
   ],
   "source": [
    "# pclass 별로 데이터를 나눠줍니다\n",
    "Pclass1 = train_dt[train_dt['pclass']==1]['embarked'].value_counts()\n",
    "Pclass2 = train_dt[train_dt['pclass']==2]['embarked'].value_counts()\n",
    "Pclass3 = train_dt[train_dt['pclass']==3]['embarked'].value_counts()\n",
    " \n",
    "# DataFrame으로 만들어서 그래프\n",
    "fig, ax = plt.subplots(figsize=(10,7))\n",
    "df = pd.DataFrame([Pclass1, Pclass2, Pclass3])\n",
    "df.index = ['1st class','2nd class','3rd class']\n",
    "df.plot(kind='bar', stacked=True, ax=ax)\n",
    " \n",
    "# xlabel 회전\n",
    "plt.xticks(rotation=45)\n",
    " \n",
    "plt.show()"
   ]
  },
  {
   "attachments": {},
   "cell_type": "markdown",
   "metadata": {},
   "source": [
    "S항구에 class3인 사람이 많다"
   ]
  },
  {
   "cell_type": "code",
   "execution_count": 59,
   "metadata": {},
   "outputs": [
    {
     "data": {
      "image/png": "[encoded data removed]",
      "text/plain": [
       "<Figure size 1300x600 with 2 Axes>"
      ]
     },
     "metadata": {},
     "output_type": "display_data"
    }
   ],
   "source": [
    "fig, ax = plt.subplots(1,2,figsize=(13,6), constrained_layout=True)\n",
    "sns.countplot(data=train_dt, x='sibsp', hue='embarked', ax=ax[0])\n",
    "sns.countplot(data=train_dt, x='parch', hue='embarked', ax=ax[1])\n",
    "\n",
    "ax[0].legend(loc='upper right')\n",
    "ax[1].legend(loc='upper right')\n",
    "plt.show()"
   ]
  },
  {
   "attachments": {},
   "cell_type": "markdown",
   "metadata": {},
   "source": [
    "S항구에 혼자 탄 사람이 많다"
   ]
  },
  {
   "cell_type": "code",
   "execution_count": 60,
   "metadata": {},
   "outputs": [
    {
     "data": {
      "image/png": "[encoded data removed]",
      "text/plain": [
       "<Figure size 1300x600 with 2 Axes>"
      ]
     },
     "metadata": {},
     "output_type": "display_data"
    }
   ],
   "source": [
    "fig, ax = plt.subplots(1,2,figsize=(13,6), constrained_layout=True)\n",
    "\n",
    "sns.countplot(data=train_dt, x='sibsp', hue='pclass', ax=ax[0])\n",
    "sns.countplot(data=train_dt, x='parch', hue='pclass', ax=ax[1])\n",
    "\n",
    "ax[0].legend(loc='upper right')\n",
    "ax[1].legend(loc='upper right')\n",
    "\n",
    "plt.show()"
   ]
  },
  {
   "attachments": {},
   "cell_type": "markdown",
   "metadata": {},
   "source": [
    "S항구에서 혼자 3클래스에 탄 탑승객의 사망률이 높다"
   ]
  },
  {
   "attachments": {},
   "cell_type": "markdown",
   "metadata": {},
   "source": [
    "# Feature 추가 \n",
    "> 성별, 나이에 따른 기초대사랑, 키, 몸무게"
   ]
  },
  {
   "attachments": {},
   "cell_type": "markdown",
   "metadata": {},
   "source": [
    "## 나이, 성별에 따른 기초대사량\n",
    "\n",
    "https://www.joongang.co.kr/article/3564449#home"
   ]
  },
  {
   "cell_type": "code",
   "execution_count": 61,
   "metadata": {},
   "outputs": [],
   "source": [
    "def age_gender_change(age=None, gender=None):\n",
    "    if (age>=0 and age<3 and gender=='male'):\n",
    "        cal=700\n",
    "        return cal\n",
    "    elif (age>=0 and age<3 and gender=='female'):\n",
    "        cal=700\n",
    "        return cal\n",
    "    elif (age>=3 and age<6 and gender=='male'):\n",
    "        cal=900\n",
    "        return cal\n",
    "    elif (age>=3 and age<6 and gender=='female'):\n",
    "        cal=860\n",
    "        return cal\n",
    "    elif (age>=6 and age<9 and gender=='male'):\n",
    "        cal=1090\n",
    "        return cal\n",
    "    elif (age>=6 and age<9 and gender=='female'):\n",
    "        cal=1000\n",
    "        return cal\n",
    "    elif (age>=9 and age<12 and gender=='male'):\n",
    "        cal=1290\n",
    "        return cal\n",
    "    elif (age>=9 and age<12 and gender=='female'):\n",
    "        cal=1180\n",
    "        return cal\n",
    "    elif (age>=12 and age<15 and gender=='male'):\n",
    "        cal=1480\n",
    "        return cal\n",
    "    elif (age>=12 and age<15 and gender=='female'):\n",
    "        cal=1340\n",
    "        return cal\n",
    "    elif (age>=15 and age<18 and gender=='male'):\n",
    "        cal=1610\n",
    "        return cal\n",
    "    elif (age>=15 and age<18 and gender=='female'):\n",
    "        cal=1300\n",
    "        return cal\n",
    "    elif (age>=18 and age<30 and gender=='male'):\n",
    "        cal=1550\n",
    "        return cal\n",
    "    elif (age>=18 and age<30 and gender=='female'):\n",
    "        cal=1210\n",
    "        return cal\n",
    "    elif (age>=30 and age<50 and gender=='male'):\n",
    "        cal=1500\n",
    "        return cal\n",
    "    elif (age>=30 and age<50 and gender=='female'):\n",
    "        cal=1170\n",
    "        return cal\n",
    "    elif (age>=50 and age<70 and gender=='male'):\n",
    "        cal=1350\n",
    "        return cal\n",
    "    elif (age>=50 and age<70 and gender=='female'):\n",
    "        cal=1110\n",
    "        return cal\n",
    "    elif (age>=70 and gender=='male'):\n",
    "        cal=1220\n",
    "        return cal\n",
    "    else:\n",
    "        cal=1010\n",
    "        return cal"
   ]
  },
  {
   "attachments": {},
   "cell_type": "markdown",
   "metadata": {},
   "source": [
    "## 나이, 성별에 따른 키\n",
    "\n",
    "https://m.blog.naver.com/autjymaym/220600088685"
   ]
  },
  {
   "cell_type": "code",
   "execution_count": 62,
   "metadata": {},
   "outputs": [],
   "source": [
    "def age_gender_change2(age=None, gender=None):\n",
    "    if (age>=0 and age<0.25 and gender=='male'):\n",
    "        height=50.1\n",
    "        return height\n",
    "    elif (age>=0 and age<0.25 and gender=='female'):\n",
    "        height=49.4\n",
    "        return height\n",
    "    elif (age>=0.25 and age<0.5 and gender=='male'):\n",
    "        height=67.6\n",
    "        return height\n",
    "    elif (age>=0.25 and age<0.5 and gender=='female'):\n",
    "        height=66.3\n",
    "        return height\n",
    "    elif (age>=0.5 and age<1 and gender=='male'):\n",
    "        height=76\n",
    "        return height\n",
    "    elif (age>=0.5 and age<1 and gender=='female'):\n",
    "        height=74.8\n",
    "        return height\n",
    "    elif (age>=1 and age<1.5 and gender=='male'):\n",
    "        height=81.2\n",
    "        return height\n",
    "    elif (age>=1 and age<1.5 and gender=='female'):\n",
    "        height=79.9\n",
    "        return height\n",
    "    elif (age>=1.5 and age<2 and gender=='male'):\n",
    "        height=86.2\n",
    "        return height\n",
    "    elif (age>=1.5 and age<2 and gender=='female'):\n",
    "        height=85\n",
    "        return height\n",
    "    elif (age>=2 and age<3 and gender=='male'):\n",
    "        height=93.1\n",
    "        return height\n",
    "    elif (age>=2 and age<3 and gender=='female'):\n",
    "        height=91.9\n",
    "        return height\n",
    "    elif (age>=3 and age<4 and gender=='male'):\n",
    "        height=100.3\n",
    "        return height\n",
    "    elif (age>=3 and age<4 and gender=='female'):\n",
    "        height=99.2\n",
    "        return height\n",
    "    elif (age>=4 and age<5 and gender=='male'):\n",
    "        height=107.2\n",
    "        return height\n",
    "    elif (age>=4 and age<5 and gender=='female'):\n",
    "        height=106.1\n",
    "        return height\n",
    "    elif (age>=5 and age<6 and gender=='male'):\n",
    "        height=113.6\n",
    "        return height\n",
    "    elif (age>=5 and age<6 and gender=='female'):\n",
    "        height=112.5\n",
    "        return height\n",
    "    elif (age>=6 and age<7 and gender=='male'):\n",
    "        height=119.5\n",
    "        return height\n",
    "    elif (age>=6 and age<7 and gender=='female'):\n",
    "        height=118.3\n",
    "        return height\n",
    "    elif (age>=7 and age<8 and gender=='male'):\n",
    "        return 123.7\n",
    "    elif (age>=7 and age<8 and gender=='female'):\n",
    "        return 122.4\n",
    "    elif (age>=8 and age<9 and gender=='male'):\n",
    "        return 129.1\n",
    "    elif (age>=8 and age<9 and gender=='female'):\n",
    "        return 127.8\n",
    "    elif (age>=9 and age<10 and gender=='male'):\n",
    "        return 134.2\n",
    "    elif (age>=9 and age<10 and gender=='female'):\n",
    "        return 133.5\n",
    "    elif (age>=10 and age<11 and gender=='male'):\n",
    "        return 139.4\n",
    "    elif (age>=10 and age<11 and gender=='female'):\n",
    "        return 139.9\n",
    "    elif (age>=11 and age<12 and gender=='male'):\n",
    "        return 145.3\n",
    "    elif (age>=11 and age<12 and gender=='female'):\n",
    "        return 146.7\n",
    "    elif (age>=12 and age<13 and gender=='male'):\n",
    "        return 151.8\n",
    "    elif (age>=12 and age<13 and gender=='female'):\n",
    "        return 152.7\n",
    "    elif (age>=13 and age<14 and gender=='male'):\n",
    "        return 159\n",
    "    elif (age>=13 and age<14 and gender=='female'):\n",
    "        return 156.6\n",
    "    elif (age>=14 and age<15 and gender=='male'):\n",
    "        return 165.5\n",
    "    elif (age>=14 and age<15 and gender=='female'):\n",
    "        return 158.5\n",
    "    elif (age>=15 and age<16 and gender=='male'):\n",
    "        return 169.7\n",
    "    elif (age>=15 and age<16 and gender=='female'):\n",
    "        return 159.4\n",
    "    elif (age>=16 and age<17 and gender=='male'):\n",
    "        return 171.8\n",
    "    elif (age>=16 and age<17 and gender=='female'):\n",
    "        return 160\n",
    "    elif (age>=17 and age<18 and gender=='male'):\n",
    "        return 172.8\n",
    "    elif (age>=17 and age<18 and gender=='female'):\n",
    "        return 160.4\n",
    "    elif (age>=18 and gender=='male'):\n",
    "        height=173.4\n",
    "        return height\n",
    "    else:\n",
    "        height=160.7\n",
    "        return height"
   ]
  },
  {
   "attachments": {},
   "cell_type": "markdown",
   "metadata": {},
   "source": [
    "## 나이, 성별에 따른 몸무게"
   ]
  },
  {
   "cell_type": "code",
   "execution_count": 63,
   "metadata": {},
   "outputs": [],
   "source": [
    "def age_gender_change3(age=None, gender=None):\n",
    "    if (age>=0 and age<0.25 and gender=='male'):\n",
    "        return 3.4\n",
    "    elif (age>=0 and age<0.25 and gender=='female'):\n",
    "        return 3.3\n",
    "    elif (age>=0.25 and age<0.5 and gender=='male'):\n",
    "        return 8\n",
    "    elif (age>=0.25 and age<0.5 and gender=='female'):\n",
    "        return 7.5\n",
    "    elif (age>=0.5 and age<1 and gender=='male'):\n",
    "        return 9.9\n",
    "    elif (age>=0.5 and age<1 and gender=='female'):\n",
    "        return 9.4\n",
    "    elif (age>=1 and age<1.5 and gender=='male'):\n",
    "        return 11.1\n",
    "    elif (age>=1 and age<1.5 and gender=='female'):\n",
    "        return 10.5\n",
    "    elif (age>=1.5 and age<2 and gender=='male'):\n",
    "        return 12.3\n",
    "    elif (age>=1.5 and age<2 and gender=='female'):\n",
    "        return 11.7\n",
    "    elif (age>=2 and age<3 and gender=='male'):\n",
    "        return 14\n",
    "    elif (age>=2 and age<3 and gender=='female'):\n",
    "        return 13.4\n",
    "    elif (age>=3 and age<4 and gender=='male'):\n",
    "        return 15.9\n",
    "    elif (age>=3 and age<4 and gender=='female'):\n",
    "        return 15.3\n",
    "    elif (age>=4 and age<5 and gender=='male'):\n",
    "        return 18.1\n",
    "    elif (age>=4 and age<5 and gender=='female'):\n",
    "        return 17.4\n",
    "    elif (age>=5 and age<6 and gender=='male'):\n",
    "        return 20.4\n",
    "    elif (age>=5 and age<6 and gender=='female'):\n",
    "        return 19.6\n",
    "    elif (age>=6 and age<7 and gender=='male'):\n",
    "        return 22.9\n",
    "    elif (age>=6 and age<7 and gender=='female'):\n",
    "        return 22\n",
    "    elif (age>=7 and age<8 and gender=='male'):\n",
    "        return 24.8\n",
    "    elif (age>=7 and age<8 and gender=='female'):\n",
    "        return 23.9\n",
    "    elif (age>=8 and age<9 and gender=='male'):\n",
    "        return 27.8\n",
    "    elif (age>=8 and age<9 and gender=='female'):\n",
    "        return 26.9\n",
    "    elif (age>=9 and age<10 and gender=='male'):\n",
    "        return 31.3\n",
    "    elif (age>=9 and age<10 and gender=='female'):\n",
    "        return 30.5\n",
    "    elif (age>=10 and age<11 and gender=='male'):\n",
    "        return 35.5\n",
    "    elif (age>=10 and age<11 and gender=='female'):\n",
    "        return 35.7\n",
    "    elif (age>=11 and age<12 and gender=='male'):\n",
    "        return 40.3\n",
    "    elif (age>=11 and age<12 and gender=='female'):\n",
    "        return 39.2\n",
    "    elif (age>=12 and age<13 and gender=='male'):\n",
    "        return 45.5\n",
    "    elif (age>=12 and age<13 and gender=='female'):\n",
    "        return 43.8\n",
    "    elif (age>=13 and age<14 and gender=='male'):\n",
    "        return 50.7\n",
    "    elif (age>=13 and age<14 and gender=='female'):\n",
    "        return 47.8\n",
    "    elif (age>=14 and age<15 and gender=='male'):\n",
    "        return 55.4\n",
    "    elif (age>=14 and age<15 and gender=='female'):\n",
    "        return 50.9\n",
    "    elif (age>=15 and age<16 and gender=='male'):\n",
    "        return 59.4\n",
    "    elif (age>=15 and age<16 and gender=='female'):\n",
    "        return 52.8\n",
    "    elif (age>=16 and age<17 and gender=='male'):\n",
    "        return 62.4\n",
    "    elif (age>=16 and age<17 and gender=='female'):\n",
    "        return 53.6\n",
    "    elif (age>=17 and age<18 and gender=='male'):\n",
    "        return 64.5\n",
    "    elif (age>=17 and age<18 and gender=='female'):\n",
    "        return 53.9\n",
    "    elif (age>=18 and gender=='male'):\n",
    "        return 65.8\n",
    "    else:\n",
    "        return 54.1"
   ]
  },
  {
   "cell_type": "code",
   "execution_count": 64,
   "metadata": {},
   "outputs": [],
   "source": [
    "# age 변환\n",
    "def age_change(age=None):\n",
    "    if (age>=0 and age<2):\n",
    "        return 0\n",
    "    elif (age>=2 and age<6):\n",
    "        return 1\n",
    "    elif (age>=6 and age<9):\n",
    "        return 2\n",
    "    elif (age>=9 and age<12):\n",
    "        return 3\n",
    "    elif (age>=12 and age<16):\n",
    "        return 4\n",
    "    elif (age>=16 and age<23):\n",
    "        return 5\n",
    "    elif (age>=23 and age<30):\n",
    "        return 6\n",
    "    elif (age>=30 and age<40):\n",
    "        return 7\n",
    "    else:\n",
    "        return 8\n"
   ]
  },
  {
   "cell_type": "code",
   "execution_count": 65,
   "metadata": {},
   "outputs": [],
   "source": [
    "o_train['title'] = o_train['name'].str.extract('([A-za-z]+)\\.', expand=False)\n",
    "o_test['title'] = o_test['name'].str.extract('([A-za-z]+)\\.', expand=False)\n",
    "\n",
    "\n",
    "title_mapping = {\"Mr\":0, \"Miss\":1, \"Mrs\":2,\n",
    "                \"Master\":3, \"Dr\":3, \"Rev\":3, \"Col\": 3, 'Ms': 3, 'Mlle': 3, \"Major\": 3, 'Lady': 3, 'Capt': 3,\n",
    "                 'Sir': 3, 'Don': 3, 'Mme':3, 'Jonkheer': 3, 'Countess': 3 }\n",
    "\n",
    "o_train['title2']=o_train['title'].map(title_mapping)\n",
    "o_test['title2']=o_test['title'].map(title_mapping)"
   ]
  },
  {
   "attachments": {},
   "cell_type": "markdown",
   "metadata": {},
   "source": [
    "## Feautre 함수 적용"
   ]
  },
  {
   "cell_type": "code",
   "execution_count": 66,
   "metadata": {},
   "outputs": [],
   "source": [
    "o_train['cal'] = o_train.apply(lambda x: age_gender_change(age=x['age'], gender=x['gender']), axis=1)\n",
    "o_test['cal'] = o_test.apply(lambda x: age_gender_change(age=x['age'], gender=x['gender']), axis=1)\n",
    "\n",
    "o_train['height'] = o_train.apply(lambda x: age_gender_change2(age=x['age'], gender=x['gender']), axis=1)\n",
    "o_test['height'] = o_test.apply(lambda x: age_gender_change2(age=x['age'], gender=x['gender']), axis=1)\n",
    "\n",
    "o_train['weight'] = o_train.apply(lambda x: age_gender_change3(age=x['age'], gender=x['gender']), axis=1)\n",
    "o_test['weight'] = o_test.apply(lambda x: age_gender_change3(age=x['age'], gender=x['gender']), axis=1)\n",
    "\n",
    "o_train['bmi'] = o_train.apply(lambda x: x['weight']/x['height']/x['height']*10000, axis=1)\n",
    "o_test['bmi'] = o_test.apply(lambda x: x['weight']/x['height']/x['height']*10000, axis=1)\n",
    "\n",
    "o_train['age2'] = o_train.apply(lambda x: age_change(age=x['age']), axis=1)\n",
    "o_test['age2'] = o_test.apply(lambda x: age_change(age=x['age']), axis=1)\n",
    "\n",
    "o_train['cabin2']=o_train.apply(lambda x: x['cabin'][0], axis=1)\n",
    "o_test['cabin2']=o_train.apply(lambda x: x['cabin'][0], axis=1)\n",
    "#o_train['cabin2'] = o_train['cabin2'].map({'A':1, 'B':2, 'C':3, 'D':4, 'E':5, 'F':6, 'G':7, 'H':8})\n",
    "#o_test['cabin2'] = o_test['cabin2'].map({'A':1, 'B':2, 'C':3, 'D':4, 'E':5, 'F':6, 'G':7, 'H':8})\n"
   ]
  },
  {
   "attachments": {},
   "cell_type": "markdown",
   "metadata": {},
   "source": [
    "## feature 추가"
   ]
  },
  {
   "cell_type": "code",
   "execution_count": 67,
   "metadata": {},
   "outputs": [],
   "source": [
    "# 0220\n",
    "\n",
    "o_train['parch+sibsp'] = o_train.apply(lambda x: x['parch']+x['sibsp']+1, axis=1)\n",
    "o_test['parch+sibsp'] = o_test.apply(lambda x: x['parch']+x['sibsp']+1, axis=1)\n",
    "\n",
    "# o_train['parch*sibsp'] = o_train.apply(lambda x: x['parch']*x['sibsp'], axis=1)\n",
    "# o_test['parch*sibsp'] = o_test.apply(lambda x: x['parch']*x['sibsp'], axis=1)\n",
    "\n",
    "\n",
    "# 0221\n",
    "o_train['sex'] = o_train['gender'].map({'male':1, 'female':0})\n",
    "o_test['sex'] = o_test['gender'].map({'male':1, 'female':0})\n",
    "\n",
    "o_train['name'] = o_train['name'].map(title_mapping)\n",
    "o_test['name'] = o_test['name'].map(title_mapping)\n",
    "\n",
    "o_train['sex+p+s']=o_train['sex']+o_train['parch+sibsp']\n",
    "o_test['sex+p+s']=o_test['sex']+o_test['parch+sibsp']\n",
    "\n",
    "o_train['sex*p+s']=o_train['sex']*o_train['parch+sibsp']\n",
    "o_test['sex*p+s']=o_test['sex']*o_test['parch+sibsp']\n",
    "\n",
    "# o_train['sex+p*s']=o_train['sex']+o_train['parch*sibsp']\n",
    "# o_test['sex+p*s']=o_test['sex']+o_test['parch*sibsp']\n",
    "\n",
    "# o_train['sex*p*s']=o_train['sex']*o_train['parch*sibsp']\n",
    "# o_test['sex*p*s']=o_test['sex']*o_test['parch*sibsp']\n",
    "\n",
    "\n",
    "# 0222\n",
    "o_train['ps*pclass'] = o_train.apply(lambda x: x['parch+sibsp']*x['pclass'], axis=1)\n",
    "o_test['ps*pclass'] = o_test.apply(lambda x: x['parch+sibsp']*x['pclass'], axis=1)\n",
    "\n",
    "o_train['embarked'] = o_train['embarked'].map({'Q':1, 'C':2, 'S':3})\n",
    "o_test['embarked'] = o_test['embarked'].map({'Q':1, 'C':2, 'S':3})\n",
    "\n",
    "o_train['multi'] = o_train['parch+sibsp']-o_train['pclass']-o_train['embarked']-o_train['age2']\n",
    "o_test['multi'] = o_test['parch+sibsp']-o_test['pclass']-o_test['embarked']-o_test['age2']\n",
    "\n",
    "o_train['sum'] = o_train['parch+sibsp']/o_train['pclass']/o_train['embarked']\n",
    "o_test['sum'] = o_test['parch+sibsp']/o_test['pclass']/o_test['embarked']\n",
    "\n",
    "# 0223\n",
    "# height - age2\n",
    "o_train['ha21'] =o_train['height']-o_train['age2']\n",
    "o_test['ha21'] =o_test['height']-o_test['age2']\n",
    "\n",
    "o_train['ha22'] =o_train['height']+o_train['age2']\n",
    "o_test['ha22'] =o_test['height']+o_test['age2']\n",
    "\n",
    "o_train['ha23'] =o_train['height']/o_train['age2']\n",
    "o_test['ha23'] =o_test['height']/o_test['age2']\n",
    "\n",
    "# height - pclass\n",
    "o_train['hp3'] =o_train['height']*o_train['pclass']\n",
    "o_test['hp3'] =o_test['height']*o_test['pclass']\n",
    "\n",
    "o_train['hp4'] =o_train['height']/o_train['pclass']\n",
    "o_test['hp4'] =o_test['height']/o_test['pclass']\n",
    "\n",
    "# height - parch+sibsp\n",
    "o_train['hps1'] =o_train['height']-o_train['parch+sibsp']\n",
    "o_test['hps1'] =o_test['height']-o_test['parch+sibsp']\n",
    "\n",
    "o_train['hps2'] =o_train['height']+o_train['parch+sibsp']\n",
    "o_test['hps2'] =o_test['height']+o_test['parch+sibsp']\n",
    "\n",
    "o_train['hps3'] =o_train['height']/o_train['parch+sibsp']\n",
    "o_test['hps3'] =o_test['height']/o_test['parch+sibsp']\n",
    "\n",
    "# pclass - sex\n",
    "o_train['ps1'] =o_train['pclass']-o_train['sex']\n",
    "o_test['ps1'] =o_test['pclass']-o_test['sex']\n",
    "\n",
    "o_train['ps2'] =o_train['pclass']+o_train['sex']\n",
    "o_test['ps2'] =o_test['pclass']+o_test['sex']\n",
    "\n",
    "o_train['ps3'] =o_train['pclass']*o_train['sex']\n",
    "o_test['ps3'] =o_test['pclass']*o_test['sex']\n",
    "\n",
    "o_train['ps4'] =o_train['pclass']/o_train['sex']\n",
    "o_test['ps4'] =o_test['pclass']/o_test['sex']\n",
    "\n",
    "# sex - parch + sibsp\n",
    "o_train['sps1'] =o_train['parch+sibsp']-o_train['sex']\n",
    "o_test['sps1'] =o_test['parch+sibsp']-o_test['sex']\n",
    "\n",
    "o_train['sps2'] =o_train['parch+sibsp']+o_train['sex']\n",
    "o_test['sps2'] =o_test['parch+sibsp']+o_test['sex']\n",
    "\n",
    "o_train['sps3'] =o_train['parch+sibsp']*o_train['sex']\n",
    "o_test['sps3'] =o_test['parch+sibsp']*o_test['sex']\n",
    "\n",
    "o_train['sps4'] =o_train['parch+sibsp']/o_train['sex']\n",
    "o_test['sps4'] =o_test['parch+sibsp']/o_test['sex']\n",
    "\n",
    "# parch+sibsp / pclass\n",
    "\n",
    "# cabin + gender\n",
    "o_train['cage'] = o_train['cabin'] + o_train['gender']\n",
    "o_test['cage'] = o_test['cabin'] + o_test['gender']\n",
    "\n",
    "\n",
    "o_train['cage2'] = o_train['cabin2'] + o_train['gender']\n",
    "o_test['cage2'] = o_test['cabin2'] + o_test['gender']\n",
    "\n",
    "# ps2, age2\n",
    "o_train['psage21'] =o_train['ps2']-o_train['age2']\n",
    "o_test['psage21'] =o_test['ps2']-o_test['age2']\n",
    "\n",
    "o_train['psage22'] =o_train['ps2']+o_train['age2']\n",
    "o_test['psage22'] =o_test['ps2']+o_test['age2']\n",
    "\n",
    "# bmi cal\n",
    "o_train['bmical1'] =o_train['cal']-o_train['bmi']\n",
    "o_test['bmical1'] =o_test['cal']-o_test['bmi']\n",
    "\n",
    "o_train['bmical2'] =o_train['cal']+o_train['bmi']\n",
    "o_test['bmical2'] =o_test['cal']+o_test['bmi']\n",
    "\n",
    "o_train['bmical3'] =o_train['cal']/o_train['bmi']\n",
    "o_test['bmical3'] =o_test['cal']/o_test['bmi']\n",
    "\n",
    "# embarked / pclass \n",
    "o_train['emp'] =o_train['embarked']*o_train['pclass']\n",
    "o_test['emp'] =o_test['embarked']*o_test['pclass']\n",
    "\n",
    "o_train['hp341'] =o_train['hp3']-o_train['hp4']\n",
    "o_test['hp341'] =o_test['hp3']-o_test['hp4']\n",
    "\n",
    "o_train['hp342'] =o_train['hp3']+o_train['hp4']\n",
    "o_test['hp342'] =o_test['hp3']+o_test['hp4']\n",
    "\n",
    "o_train['hp343'] =o_train['hp3']/o_train['hp4']\n",
    "o_test['hp343'] =o_test['hp3']/o_test['hp4']\n",
    "\n",
    "o_train['fare/pclass'] =o_train['fare']/o_train['pclass']\n",
    "o_test['fare/pclass'] =o_test['fare']/o_test['pclass']\n",
    "\n",
    "o_train['ps/pclass'] =o_train['parch+sibsp']/o_train['pclass']\n",
    "o_test['ps/pclass'] =o_test['parch+sibsp']/o_test['pclass']\n",
    "\n",
    "o_train['sex*ps'] =o_train['parch+sibsp']*o_train['sex']\n",
    "o_test['sex*ps'] =o_test['parch+sibsp']*o_test['sex']\n",
    "\n",
    "o_train['sex*fare'] =o_train['sex']*o_train['fare']\n",
    "o_test['sex*fare'] =o_test['sex']*o_test['fare']\n",
    "\n",
    "o_train['sex*fare/pclass'] =o_train['sex']*o_train['fare']/o_train['pclass']\n",
    "o_test['sex*fare/pclass'] =o_test['sex']*o_test['fare']/o_test['pclass']\n",
    "\n",
    "o_train['sex*fare/pclass/age2'] =o_train['sex']*o_train['fare']/o_train['pclass']/(o_test['age2']+0.0000001)\n",
    "o_test['sex*fare/pclass/age2'] =o_test['sex']*o_test['fare']/o_test['pclass']/(o_test['age2']+0.0000001)\n",
    "\n",
    "o_train['sex*title'] =o_train['sex']*o_train['title']\n",
    "o_test['sex*title'] =o_test['sex']*o_test['title']\n",
    "\n",
    "o_train['sex*fare/pclass/age'] =o_train['sex']*o_train['fare']/o_train['pclass']/(o_test['age']+0.0000001)\n",
    "o_test['sex*fare/pclass/age'] =o_test['sex']*o_test['fare']/o_test['pclass']/(o_test['age']+0.0000001)\n",
    "\n",
    "o_train['sex/pclass/age*title2'] =o_train['sex']/o_train['pclass']/(o_test['age']+0.0000001)*o_train['title2']\n",
    "o_test['sex/pclass/age*title2'] =o_test['sex']/o_test['pclass']/(o_test['age']+0.0000001)*o_train['title2']\n",
    "\n",
    "o_train['cageti'] = o_train['cabin'] + o_train['gender']+o_train['title']\n",
    "o_test['cageti'] = o_test['cabin'] + o_test['gender']+o_test['title']\n",
    "\n"
   ]
  },
  {
   "attachments": {},
   "cell_type": "markdown",
   "metadata": {},
   "source": [
    "# Scaling"
   ]
  },
  {
   "cell_type": "code",
   "execution_count": 68,
   "metadata": {},
   "outputs": [],
   "source": [
    "scaling_cols = ['age', 'fare', 'hp3', 'hp4',  'hps2', 'bmical3', 'hp341', 'fare/pclass']\n",
    "\n",
    "x_tr = o_train[scaling_cols]\n",
    "y_tr = o_train['survived']\n",
    "\n",
    "x_te = o_test[scaling_cols]\n",
    "x_tr.shape, y_tr.shape, x_te.shape\n",
    "\n",
    "from sklearn.preprocessing import QuantileTransformer\n",
    "qtf = QuantileTransformer()\n",
    "qtf.fit(x_tr)\n",
    "x_train_scaled = qtf.transform(x_tr)\n",
    "x_test_scaled = qtf.transform(x_te)"
   ]
  },
  {
   "cell_type": "code",
   "execution_count": 69,
   "metadata": {},
   "outputs": [
    {
     "data": {
      "text/plain": [
       "(0, 0)"
      ]
     },
     "execution_count": 69,
     "metadata": {},
     "output_type": "execute_result"
    }
   ],
   "source": [
    "x_tr.isnull().sum().sum(), x_te.isnull().sum().sum()"
   ]
  },
  {
   "cell_type": "code",
   "execution_count": 70,
   "metadata": {},
   "outputs": [],
   "source": [
    "from sklearn.preprocessing import PowerTransformer\n",
    "ptf = PowerTransformer()\n",
    "#ptf.fit(x_tr)\n",
    "#x_train_scaled = ptf.transform(x_tr)\n",
    "#x_test_scaled = ptf.transform(x_te)\n",
    "\n",
    "from sklearn.preprocessing import QuantileTransformer\n",
    "qtf = QuantileTransformer()\n",
    "qtf.fit(x_tr)\n",
    "x_train_scaled = qtf.transform(x_tr)\n",
    "x_test_scaled = qtf.transform(x_te)\n",
    "\n",
    "from sklearn.preprocessing import StandardScaler\n",
    "std = StandardScaler()\n",
    "#std.fit(x_tr)\n",
    "#x_train_scaled = std.transform(x_tr)\n",
    "#x_test_scaled = std.transform(x_te)\n",
    "\n",
    "from sklearn.preprocessing import MinMaxScaler\n",
    "mas = MinMaxScaler()\n",
    "#mas.fit(x_tr)\n",
    "#x_train_scaled = mas.transform(x_tr)\n",
    "#x_test_scaled = mas.transform(x_te)\n",
    "\n",
    "from sklearn.preprocessing import RobustScaler\n",
    "#rbs = RobustScaler()\n",
    "#x_train_scaled = rbs.fit_transform(x_tr)\n",
    "#x_test_scaled = rbs.transform(x_te)\n",
    "\n",
    "from sklearn.preprocessing import MaxAbsScaler\n",
    "mas = MaxAbsScaler()\n",
    "#mas.fit(x_tr)\n",
    "#x_train_scaled = mas.transform(x_tr)\n",
    "#x_test_scaled = mas.transform(x_te)\n"
   ]
  },
  {
   "cell_type": "code",
   "execution_count": 71,
   "metadata": {},
   "outputs": [
    {
     "data": {
      "text/plain": [
       "(393, 8)"
      ]
     },
     "execution_count": 71,
     "metadata": {},
     "output_type": "execute_result"
    }
   ],
   "source": [
    "x_tr=pd.DataFrame(x_train_scaled, columns=scaling_cols).reset_index(drop=True)\n",
    "x_te=pd.DataFrame(x_test_scaled, columns=scaling_cols).reset_index(drop=True)\n",
    "x_te.shape"
   ]
  },
  {
   "cell_type": "code",
   "execution_count": 72,
   "metadata": {},
   "outputs": [
    {
     "data": {
      "text/plain": [
       "(0, 0)"
      ]
     },
     "execution_count": 72,
     "metadata": {},
     "output_type": "execute_result"
    }
   ],
   "source": [
    "x_tr.isnull().sum().sum(), x_te.isnull().sum().sum()"
   ]
  },
  {
   "attachments": {},
   "cell_type": "markdown",
   "metadata": {},
   "source": [
    "# Encoding\n"
   ]
  },
  {
   "attachments": {},
   "cell_type": "markdown",
   "metadata": {},
   "source": [
    "## Onehot Encoding"
   ]
  },
  {
   "cell_type": "code",
   "execution_count": 73,
   "metadata": {},
   "outputs": [],
   "source": [
    "encoder = ce.OneHotEncoder(use_cat_names=True)\n",
    "encoding_cols1 = []\n",
    "\n",
    "x_tr1 = o_train[encoding_cols1]\n",
    "x_te1 = o_test[encoding_cols1]"
   ]
  },
  {
   "cell_type": "code",
   "execution_count": 74,
   "metadata": {},
   "outputs": [
    {
     "name": "stdout",
     "output_type": "stream",
     "text": [
      "(0, 0) / (0, 0)\n"
     ]
    },
    {
     "data": {
      "text/plain": [
       "Index([], dtype='object')"
      ]
     },
     "execution_count": 74,
     "metadata": {},
     "output_type": "execute_result"
    }
   ],
   "source": [
    "encoder = ce.OneHotEncoder(use_cat_names=True)\n",
    "\n",
    "enco_tr = pd.DataFrame()\n",
    "enco_te = pd.DataFrame()\n",
    "\n",
    "for col in x_tr1.columns:\n",
    "  _enco = encoder.fit_transform(x_tr1[col].astype('category'))\n",
    "  enco_tr = pd.concat([enco_tr, _enco], axis=1)\n",
    "\n",
    "  _enco = encoder.transform(x_te1[col].astype('category'))\n",
    "  enco_te = pd.concat([enco_te, _enco], axis=1)\n",
    "\n",
    "print(f'{enco_tr.shape} / {enco_te.shape}')\n",
    "enco_tr.columns"
   ]
  },
  {
   "cell_type": "code",
   "execution_count": 75,
   "metadata": {},
   "outputs": [
    {
     "data": {
      "text/plain": [
       "((916, 0), (0, 0))"
      ]
     },
     "execution_count": 75,
     "metadata": {},
     "output_type": "execute_result"
    }
   ],
   "source": [
    "x_tr1 = x_tr1.reset_index(drop=True)\n",
    "x_te1 = x_te1.reset_index(drop=True)\n",
    "enco_tr = enco_tr.reset_index(drop=True)\n",
    "enco_te = enco_te.reset_index(drop=True)\n",
    "\n",
    "x_tr1.shape, enco_tr.shape"
   ]
  },
  {
   "cell_type": "code",
   "execution_count": 76,
   "metadata": {},
   "outputs": [
    {
     "name": "stdout",
     "output_type": "stream",
     "text": [
      "(916, 0) / (393, 0)\n"
     ]
    },
    {
     "data": {
      "text/plain": [
       "Index([], dtype='object')"
      ]
     },
     "execution_count": 76,
     "metadata": {},
     "output_type": "execute_result"
    }
   ],
   "source": [
    "encoding_tr1 = pd.concat([x_tr1,enco_tr],axis=1).reset_index(drop=True)\n",
    "encoding_te1 = pd.concat([x_te1,enco_te],axis=1).reset_index(drop=True)\n",
    "\n",
    "print(f'{encoding_tr1.shape} / {encoding_te1.shape}')\n",
    "encoding_tr1.columns"
   ]
  },
  {
   "attachments": {},
   "cell_type": "markdown",
   "metadata": {},
   "source": [
    "## Ordinal Encoding"
   ]
  },
  {
   "cell_type": "code",
   "execution_count": 77,
   "metadata": {},
   "outputs": [],
   "source": [
    "encoding_cols2 = [ 'emp', 'parch+sibsp','sps1','sps2', 'title']\n",
    "encoder = ce.OrdinalEncoder(cols = encoding_cols2)\n",
    "\n",
    "x_tr2 = o_train[encoding_cols2]\n",
    "x_te2 = o_test[encoding_cols2]"
   ]
  },
  {
   "cell_type": "code",
   "execution_count": 78,
   "metadata": {},
   "outputs": [],
   "source": [
    "enco_tr = encoder.fit_transform(x_tr2)\n",
    "enco_te = encoder.transform(x_te2)"
   ]
  },
  {
   "cell_type": "code",
   "execution_count": 79,
   "metadata": {},
   "outputs": [
    {
     "data": {
      "text/plain": [
       "Index(['emp', 'parch+sibsp', 'sps1', 'sps2', 'title'], dtype='object')"
      ]
     },
     "execution_count": 79,
     "metadata": {},
     "output_type": "execute_result"
    }
   ],
   "source": [
    "\n",
    "x_tr2 = x_tr2.reset_index(drop=True)\n",
    "x_te2 = x_te2.reset_index(drop=True)\n",
    "enco_tr = enco_tr.reset_index(drop=True)\n",
    "enco_te = enco_te.reset_index(drop=True)\n",
    "\n",
    "encoding_tr2 = pd.concat([enco_tr],axis=1).reset_index(drop=True)\n",
    "encoding_te2 = pd.concat([enco_te],axis=1).reset_index(drop=True)\n",
    "\n",
    "x_te.isnull().sum(), encoding_te1.isnull().sum(), encoding_te2.isnull().sum()\n",
    "\n",
    "encoding_tr2.columns"
   ]
  },
  {
   "attachments": {},
   "cell_type": "markdown",
   "metadata": {},
   "source": [
    "## Target Encoding"
   ]
  },
  {
   "cell_type": "code",
   "execution_count": 80,
   "metadata": {},
   "outputs": [],
   "source": [
    "encoding_cols3 = ['cage']\n",
    "encoder = ce.TargetEncoder()\n",
    "\n",
    "x_tr3 = o_train[encoding_cols3]\n",
    "x_te3 = o_test[encoding_cols3]\n",
    "target_tr = o_train['survived']"
   ]
  },
  {
   "cell_type": "code",
   "execution_count": 81,
   "metadata": {},
   "outputs": [
    {
     "data": {
      "text/plain": [
       "Index(['cage'], dtype='object')"
      ]
     },
     "execution_count": 81,
     "metadata": {},
     "output_type": "execute_result"
    }
   ],
   "source": [
    "enco_tr = encoder.fit_transform(x_tr3.reset_index(drop=True), target_tr.reset_index(drop=True))\n",
    "enco_te = encoder.transform(x_te3)\n",
    "\n",
    "x_tr3 = x_tr3.reset_index(drop=True)\n",
    "x_te3 = x_te3.reset_index(drop=True)\n",
    "enco_tr = enco_tr.reset_index(drop=True)\n",
    "enco_te = enco_te.reset_index(drop=True)\n",
    "\n",
    "encoding_tr3 = pd.concat([enco_tr],axis=1).reset_index(drop=True)\n",
    "encoding_te3 = pd.concat([enco_te],axis=1).reset_index(drop=True)\n",
    "\n",
    "encoding_tr3.columns"
   ]
  },
  {
   "cell_type": "code",
   "execution_count": 82,
   "metadata": {},
   "outputs": [
    {
     "data": {
      "text/plain": [
       "(cage    0\n",
       " dtype: int64,\n",
       " cage    0\n",
       " dtype: int64)"
      ]
     },
     "execution_count": 82,
     "metadata": {},
     "output_type": "execute_result"
    }
   ],
   "source": [
    "encoding_tr3.isnull().sum(), encoding_te3.isnull().sum()"
   ]
  },
  {
   "attachments": {},
   "cell_type": "markdown",
   "metadata": {},
   "source": [
    "# Scaling & Enncoding DataFrame 합치기"
   ]
  },
  {
   "cell_type": "code",
   "execution_count": 83,
   "metadata": {},
   "outputs": [
    {
     "data": {
      "text/plain": [
       "Index(['emp', 'parch+sibsp', 'sps1', 'sps2', 'title'], dtype='object')"
      ]
     },
     "execution_count": 83,
     "metadata": {},
     "output_type": "execute_result"
    }
   ],
   "source": [
    "df_tr = pd.concat([x_tr, encoding_tr1, encoding_tr2, encoding_tr3],axis=1).reset_index(drop=True)\n",
    "df_te = pd.concat([x_te, encoding_te1, encoding_te2, encoding_te3],axis=1).reset_index(drop=True)\n",
    "df_tr.drop(encoding_cols1, inplace=True, axis=1)\n",
    "df_te.drop(encoding_cols1, inplace=True, axis=1)\n",
    "encoding_tr2.columns"
   ]
  },
  {
   "cell_type": "code",
   "execution_count": 84,
   "metadata": {},
   "outputs": [],
   "source": [
    "y = o_train['survived']"
   ]
  },
  {
   "attachments": {},
   "cell_type": "markdown",
   "metadata": {},
   "source": [
    "# train_test_split"
   ]
  },
  {
   "cell_type": "code",
   "execution_count": 85,
   "metadata": {},
   "outputs": [],
   "source": [
    "from sklearn.model_selection import train_test_split\n",
    "\n",
    "X_tr, X_te, y_tr, y_te = train_test_split(df_tr, y, test_size=0.2, stratify=o_train['survived'], random_state=21)"
   ]
  },
  {
   "cell_type": "code",
   "execution_count": 86,
   "metadata": {},
   "outputs": [
    {
     "data": {
      "text/plain": [
       "((732, 14), (184, 14), (732,))"
      ]
     },
     "execution_count": 86,
     "metadata": {},
     "output_type": "execute_result"
    }
   ],
   "source": [
    "X_tr.shape, X_te.shape, y_tr.shape"
   ]
  },
  {
   "cell_type": "code",
   "execution_count": 87,
   "metadata": {},
   "outputs": [
    {
     "data": {
      "text/plain": [
       "(393, 14)"
      ]
     },
     "execution_count": 87,
     "metadata": {},
     "output_type": "execute_result"
    }
   ],
   "source": [
    "test = pd.concat([df_te, o_test['passengerid']],axis=1).reset_index(drop=True)\n",
    "test.set_index(['passengerid'], inplace=True)\n",
    "test.shape"
   ]
  },
  {
   "attachments": {},
   "cell_type": "markdown",
   "metadata": {},
   "source": [
    "# XGBoosting"
   ]
  },
  {
   "cell_type": "code",
   "execution_count": 88,
   "metadata": {},
   "outputs": [
    {
     "name": "stdout",
     "output_type": "stream",
     "text": [
      "훈련용 평가지표: 0.9139344262295082 / 테스트용 평가지표: 0.875\n"
     ]
    }
   ],
   "source": [
    "from xgboost import XGBClassifier, plot_importance\n",
    "\n",
    "hp = {\n",
    "    \"random_state\" : 42,\n",
    "    \"max_depth\" : 3,\n",
    "    \"n_estimators\" : 400, \n",
    "    \"learning_rate\": 0.01,\n",
    "    \"min_child_weight\": 1,\n",
    "    \"gamma\": 4\n",
    "}\n",
    "\n",
    "xgb = XGBClassifier(**hp).fit(X_tr, y_tr)\n",
    "print(f'훈련용 평가지표: {xgb.score(X_tr, y_tr)} / 테스트용 평가지표: {xgb.score(X_te, y_te)}')\n",
    "test_pred_xgb = xgb.predict_proba(test)[:, 1]"
   ]
  },
  {
   "attachments": {},
   "cell_type": "markdown",
   "metadata": {},
   "source": [
    "# 점수확인"
   ]
  },
  {
   "cell_type": "code",
   "execution_count": 89,
   "metadata": {},
   "outputs": [
    {
     "data": {
      "text/plain": [
       "0.9186716791979951"
      ]
     },
     "execution_count": 89,
     "metadata": {},
     "output_type": "execute_result"
    }
   ],
   "source": [
    "from sklearn.metrics import roc_curve, auc \n",
    "# xgb\n",
    "pred = xgb.predict_proba(X_te)[:, 1]\n",
    "fpr, tpr, _ = roc_curve(y_te, pred) \n",
    "auc(fpr, tpr)"
   ]
  },
  {
   "attachments": {},
   "cell_type": "markdown",
   "metadata": {},
   "source": [
    "# 결과 저장"
   ]
  },
  {
   "cell_type": "code",
   "execution_count": 90,
   "metadata": {},
   "outputs": [
    {
     "data": {
      "text/html": [
       "<div>\n",
       "<style scoped>\n",
       "    .dataframe tbody tr th:only-of-type {\n",
       "        vertical-align: middle;\n",
       "    }\n",
       "\n",
       "    .dataframe tbody tr th {\n",
       "        vertical-align: top;\n",
       "    }\n",
       "\n",
       "    .dataframe thead th {\n",
       "        text-align: right;\n",
       "    }\n",
       "</style>\n",
       "<table border=\"1\" class=\"dataframe\">\n",
       "  <thead>\n",
       "    <tr style=\"text-align: right;\">\n",
       "      <th></th>\n",
       "      <th>passengerid</th>\n",
       "      <th>survived</th>\n",
       "    </tr>\n",
       "  </thead>\n",
       "  <tbody>\n",
       "    <tr>\n",
       "      <th>0</th>\n",
       "      <td>916</td>\n",
       "      <td>0.740338</td>\n",
       "    </tr>\n",
       "    <tr>\n",
       "      <th>1</th>\n",
       "      <td>917</td>\n",
       "      <td>0.919232</td>\n",
       "    </tr>\n",
       "    <tr>\n",
       "      <th>2</th>\n",
       "      <td>918</td>\n",
       "      <td>0.759542</td>\n",
       "    </tr>\n",
       "    <tr>\n",
       "      <th>3</th>\n",
       "      <td>919</td>\n",
       "      <td>0.089305</td>\n",
       "    </tr>\n",
       "    <tr>\n",
       "      <th>4</th>\n",
       "      <td>920</td>\n",
       "      <td>0.964304</td>\n",
       "    </tr>\n",
       "  </tbody>\n",
       "</table>\n",
       "</div>"
      ],
      "text/plain": [
       "   passengerid  survived\n",
       "0          916  0.740338\n",
       "1          917  0.919232\n",
       "2          918  0.759542\n",
       "3          919  0.089305\n",
       "4          920  0.964304"
      ]
     },
     "execution_count": 90,
     "metadata": {},
     "output_type": "execute_result"
    }
   ],
   "source": [
    "# 변수명, 파일명 수정\n",
    "submission = pd.read_csv(\"C:\\project\\datapre\\.venv\\Data Engineering\\Data\\kaggle_competition\\\\submission.csv\")\n",
    "submission['survived'] = test_pred_xgb\n",
    "\n",
    "submission.head()"
   ]
  },
  {
   "cell_type": "code",
   "execution_count": 91,
   "metadata": {},
   "outputs": [],
   "source": [
    "submission.to_csv(\"C:\\project\\datapre\\.venv\\Data Engineering\\Data\\kaggle_competition\\\\submission0223_3.csv\", header=True, index = False)"
   ]
  },
  {
   "attachments": {},
   "cell_type": "markdown",
   "metadata": {},
   "source": [
    "# feature_importances 분석"
   ]
  },
  {
   "cell_type": "code",
   "execution_count": 92,
   "metadata": {},
   "outputs": [
    {
     "data": {
      "image/png": "[encoded data removed]",
      "text/plain": [
       "<Figure size 640x480 with 1 Axes>"
      ]
     },
     "metadata": {},
     "output_type": "display_data"
    }
   ],
   "source": [
    "import matplotlib.pyplot as plt\n",
    "plot_importance(xgb)\n",
    "plt.show()"
   ]
  },
  {
   "cell_type": "code",
   "execution_count": 93,
   "metadata": {},
   "outputs": [
    {
     "data": {
      "image/png": "[encoded data removed]",
      "text/plain": [
       "<Figure size 1000x800 with 1 Axes>"
      ]
     },
     "metadata": {},
     "output_type": "display_data"
    }
   ],
   "source": [
    "plt.figure(figsize=(10,8))\n",
    "\n",
    "sns.barplot(x=xgb.feature_importances_,y=df_tr.columns)\n",
    "plt.show()"
   ]
  }
 ],
 "metadata": {
  "kernelspec": {
   "display_name": "Python 3",
   "language": "python",
   "name": "python3"
  },
  "language_info": {
   "codemirror_mode": {
    "name": "ipython",
    "version": 3
   },
   "file_extension": ".py",
   "mimetype": "text/x-python",
   "name": "python",
   "nbconvert_exporter": "python",
   "pygments_lexer": "ipython3",
   "version": "3.11.1"
  },
  "orig_nbformat": 4,
  "vscode": {
   "interpreter": {
    "hash": "92917df8dc556877081e077b52d14485c39b602bd4533d5b9058a16923a95ac9"
   }
  }
 },
 "nbformat": 4,
 "nbformat_minor": 2
}
